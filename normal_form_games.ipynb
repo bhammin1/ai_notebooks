{
 "cells": [
  {
   "cell_type": "markdown",
   "metadata": {},
   "source": [
    "# Module 5 - Programming Assignment\n",
    "\n",
    "## Directions\n",
    "\n",
    "1. Change the name of this file to be your JHED id as in `jsmith299.ipynb`. Because sure you use your JHED ID (it's made out of your name and not your student id which is just letters and numbers).\n",
    "2. Make sure the notebook you submit is cleanly and fully executed. I do not grade unexecuted notebooks.\n",
    "3. Submit your notebook back in Blackboard where you downloaded this file.\n",
    "\n",
    "*Provide the output **exactly** as requested*"
   ]
  },
  {
   "cell_type": "markdown",
   "metadata": {},
   "source": [
    "## Solving Normal Form Games"
   ]
  },
  {
   "cell_type": "code",
   "execution_count": 1,
   "metadata": {
    "vscode": {
     "languageId": "python"
    }
   },
   "outputs": [],
   "source": [
    "from typing import List, Tuple, Dict, Callable\n",
    "from copy import deepcopy"
   ]
  },
  {
   "cell_type": "markdown",
   "metadata": {},
   "source": [
    "In the lecture we talked about the Prisoner's Dilemma game, shown here in Normal Form:\n",
    "\n",
    "Player 1 / Player 2  | Defect | Cooperate\n",
    "------------- | ------------- | -------------\n",
    "Defect  | -5, -5 | -1, -10\n",
    "Cooperate  | -10, -1 | -2, -2\n",
    "\n",
    "where the payoff to Player 1 is the left number and the payoff to Player 2 is the right number. We can represent each payoff cell as a Tuple: `(-5, -5)`, for example. We can represent each row as a List of Tuples: `[(-5, -5), (-1, -10)]` would be the first row and the entire table as a List of Lists:"
   ]
  },
  {
   "cell_type": "code",
   "execution_count": 2,
   "metadata": {
    "vscode": {
     "languageId": "python"
    }
   },
   "outputs": [
    {
     "data": {
      "text/plain": [
       "[[(-5, -5), (-1, -10)], [(-10, -1), (-2, -2)]]"
      ]
     },
     "execution_count": 2,
     "metadata": {},
     "output_type": "execute_result"
    }
   ],
   "source": [
    "prisoners_dilemma = [\n",
    " [( -5, -5), (-1,-10)],\n",
    " [(-10, -1), (-2, -2)]]\n",
    "\n",
    "prisoners_dilemma"
   ]
  },
  {
   "cell_type": "code",
   "execution_count": 3,
   "metadata": {
    "vscode": {
     "languageId": "python"
    }
   },
   "outputs": [],
   "source": [
    "self_check_game = [\n",
    " [( 10, 10), (14,12),(14,15)],\n",
    " [(12,14), (20,20), (28,15)]\n",
    " ,[(15,14), (15,28), (25,25)]]"
   ]
  },
  {
   "attachments": {},
   "cell_type": "markdown",
   "metadata": {},
   "source": [
    "<a id=\"get_player_values\"></a>\n",
    "## get_player_values\n",
    "\n",
    "Based on the player selected, will return values of each strategy for a given player\n",
    "\n",
    "* **game** List[List[Tuple]]: List of all strategies for both players in a game\n",
    "* **player** int:0 for player 1 or 2 for player 2\n",
    "\n",
    "**returns** List[List[int]]: a list of lists for a given player"
   ]
  },
  {
   "cell_type": "code",
   "execution_count": 5,
   "metadata": {
    "vscode": {
     "languageId": "python"
    }
   },
   "outputs": [],
   "source": [
    "def get_player_values(game:List[List[Tuple]], player:int)-> List[List[int]]:\n",
    "    values = []\n",
    "    for row in game:\n",
    "        row_list = []\n",
    "        for item in row:\n",
    "            row_list.append(item[player])\n",
    "        values.append(row_list)\n",
    "\n",
    "    return values\n"
   ]
  },
  {
   "cell_type": "code",
   "execution_count": 6,
   "metadata": {
    "vscode": {
     "languageId": "python"
    }
   },
   "outputs": [],
   "source": [
    "# Check prisoner one values are correct, the first value\n",
    "prisoner_1 = get_player_values(prisoners_dilemma, 0)\n",
    "assert prisoner_1 == [[-5, -1], [-10, -2]]\n",
    "\n",
    "#check prisoner 2 values are correct, the second value\n",
    "prisoner_2 = get_player_values(prisoners_dilemma, 1)\n",
    "assert prisoner_2 == [[-5, -10], [-1, -2]]\n",
    "\n",
    "# check a list the same shape as the game\n",
    "player_1 = get_player_values(self_check_game, 0)\n",
    "player_2 = get_player_values(self_check_game, 1)\n",
    "\n",
    "assert len(player_2) == len(self_check_game)\n",
    "assert len(player_1) == len(self_check_game)\n",
    "\n",
    "assert len(player_2[0]) == len(self_check_game[0])\n",
    "assert len(player_1[0]) == len(self_check_game[0])"
   ]
  },
  {
   "attachments": {},
   "cell_type": "markdown",
   "metadata": {},
   "source": [
    "<a id=\"dominated\"></a>\n",
    "## dominated\n",
    "\n",
    "- Find whether the candidate record is dominated by the compare record.\n",
    "- Each item in the records is evaulated one at a time.\n",
    "- Dominated by can be weakly or strongly depending on the weak indicator\n",
    "- Will return true is the candidated is dominated by compare record, else false\n",
    "\n",
    "* **candidate** List[int]: list of values for a given strategy\n",
    "* **compare** List[int]:list of values for a given strategy (different than candidate)\n",
    "* **weak** bool: indicator is dominance should be weakly or strongly. \n",
    "\n",
    "**returns** bool: indicator is dominated by other other strategy or not"
   ]
  },
  {
   "cell_type": "code",
   "execution_count": 7,
   "metadata": {
    "vscode": {
     "languageId": "python"
    }
   },
   "outputs": [],
   "source": [
    "def dominated(candidate:List[int], compare:List[int], weak:bool)->bool:\n",
    "    dominated_cnt = equal_cnt = 0\n",
    "    if len(candidate) != len(compare):\n",
    "        return False\n",
    "    # compare scores\n",
    "    for i in range(len(candidate)):\n",
    "        if candidate[i] < compare[i]:\n",
    "            dominated_cnt +=1\n",
    "        if candidate[i] == compare[i]:\n",
    "            equal_cnt +=1\n",
    "    \n",
    "    if dominated_cnt == len(candidate):# strongly dominated\n",
    "        return True\n",
    "    elif equal_cnt == len(candidate): \n",
    "        return False\n",
    "    # weakly dominated\n",
    "    elif (dominated_cnt + equal_cnt) == len(candidate) and weak:\n",
    "        return True\n",
    "    else:\n",
    "        return False"
   ]
  },
  {
   "cell_type": "code",
   "execution_count": 8,
   "metadata": {
    "vscode": {
     "languageId": "python"
    }
   },
   "outputs": [
    {
     "name": "stdout",
     "output_type": "stream",
     "text": [
      "Weakly Dominate Example\n",
      " [10, 12, 15] [14, 20, 15]\n",
      "Strongly Dominate Example\n",
      " [10, 14, 14] [12, 20, 28]\n",
      "Opposite direction of strongly dominate\n",
      " [12, 20, 28] [10, 14, 14]\n"
     ]
    }
   ],
   "source": [
    "# check weakly dominated case returns true when weakind is true\n",
    "print(\"Weakly Dominate Example\\n\",player_2[0], player_2[1])\n",
    "assert dominated(player_2[0], player_2[1], True) == True\n",
    "# check weakly dominated case returns false when weakind is false\n",
    "assert dominated(player_2[0], player_2[1], False) == False\n",
    "\n",
    "# Check strongly dominate case returns true\n",
    "print(\"Strongly Dominate Example\\n\",player_1[0], player_1[1])\n",
    "assert dominated(player_1[0], player_1[1], False) == True\n",
    "\n",
    "# check fails if the opposite way\n",
    "print(\"Opposite direction of strongly dominate\\n\",player_1[1], player_1[0])\n",
    "assert dominated(player_1[1], player_1[0], False) == False\n",
    "\n",
    "#check false returned is the two lists are diff sizes\n",
    "assert dominated([5,6], [8,9,10], False) == False"
   ]
  },
  {
   "attachments": {},
   "cell_type": "markdown",
   "metadata": {},
   "source": [
    "<a id=\"player_2_eval\"></a>\n",
    "## player_2_eval\n",
    "\n",
    "- Player 2 strategies are evaulated column wise. \n",
    "- Function loops through the strategies (column wise) and finds if a strategy is dominated or not. \n",
    "- Dominated can be weakly or strongly based on the weak indicator \n",
    "- Will return the stragety (not the value) if a stragety is dominated \n",
    "- Otherwise, will return none\n",
    "\n",
    "* **player** player List[List[int]]: List of all strategy values for a player\n",
    "* **strategies** List[int]: List of strategies available by name. No values here\n",
    "* **weak** bool: indicator is dominance should be weakly or strongly. \n",
    "\n",
    "\n",
    "**returns** int: strategy that is dominated"
   ]
  },
  {
   "cell_type": "code",
   "execution_count": 9,
   "metadata": {
    "vscode": {
     "languageId": "python"
    }
   },
   "outputs": [],
   "source": [
    "def player_2_eval(player:List[List[int]], strategies:List[int], weak:bool)->int:\n",
    "    strategies_cnt = len(strategies)\n",
    "\n",
    "    # loop per strategie to check if dominated\n",
    "    for col in range(strategies_cnt):\n",
    "        candidate = [row[col] for row in player]\n",
    "\n",
    "        # find strategy to compare candidate against \n",
    "        for col_2 in range(strategies_cnt):\n",
    "\n",
    "            if col == col_2: # if same strategy then skip \n",
    "                continue\n",
    "            else:\n",
    "                compare =  [row[col_2] for row in player]\n",
    "                dom_ind = dominated(candidate, compare, weak)\n",
    "                if dom_ind:# if dominated col found, return the col name\n",
    "                    return strategies[col]\n",
    "    return None               "
   ]
  },
  {
   "cell_type": "code",
   "execution_count": 15,
   "metadata": {
    "vscode": {
     "languageId": "python"
    }
   },
   "outputs": [],
   "source": [
    "#check if dominated strategy is found, then the strategy name is returned\n",
    "strats = [2,4,5]\n",
    "v = player_2_eval(player_2, strats, False)\n",
    "assert v in strats\n",
    "# check player two strategy 2 (first) is returned \n",
    "assert v == 2\n",
    "\n",
    "#check if no dominated col exists, None is returned\n",
    "player_equal = [[1,1,1],[1,1,1], [1,1,1]]\n",
    "v2 = player_2_eval(player_equal, strats, False)\n",
    "assert v2 == None\n",
    "\n",
    "# check returns first weakly dominated column\n",
    "player_2_demo = [[20,20,10],[25,10,2], [30,10,1]]\n",
    "v3 = player_2_eval(player_2_demo, strats, True)\n",
    "assert v3 == 4\n",
    "\n",
    "# check the strongly dominated column is returned\n",
    "v4 = player_2_eval(player_2_demo, strats, False)\n",
    "assert v4 == 5"
   ]
  },
  {
   "attachments": {},
   "cell_type": "markdown",
   "metadata": {},
   "source": [
    "<a id=\"player_1_eval\"></a>\n",
    "## player_1_eval\n",
    "\n",
    "- Player 1 strategies are evaulated row wise. \n",
    "- Function loops through the strategies (row wise) and finds if a strategy is dominated or not. \n",
    "- Dominated can be weakly or strongly based on the weak indicator \n",
    "- Will return the stragety (not the value) if a stragety is dominated \n",
    "- Otherwise, will return none\n",
    "\n",
    "* **player** player List[List[int]]: List of all strategy values for a player\n",
    "* **strategies** List[int]: List of strategies available by name. No values here\n",
    "* **weak** bool: indicator is dominance should be weakly or strongly. \n",
    "\n",
    "\n",
    "**returns** int: strategy that is dominated"
   ]
  },
  {
   "cell_type": "code",
   "execution_count": 11,
   "metadata": {
    "vscode": {
     "languageId": "python"
    }
   },
   "outputs": [],
   "source": [
    "def player_1_eval(player:List[List[int]], strategies:List[int], weak:bool)->int:\n",
    "    strategies_cnt = len(strategies)\n",
    "\n",
    "    # loop per strategie to check if dominated\n",
    "    for row in range(strategies_cnt):\n",
    "        candidate = player[row]\n",
    "\n",
    "        # find strategy to compare candidate against \n",
    "        for row_2 in range(strategies_cnt):\n",
    "\n",
    "            if row == row_2: # if same strategy then skip \n",
    "                continue\n",
    "            else:\n",
    "                compare =  player[row_2]\n",
    "                dom_ind = dominated(candidate, compare, weak)\n",
    "                if dom_ind:# if dominated col found, return the col name\n",
    "                    return strategies[row]\n",
    "    return None"
   ]
  },
  {
   "cell_type": "code",
   "execution_count": 16,
   "metadata": {
    "vscode": {
     "languageId": "python"
    }
   },
   "outputs": [],
   "source": [
    "#check if dominated strategy is found, then the strategy name is returned\n",
    "strats = [2,4,5]\n",
    "v = player_1_eval(player_1, strats, False)\n",
    "assert v in strats\n",
    "# check player two strategy 14 (first) is returned \n",
    "assert v == 2\n",
    "\n",
    "#check if no dominated col exists, None is returned\n",
    "player_equal = [[1,1,1],[1,1,1], [1,1,1]]\n",
    "v2 = player_1_eval(player_equal, strats, False)\n",
    "assert v2 == None\n",
    "\n",
    "# check returns first weakly dominated column\n",
    "player_1_demo = [[20,20,10],[16,20,2], [15,10,1]]\n",
    "v3 = player_1_eval(player_1_demo, strats, True)\n",
    "assert v3 == 4\n",
    "\n",
    "# check the strongly dominated column is returned\n",
    "v4 = player_1_eval(player_1_demo, strats, False)\n",
    "assert v4 == 5"
   ]
  },
  {
   "attachments": {},
   "cell_type": "markdown",
   "metadata": {},
   "source": [
    "<a id=\"reduce_board\"></a>\n",
    "## reduce_board\n",
    "\n",
    "- Reduces the board by removing the weak strategy found\n",
    "- Returns a reduced board for both players and reduces strategy list\n",
    "\n",
    "* **player1**  List[List[int]]: List of strategies currently left for player 1. Contains values of strategies\n",
    "* **player2** List[List[int]]:List of strategies currently left for player 2. Contains values of strategies\n",
    "* **strategies** List[int]: List of current strategies available for a given player (player field in params)\n",
    "* **eliminate_strat** int: strategy to eliminate. This is the weak strategy\n",
    "* **player** int: player for the weak strategy that is going to be remove. 1 or 2 \n",
    "\n",
    "\n",
    "**returns** Tupe[List[List[int]],List[List[int]],List[int]]: both players remianing strategy values and list of strategies list for a given player"
   ]
  },
  {
   "cell_type": "code",
   "execution_count": 13,
   "metadata": {
    "vscode": {
     "languageId": "python"
    }
   },
   "outputs": [],
   "source": [
    "def reduce_board(player1:List[List[int]], player2:List[List[int]], strategies:List[int], eliminate_strat:int, player:int)->Tuple:\n",
    "    p1 = deepcopy(player1)\n",
    "    p2 = deepcopy(player2)\n",
    "    strat_copy = deepcopy(strategies)\n",
    "    strat_index = strategies.index(eliminate_strat)\n",
    "    \n",
    "    if player == 1:# remove by row\n",
    "        p1.pop(strat_index)\n",
    "        p2.pop(strat_index)\n",
    "        strat_copy.pop(strat_index)\n",
    "    \n",
    "    elif player ==2 :#remove by col\n",
    "        p1 = [[row[col] for col in range(len(row)) if col != strat_index ] for row in p1]\n",
    "        p2 = [[row[col] for col in range(len(row)) if col != strat_index ] for row in p2]\n",
    "        strat_copy.pop(strat_index)\n",
    "    \n",
    "    else:# not a valid player selected\n",
    "        pass\n",
    "    return p1, p2, strat_copy"
   ]
  },
  {
   "cell_type": "code",
   "execution_count": 14,
   "metadata": {
    "vscode": {
     "languageId": "python"
    }
   },
   "outputs": [],
   "source": [
    "strats_test = [2,4,5]\n",
    "p1, p2, strat = reduce_board(player_1, player_2,strats_test, 4, 1)\n",
    "# verfiy none of the original lists changed\n",
    "assert player_1 != p1\n",
    "assert player_2 != p2\n",
    "assert strat != strats_test\n",
    "\n",
    "#verify the length of each list is one smaller in size\n",
    "# removal of a row (player 1)\n",
    "assert len(player_1) -1 == len(p1)\n",
    "assert len(player_2) -1 == len(p2)\n",
    "assert len(strat) == len(strats_test) -1\n",
    "\n",
    "#verify removing by col (player 2)\n",
    "# each row should be one size smaller\n",
    "p3, p4, strat2 = reduce_board(p1, p2, [2,4,5], 4, 2)\n",
    "for row_index in range(len(p3)):\n",
    "    assert len(p3[row_index]) == len(p1[row_index]) - 1\n",
    "    assert len(p4[row_index]) == len(p2[row_index]) - 1\n",
    "assert len(strat2) == len(strats_test) -1"
   ]
  },
  {
   "cell_type": "markdown",
   "metadata": {},
   "source": [
    "in which case the strategies are represented by indices into the List of Lists. For example, `(Defect, Cooperate)` for the above game becomes `prisoners_dilemma[ 0][ 1]` and returns the payoff `(-1, -10)` because 0 is the first row of the table (\"Defect\" for Player 1) and 1 is the 2nd column of the row (\"Cooperate\" for Player 2).\n",
    "\n",
    "For this assignment, you are going write a function that uses Successive Elimination of Dominated Strategies (SEDS) to find the **pure strategy** Nash Equilibrium of a Normal Form Game. The function is called `solve_game`:\n",
    "\n",
    "```python\n",
    "def solve_game( game: List[List[Tuple]], weak=False) -> Tuple:\n",
    "    pass # returns strategy indices of Nash equilibrium or None.\n",
    "```\n",
    "\n",
    "and it takes two parameters: the game, in a format that we described earlier and an optional boolean flag that controls whether the algorithm considers only **strongly dominated strategies** (the default will be false) or whether it should consider **weakly dominated strategies** as well.\n",
    "\n",
    "It should work with game matrices of any size and it will return the **strategy indices** of the Nash Equilibrium. If there is no **pure strategy** equilibrium that can be found using SEDS, return `None`.\n",
    "\n",
    "\n",
    "<div style=\"background: mistyrose; color: firebrick; border: 2px solid darkred; padding: 5px; margin: 10px;\">\n",
    "Do not return the payoff. That's not useful. Return the strategy indices, any other output is incorrect.\n",
    "</div>\n",
    "\n",
    "As before, you must provide your implementation in the space below, one Markdown cell for documentation and one Code cell for implementation, one function and assertations per Codecell.\n",
    "\n",
    "\n",
    "---"
   ]
  },
  {
   "attachments": {},
   "cell_type": "markdown",
   "metadata": {},
   "source": [
    "<a id=\"solve_game\"></a>\n",
    "## solve_game\n",
    "\n",
    "- Using the Successive Elimination of Dominated Strategies (SEDS), returns the **pure strategy** Nash Equilibrium of a Normal Form Game.\n",
    "- The strategy is returned not the value of pure strategy found\n",
    "\n",
    "* **game** List[List[Tuple]]: List of all strategies per both players in a game\n",
    "* **weak** bool: indicator is dominance should be weakly or strongly. \n",
    "\n",
    "\n",
    "**returns** Tuple(int,int): returns the Nash Equilibrium"
   ]
  },
  {
   "cell_type": "code",
   "execution_count": 17,
   "metadata": {
    "vscode": {
     "languageId": "python"
    }
   },
   "outputs": [],
   "source": [
    "def solve_game(game: List[List[Tuple]], weak:bool=False) -> Tuple:\n",
    "    strategies_remaining = [[i for i in range(len(game))], [i for i in range(len(game[0]))]] # [player1, player2]\n",
    "    player_1 = get_player_values(game, 0)\n",
    "    player_2 = get_player_values(game, 1)\n",
    "    \n",
    "    while(True): \n",
    "        if len(strategies_remaining[1]) ==len(strategies_remaining[0]) == 1: # only one strategy left for each player\n",
    "            return (strategies_remaining[0][0], strategies_remaining[1][0])\n",
    "        player1_eliminate = player_1_eval(player_1, strategies_remaining[0], weak)\n",
    "        if player1_eliminate != None:\n",
    "            player1_changes = reduce_board(player_1, player_2, strategies_remaining[0],player1_eliminate, 1)\n",
    "            player_1, player_2, strategies_remaining[0] = player1_changes\n",
    "\n",
    "        player2_eliminate = player_2_eval(player_2, strategies_remaining[1], weak)\n",
    "        if player2_eliminate != None:\n",
    "            player2_changes = reduce_board(player_1, player_2, strategies_remaining[1],player2_eliminate, 2)\n",
    "            player_1, player_2, strategies_remaining[1] = player2_changes\n",
    "        if player2_eliminate == None and player1_eliminate == None: # no weak strat found for either player\n",
    "            return None         \n",
    "    return None"
   ]
  },
  {
   "cell_type": "code",
   "execution_count": 18,
   "metadata": {
    "vscode": {
     "languageId": "python"
    }
   },
   "outputs": [],
   "source": [
    "prisoners_dilemma\n",
    "# check game can be solved with multiple shaped games\n",
    "prison_strat = solve_game(prisoners_dilemma, True)\n",
    "assert prison_strat != None\n",
    "# self check \n",
    "self_check_strat = solve_game(self_check_game, True)\n",
    "assert self_check_strat != None\n",
    "\n",
    "#check only a single tuple is returned\n",
    "assert len(prison_strat)  == 2\n",
    "\n",
    "# check solution is index is returned not value of strategy\n",
    "# all prisoner values are negative\n",
    "assert prison_strat[0] >= 0 and prison_strat[1] >= 0\n",
    "\n",
    "#check strategy is correct\n",
    "\n",
    "assert prison_strat == (0,0)\n",
    "assert self_check_strat == (1,1)"
   ]
  },
  {
   "cell_type": "markdown",
   "metadata": {},
   "source": [
    "## Additional Directions\n",
    "\n",
    "Create three games as described and according to the following:\n",
    "\n",
    "1. Your games must be created and solved \"by hand\".\n",
    "2. The strategy pairs must **not** be on the main diagonal (0, 0), (1, 1), or (2, 2). And the solution cannot be the same for both Game 1 and Game 2.\n",
    "3. Make sure you fill out the Markdown (\"?\") with your game as well as the solution (\"?\").\n",
    "4. Remember, **do not return the payoff**, return the strategy indices.\n",
    "\n",
    "For games that can be solved with *weak* SEDS, there may be more than one solution. You only need to return the first solution found. However, if you would like to return all solutions, you can implement `solve_game` as state space search."
   ]
  },
  {
   "attachments": {},
   "cell_type": "markdown",
   "metadata": {},
   "source": [
    "### Test Game 1. Create a 3x3 two player game\n",
    "\n",
    "**that can only be solved using the Successive Elimintation of Strongly Dominated Strategies**\n",
    "\n",
    "| Player 1 / Player 2  | 0 | 1 | 2 |\n",
    "|----|----|----|----|\n",
    "|0  | 5,7 | 7,8 | 7,9 |\n",
    "|1  | 10,8 | 10,1 | 18,3 |\n",
    "|2  | 8,6 | 8,2 | 10,4 |\n",
    "\n",
    "**Solution:** (1,0)"
   ]
  },
  {
   "cell_type": "code",
   "execution_count": 19,
   "metadata": {
    "vscode": {
     "languageId": "python"
    }
   },
   "outputs": [
    {
     "name": "stdout",
     "output_type": "stream",
     "text": [
      "(1, 0)\n"
     ]
    }
   ],
   "source": [
    "test_game_1 = [\n",
    "    [(5,7),(7,8),(7,9)]\n",
    "    ,[(10,8),(10,1),(18,3)]\n",
    "    ,[(8,6),(8,2),(10,4)]]\n",
    "\n",
    "solution = solve_game(test_game_1)\n",
    "print(solution)"
   ]
  },
  {
   "cell_type": "code",
   "execution_count": 21,
   "metadata": {
    "vscode": {
     "languageId": "python"
    }
   },
   "outputs": [],
   "source": [
    "assert solution == (1,0) # insert your solution from above."
   ]
  },
  {
   "attachments": {},
   "cell_type": "markdown",
   "metadata": {},
   "source": [
    "### Test Game 2. Create a 3x3 two player game\n",
    "\n",
    "**that can only be solved using the Successive Elimintation of Weakly Dominated Strategies**\n",
    "\n",
    "| Player 1 / Player 2  | 0 | 1 | 2 |\n",
    "|----|----|----|----|\n",
    "|0  | 1,7 | 2,8 | 4,9 |\n",
    "|1  | 10,4 | 8,2| 10,4 |\n",
    "|2  | 10,8 | 10,1 | 18,3 |\n",
    "\n",
    "**Solution:** (2,0)"
   ]
  },
  {
   "cell_type": "code",
   "execution_count": 23,
   "metadata": {
    "vscode": {
     "languageId": "python"
    }
   },
   "outputs": [],
   "source": [
    "test_game_2 = [\n",
    "    [(1,7),(2,8),(4,9)]\n",
    "    ,[(10,4),(8,2),(10,4)]\n",
    "    ,[(10,8),(10,1),(18,3)]\n",
    "    ]\n",
    "\n",
    "strong_solution = solve_game( test_game_2)\n",
    "weak_solution = solve_game( test_game_2, weak=True)"
   ]
  },
  {
   "cell_type": "code",
   "execution_count": 24,
   "metadata": {
    "vscode": {
     "languageId": "python"
    }
   },
   "outputs": [],
   "source": [
    "assert strong_solution == None\n",
    "assert weak_solution == (2,0) # insert your solution from above."
   ]
  },
  {
   "attachments": {},
   "cell_type": "markdown",
   "metadata": {},
   "source": [
    "### Test Game 3. Create a 3x3 two player game\n",
    "\n",
    "**that cannot be solved using the Successive Elimintation of Dominated Strategies at all**\n",
    "\n",
    "| Player 1 / Player 2  | 0 | 1 | 2 |\n",
    "|----|----|----|----|\n",
    "|0  | 7,3| 2,9 | 3,1 |\n",
    "|1  | 4,3 | 2,1 | 9,6 |\n",
    "|2  | 2,5 | 5,6 | 1,8 |\n",
    "\n",
    "**Solution:** None"
   ]
  },
  {
   "cell_type": "code",
   "execution_count": 25,
   "metadata": {
    "vscode": {
     "languageId": "python"
    }
   },
   "outputs": [],
   "source": [
    "test_game_3 = [\n",
    "    [(7,3),(2,9),(3,1)]\n",
    "    ,[(4,3),(2,1),(9,6)]\n",
    "    ,[(2,5),(5,6),(1,8)]]\n",
    "\n",
    "strong_solution = solve_game( test_game_3)\n",
    "weak_solution = solve_game( test_game_3, weak=True)"
   ]
  },
  {
   "cell_type": "code",
   "execution_count": 26,
   "metadata": {
    "vscode": {
     "languageId": "python"
    }
   },
   "outputs": [],
   "source": [
    "assert strong_solution == None\n",
    "assert weak_solution == None"
   ]
  },
  {
   "cell_type": "markdown",
   "metadata": {},
   "source": [
    "## Before You Submit...\n",
    "\n",
    "1. Did you provide output exactly as requested? **Don't forget to fill out the Markdown tables with your games**.\n",
    "2. Did you re-execute the entire notebook? (\"Restart Kernel and Rull All Cells...\")\n",
    "3. If you did not complete the assignment or had difficulty please explain what gave you the most difficulty in the Markdown cell below.\n",
    "4. Did you change the name of the file to `jhed_id.ipynb`?\n",
    "\n",
    "Do not submit any other files."
   ]
  },
  {
   "cell_type": "markdown",
   "metadata": {},
   "source": []
  }
 ],
 "metadata": {
  "kernelspec": {
   "display_name": "en605645",
   "language": "python",
   "name": "en605645"
  },
  "toc": {
   "colors": {
    "hover_highlight": "#DAA520",
    "navigate_num": "#000000",
    "navigate_text": "#333333",
    "running_highlight": "#FF0000",
    "selected_highlight": "#FFD700",
    "sidebar_border": "#EEEEEE",
    "wrapper_background": "#FFFFFF"
   },
   "moveMenuLeft": true,
   "nav_menu": {
    "height": "135px",
    "width": "252px"
   },
   "navigate_menu": true,
   "number_sections": true,
   "sideBar": true,
   "threshold": 4,
   "toc_cell": false,
   "toc_section_display": "block",
   "toc_window_display": false,
   "widenNotebook": false
  }
 },
 "nbformat": 4,
 "nbformat_minor": 4
}
