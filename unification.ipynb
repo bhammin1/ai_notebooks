{
 "cells": [
  {
   "cell_type": "markdown",
   "metadata": {},
   "source": [
    "# Module 7 - Programming Assignment\n",
    "\n",
    "## Directions\n",
    "\n",
    "1. Change the name of this file to be your JHED id as in `jsmith299.ipynb`. Because sure you use your JHED ID (it's made out of your name and not your student id which is just letters and numbers).\n",
    "2. Make sure the notebook you submit is cleanly and fully executed. I do not grade unexecuted notebooks.\n",
    "3. Submit your notebook back in Blackboard where you downloaded this file.\n",
    "\n",
    "*Provide the output **exactly** as requested*"
   ]
  },
  {
   "cell_type": "markdown",
   "metadata": {},
   "source": [
    "# Unification\n",
    "\n",
    "This is actually Part I of a two part assignment. In a later module, you'll implement a Forward Planner. In order to do that, however, you need to have a unifier. It is important to note that you *only* need to implement a unifier. Although the module talked about resolution, you do not need to implement anything like \"standardizing apart\". From the unifier's point of view, that should already have been done.\n",
    "\n",
    "Unification is simply the *syntactic* balancing of expressions. There are only 3 kinds of expressions: constants, lists and (logic) variables. Constants and lists are only equal to each other if they're exactly the same thing or can be made to be the same thing by *binding* a value to a variable.\n",
    "\n",
    "It really is that simple...expressions must be literally the same (identical) except if one or the other (or both) has a variable in that \"spot\".\n",
    "\n",
    "## S-Expressions\n",
    "\n",
    "With that out of the way, we need a language with which to express our constants, variables and predicates and that language will be based on s-expressions.\n",
    "\n",
    "**constants** - There are two types of constants, values and predicates. Values should start with an uppercase letter. Fred is a constant value, so is Barney and Food. Predicates are named using lowercase letters. loves is a predicate and so is hates. This is only a convention. Secret: your code does not need to treat these two types of constants differently.\n",
    "\n",
    "**variables** - these are named using lowercase letters but always start with a question mark. ?x is a variable and so is ?yum. This is not a convention.\n",
    "\n",
    "**expressions (lists)** - these use the S-expression syntax a la LISP. (loves Fred Wilma) is an expression as is (friend-of Barney Fred) and (loves ?x ?y).\n",
    "\n",
    "## Parsing\n",
    "\n",
    "These functions are already included in the starter .py file."
   ]
  },
  {
   "cell_type": "code",
   "execution_count": 13,
   "metadata": {},
   "outputs": [],
   "source": [
    "import tokenize\n",
    "from io import StringIO"
   ]
  },
  {
   "cell_type": "markdown",
   "metadata": {},
   "source": [
    "This uses the above libraries to build a Lisp structure based on atoms. It is adapted from [simple iterator parser](http://effbot.org/zone/simple-iterator-parser.htm). The first function is the `atom` function."
   ]
  },
  {
   "cell_type": "code",
   "execution_count": 14,
   "metadata": {},
   "outputs": [],
   "source": [
    "def atom( next, token):\n",
    "    if token[ 1] == '(':\n",
    "        out = []\n",
    "        token = next()\n",
    "        while token[ 1] != ')':\n",
    "            out.append( atom( next, token))\n",
    "            token = next()\n",
    "            if token[ 1] == ' ':\n",
    "                token = next()\n",
    "        return out\n",
    "    elif token[ 1] == '?':\n",
    "        token = next()\n",
    "        return \"?\" + token[ 1]\n",
    "    else:\n",
    "        return token[ 1]"
   ]
  },
  {
   "cell_type": "markdown",
   "metadata": {},
   "source": [
    "The next function is the actual `parse` function:"
   ]
  },
  {
   "cell_type": "code",
   "execution_count": 15,
   "metadata": {},
   "outputs": [],
   "source": [
    "def parse(exp):\n",
    "    src = StringIO(exp).readline\n",
    "    tokens = tokenize.generate_tokens(src)\n",
    "    return atom(tokens.__next__, tokens.__next__())"
   ]
  },
  {
   "cell_type": "markdown",
   "metadata": {},
   "source": [
    "**Note** there was a change between 2.7 and 3.0 that \"hid\" the next() function in the tokenizer."
   ]
  },
  {
   "cell_type": "markdown",
   "metadata": {},
   "source": [
    "From a Python perspective, we want to turn something like \"(loves Fred ?x)\" to [\"loves\" \"Fred\" \"?x\"] and then work with the second representation as a list of strings. The strings then have the syntactic meaning we gave them previously."
   ]
  },
  {
   "cell_type": "code",
   "execution_count": 16,
   "metadata": {},
   "outputs": [
    {
     "data": {
      "text/plain": [
       "'Fred'"
      ]
     },
     "execution_count": 16,
     "metadata": {},
     "output_type": "execute_result"
    }
   ],
   "source": [
    "parse(\"Fred\")"
   ]
  },
  {
   "cell_type": "code",
   "execution_count": 17,
   "metadata": {},
   "outputs": [
    {
     "data": {
      "text/plain": [
       "'?x'"
      ]
     },
     "execution_count": 17,
     "metadata": {},
     "output_type": "execute_result"
    }
   ],
   "source": [
    "parse( \"?x\")"
   ]
  },
  {
   "cell_type": "code",
   "execution_count": 18,
   "metadata": {},
   "outputs": [
    {
     "data": {
      "text/plain": [
       "['loves', 'Fred', '?x']"
      ]
     },
     "execution_count": 18,
     "metadata": {},
     "output_type": "execute_result"
    }
   ],
   "source": [
    "parse( \"(loves Fred ?x)\")"
   ]
  },
  {
   "cell_type": "code",
   "execution_count": 19,
   "metadata": {},
   "outputs": [
    {
     "data": {
      "text/plain": [
       "['father_of', 'Barney', ['son_of', 'Barney']]"
      ]
     },
     "execution_count": 19,
     "metadata": {},
     "output_type": "execute_result"
    }
   ],
   "source": [
    "parse( \"(father_of Barney (son_of Barney))\")"
   ]
  },
  {
   "cell_type": "code",
   "execution_count": 20,
   "metadata": {},
   "outputs": [
    {
     "data": {
      "text/plain": [
       "'loves'"
      ]
     },
     "execution_count": 20,
     "metadata": {},
     "output_type": "execute_result"
    }
   ],
   "source": [
    "parse(\"loves\")"
   ]
  },
  {
   "cell_type": "markdown",
   "metadata": {},
   "source": [
    "## Unifier\n",
    "\n",
    "Now that that's out of the way, here is the imperative pseudocode for unification. This is a classic recursive program with a number of base cases. Students for some reason don't like it, try the algorithm in the book, can't get it to work and then come back to this pseudocode.\n",
    "\n",
    "Work through the algorithm by hand with your Self-Check examples if you need to but I'd suggest sticking with this implementation. It does work.\n",
    "\n",
    "Here is imperative pseudocode for the algorithm:\n",
    "\n",
    "```\n",
    "def unification( exp1, exp2):\n",
    "    # base cases\n",
    "    if exp1 and exp2 are constants or the empty list:\n",
    "        if exp1 = exp2 then return {}\n",
    "        else return FAIL\n",
    "    if exp1 is a variable:\n",
    "        if exp1 occurs in exp2 then return FAIL\n",
    "        else return {exp1/exp2}\n",
    "    if exp2 is a variable:\n",
    "        if exp2 occurs in exp1 then return FAIL\n",
    "        else return {exp2/exp1}\n",
    "\n",
    "    # inductive step\n",
    "    first1 = first element of exp1\n",
    "    first2 = first element of exp2\n",
    "    result1 = unification( first1, first2)\n",
    "    if result1 = FAIL then return FAIL\n",
    "    apply result1 to rest of exp1 and exp2\n",
    "    result2 = unification( rest of exp1, rest of exp2)\n",
    "    if result2 = FAIL then return FAIL\n",
    "    return composition of result1 and result2\n",
    "```\n",
    "\n",
    "`unification` can return...\n",
    "\n",
    "1. `None` (if unification completely fails)\n",
    "2. `{}` (the empty substitution list) or \n",
    "3. a substitution list that has variables as keys and substituted values as values, like {\"?x\": \"Fred\"}. \n",
    "\n",
    "Note that the middle case sometimes confuses people...\"Sam\" unifying with \"Sam\" is not a failure so you return {} because there were no variables so there were no substitutions. You do not need to further resolve variables. If a variable resolves to an expression that contains a variable, you don't need to do the substition.\n",
    "\n",
    "If you think of a typical database table, there is a column, row and value. This Tuple is a *relation* and in some uses of unification, the \"thing\" in the first spot...\"love\" above is called the relation. If you have a table of users with user_id, username and the value then the relation is:\n",
    "\n",
    "`(login ?user_id ?username)`\n",
    "\n",
    "*most* of the time, the relation name is specified. But it's not impossible for the relation name to be represented by a variable:\n",
    "\n",
    "`(?relation 12345 \"smooth_operator\")`\n",
    "\n",
    "Your code should handle this case (the pseudocode does handle this case so all  you have to do is not futz with it).\n",
    "\n",
    "Our type system is very simple. We can get by with just a few boolean functions. The first tests to see if an expression is a variable."
   ]
  },
  {
   "attachments": {},
   "cell_type": "markdown",
   "metadata": {},
   "source": [
    "## Office Hours Notes\n",
    "- Can go over 20 lines\n",
    "- Not many unit tests only helper like occurs\n",
    "- When you get a substituition -- assign it to the rest of experession -- the apply step\n",
    "- rest is one less than the item just looked at\n",
    "- variable could be assigned to another variable\n",
    "    - `x = y`\n",
    "- cant have variable in first position of expression???"
   ]
  },
  {
   "cell_type": "code",
   "execution_count": 21,
   "metadata": {},
   "outputs": [],
   "source": [
    "def is_variable( exp):\n",
    "    return isinstance( exp, str) and exp[ 0] == \"?\""
   ]
  },
  {
   "cell_type": "code",
   "execution_count": 22,
   "metadata": {},
   "outputs": [
    {
     "data": {
      "text/plain": [
       "False"
      ]
     },
     "execution_count": 22,
     "metadata": {},
     "output_type": "execute_result"
    }
   ],
   "source": [
    "is_variable( \"Fred\")"
   ]
  },
  {
   "cell_type": "code",
   "execution_count": 23,
   "metadata": {},
   "outputs": [
    {
     "data": {
      "text/plain": [
       "True"
      ]
     },
     "execution_count": 23,
     "metadata": {},
     "output_type": "execute_result"
    }
   ],
   "source": [
    "is_variable( \"?fred\")"
   ]
  },
  {
   "cell_type": "markdown",
   "metadata": {},
   "source": [
    "The second tests to see if an expression is a constant:"
   ]
  },
  {
   "cell_type": "code",
   "execution_count": 24,
   "metadata": {},
   "outputs": [],
   "source": [
    "def is_constant( exp):\n",
    "    return isinstance( exp, str) and not is_variable( exp)"
   ]
  },
  {
   "cell_type": "code",
   "execution_count": 25,
   "metadata": {},
   "outputs": [
    {
     "data": {
      "text/plain": [
       "True"
      ]
     },
     "execution_count": 25,
     "metadata": {},
     "output_type": "execute_result"
    }
   ],
   "source": [
    "is_constant( \"Fred\")"
   ]
  },
  {
   "cell_type": "code",
   "execution_count": 26,
   "metadata": {},
   "outputs": [
    {
     "data": {
      "text/plain": [
       "False"
      ]
     },
     "execution_count": 26,
     "metadata": {},
     "output_type": "execute_result"
    }
   ],
   "source": [
    "is_constant( \"?fred\")"
   ]
  },
  {
   "cell_type": "code",
   "execution_count": 27,
   "metadata": {},
   "outputs": [
    {
     "data": {
      "text/plain": [
       "False"
      ]
     },
     "execution_count": 27,
     "metadata": {},
     "output_type": "execute_result"
    }
   ],
   "source": [
    "is_constant( [\"loves\", \"Fred\", \"?wife\"])"
   ]
  },
  {
   "cell_type": "markdown",
   "metadata": {},
   "source": [
    "It might also be useful to know that:\n",
    "\n",
    "<code>\n",
    "type( \"a\")\n",
    "&lt;type 'str'>\n",
    "type( \"a\") == str\n",
    "True\n",
    "type( \"a\") == list\n",
    "False\n",
    "type( [\"a\"]) == list\n",
    "True\n",
    "</code>\n",
    "\n",
    "\n",
    "You need to write the `unification` function described above. It should work with two expressions of the type returned by `parse`. See `unify` for how it will be called. It should return the result of unification for the two expressions as detailed above and in the book. It does not have to make all the necessary substitions (for example, if ?y is bound to ?x and 1 is bound to ?y, ?x doesn't have to be replaced everywhere with 1. It's enough to return {\"?x\":\"?y\", \"?y\":1}. For an actual application, you would need to fix this!)\n",
    "\n",
    "-----"
   ]
  },
  {
   "attachments": {},
   "cell_type": "markdown",
   "metadata": {},
   "source": [
    "<a id=\"constant_or_empty\"></a>\n",
    "## constant_or_empty\n",
    "\n",
    "- Checks if both expressions are constants or not\n",
    "- Also checks if either expression is empty\n",
    "- Return true if any of those cases are true else false\n",
    "\n",
    "* **exp1** list or str: expression 1 which can be a list of expressions or a constant or a variable\n",
    "* **exp2** list or str: expression 2 which can be a list of expressions or a constant or a variable\n",
    "\n",
    "\n",
    "**returns** bool: true or false if a both constants or one expression is empty"
   ]
  },
  {
   "cell_type": "code",
   "execution_count": 28,
   "metadata": {},
   "outputs": [],
   "source": [
    "def constant_or_empty(exp1:list|str, exp2:list|str)->bool:\n",
    "    con_check = is_constant(exp1) and is_constant(exp2)\n",
    "    list_check = isinstance(exp1, list) and isinstance(exp2, list)\n",
    "    \n",
    "    empty_check = False\n",
    "    if list_check:\n",
    "        if len(exp1) == 0 or len(exp2) == 0:\n",
    "            empty_check = True\n",
    "    \n",
    "    # base check case initial check\n",
    "    # not implementing the return part\n",
    "    if con_check or empty_check:\n",
    "        return True\n",
    "    \n",
    "    return False\n"
   ]
  },
  {
   "cell_type": "code",
   "execution_count": 45,
   "metadata": {},
   "outputs": [],
   "source": [
    "# verify empty lists return true\n",
    "exp1_test = []\n",
    "assert constant_or_empty(exp1_test, exp1_test) == True\n",
    "assert constant_or_empty([\"Fred\"], exp1_test) == True\n",
    "\n",
    "#verify two constants return true\n",
    "exp1_test2 = \"Fred\"\n",
    "exp2_test2 =\"Bill\"\n",
    "assert constant_or_empty(exp1_test2, exp1_test2) == True # same constant\n",
    "assert constant_or_empty(exp1_test2, exp2_test2) == True # diff constants\n",
    "\n",
    "# verify mixed type returns false\n",
    "exp1_test3 = \"Fred\"\n",
    "exp2_test3 = \"?w\"\n",
    "assert constant_or_empty(exp1_test3, exp2_test3) == False\n",
    "# verify different size lists return False\n",
    "exp1_test4 = [\"Fred\", \"loves\"]\n",
    "exp2_test4 = [\"Fred\",\"loves\", \"?r\"]\n",
    "assert constant_or_empty(exp1_test4, exp1_test4) == False # same list\n",
    "assert constant_or_empty(exp1_test4, exp2_test4) == False # diff list"
   ]
  },
  {
   "attachments": {},
   "cell_type": "markdown",
   "metadata": {},
   "source": [
    "<a id=\"occurs_in\"></a>\n",
    "## occurs_in\n",
    "\n",
    "- Checks variable is in an expression or not. \n",
    "- If variables is equal to the expression, then false is returned\n",
    "\n",
    "* **variable** str: a string for a variable\n",
    "* **exp** list or str:An  expression which can be a list of expressions or a constant or a variable\n",
    "\n",
    "\n",
    "**returns** bool: true or false variable is in an expression list"
   ]
  },
  {
   "cell_type": "code",
   "execution_count": 30,
   "metadata": {},
   "outputs": [],
   "source": [
    "def occurs_in(variable:str, exp:list|str)->bool:\n",
    "    if isinstance(exp, list):\n",
    "        if variable in exp:\n",
    "            return True\n",
    "    #elif variable == exp:\n",
    "    #    return True\n",
    "    else:\n",
    "        return False\n"
   ]
  },
  {
   "cell_type": "code",
   "execution_count": 46,
   "metadata": {},
   "outputs": [],
   "source": [
    "var = \"?Fred\"\n",
    "\n",
    "# verify returns true if variable in list\n",
    "exp_test = [var, \"Eric\"]\n",
    "assert occurs_in(var, exp_test) == True\n",
    "\n",
    "#verify return false when value not in list\n",
    "exp_test2 = [\"Tom\", \"Eric\"]\n",
    "assert occurs_in(var, exp1_test2) == False\n",
    "\n",
    "# verify two variable cases \n",
    "# verify returns False if same variable\n",
    "assert occurs_in(var, var) == False\n",
    "\n",
    "# verify if two diff variables returns false\n",
    "var2 = \"?Brandi\"\n",
    "assert occurs_in(var, var2) == False\n"
   ]
  },
  {
   "attachments": {},
   "cell_type": "markdown",
   "metadata": {},
   "source": [
    "<a id=\"get_first\"></a>\n",
    "## get_first\n",
    "\n",
    "- Returns the first item in an expression if the expression is a list\n",
    "- Otherwise, the expression is returned. \n",
    "\n",
    "* **exp** list or str: expression 1 which can be a list of expressions or a constant or a variable\n",
    "\n",
    "**returns** str: returns the first item in an expression"
   ]
  },
  {
   "cell_type": "code",
   "execution_count": 32,
   "metadata": {},
   "outputs": [],
   "source": [
    "def get_first(exp:list|str)->str:\n",
    "    if isinstance(exp, list):\n",
    "        return exp[0]\n",
    "    else:\n",
    "        return exp # variable or constant"
   ]
  },
  {
   "cell_type": "code",
   "execution_count": 33,
   "metadata": {},
   "outputs": [],
   "source": [
    "# list check\n",
    "assert get_first([\"hi\",\"there\"]) == \"hi\"\n",
    "assert get_first([[\"Tom\", \"Eric\"], \"Zac\"]) == [\"Tom\", \"Eric\"]\n",
    "\n",
    "# variable check\n",
    "assert get_first(\"?x\") == \"?x\"\n",
    "\n",
    "# constant check\n",
    "assert get_first(\"Eric\") == \"Eric\""
   ]
  },
  {
   "attachments": {},
   "cell_type": "markdown",
   "metadata": {},
   "source": [
    "<a id=\"update_exp\"></a>\n",
    "## update_exp\n",
    "\n",
    "- A recursive function to update all values in a list based on the mapping\n",
    "- no value is returned but the expression (list) will be updated\n",
    "\n",
    "* **list1** list: an expression that might have variables to be updated\n",
    "* **mapping** dict: mapping to update variables with a new value\n",
    "\n"
   ]
  },
  {
   "cell_type": "code",
   "execution_count": 34,
   "metadata": {},
   "outputs": [],
   "source": [
    "def update_exp(list1:list, mapping:dict):\n",
    "\n",
    "    for item in list1:\n",
    "        if isinstance(item, list):\n",
    "            update_exp(item, mapping)\n",
    "        if is_variable(item):\n",
    "            if item in mapping:\n",
    "                list1[list1.index(item)] = mapping[item]\n",
    "                continue"
   ]
  },
  {
   "cell_type": "code",
   "execution_count": 35,
   "metadata": {},
   "outputs": [],
   "source": [
    "exp1 = [\"loves\",\"Eric\",\"?x\"]\n",
    "mapping_test = {\"?x\":\"Brandi\"}\n",
    "\n",
    "# check can update list of only constants and variables\n",
    "update_exp(exp1, mapping_test)\n",
    "assert exp1 == ['loves', 'Eric', 'Brandi']\n",
    "exp5 = [\"loves\",\"Eric\",\"?x\"]\n",
    "update_exp(exp5, {\"?x\":[\"engineer\", \"Brandi\"]})\n",
    "assert exp5 == [\"loves\",\"Eric\",[\"engineer\", \"Brandi\"]]\n",
    "# check no change happens to list if variable doesnt match mapping\n",
    "exp2 = [\"loves\",\"Eric\",\"?y\"]\n",
    "update_exp(exp2, mapping_test)\n",
    "assert exp2 == ['loves', 'Eric', '?y']\n",
    "# check can handle nested updates\n",
    "exp3 = [\"love\", [\"son\", \"mike\"], [\"engineer\", \"?x\"]]\n",
    "update_exp(exp3, mapping_test)\n",
    "assert exp3 == ['love', ['son', 'mike'], ['engineer', 'Brandi']]\n",
    "exp4 = [\"love\", [\"son\", \"mike\"], [\"engineer\", [\"sister\", \"?x\"]]]\n",
    "update_exp(exp4, mapping_test)\n",
    "assert exp4 == [\"love\", [\"son\", \"mike\"], [\"engineer\", [\"sister\", \"Brandi\"]]]"
   ]
  },
  {
   "attachments": {},
   "cell_type": "markdown",
   "metadata": {},
   "source": [
    "<a id=\"get_rest\"></a>\n",
    "## get_rest\n",
    "\n",
    "- If an expression is a list, updates the expression by the mapping\n",
    "- then it returns the list with the first value removed\n",
    "- If the expression is a variable or constant, an empty expression is returned\n",
    "- An error in the function will return None\n",
    "\n",
    "* **exp** list or str: expression 1 which can be a list of expressions or a constant or a variable\n",
    "* **mapping** dict: mapping to update variables with a new value\n",
    "\n",
    "**returns** list: returns an expression with updated mapping and first item removed\n"
   ]
  },
  {
   "cell_type": "code",
   "execution_count": 36,
   "metadata": {},
   "outputs": [],
   "source": [
    "def get_rest(exp:list|str, mapping:dict)->list:\n",
    "    if is_variable(exp):\n",
    "        if exp in mapping:\n",
    "            return []\n",
    "        else:\n",
    "            return None# something in previous step went wrong\n",
    "    elif isinstance(exp, list):\n",
    "        update_exp(exp, mapping) # apply mapping to expression\n",
    "        return exp[1:] # remove first index\n",
    "    else: #is_constant(exp)\n",
    "        return []\n"
   ]
  },
  {
   "cell_type": "code",
   "execution_count": 37,
   "metadata": {},
   "outputs": [],
   "source": [
    "exp1_test = ['love', 'Eric', '?x']\n",
    "mapping_test = {'?x':'Brandi'}\n",
    "\n",
    "# verify exp1 is returned variable updated and one less is size\n",
    "new_exp1 = get_rest(exp1_test, mapping_test)\n",
    "assert len(new_exp1) == 2\n",
    "assert new_exp1 == ['Eric','Brandi']\n",
    "\n",
    "# verify variable is turned into an empty list\n",
    "new_exp2 = get_rest('?x', mapping_test)\n",
    "assert len(new_exp2) == 0\n",
    "new_exp3 = get_rest(['?x'], mapping_test)\n",
    "assert len(new_exp3) == 0\n",
    "\n",
    "# verify constant is turned into an empty list\n",
    "new_exp2 = get_rest('Eric', mapping_test)\n",
    "assert len(new_exp2) == 0\n",
    "new_exp3 = get_rest(['Eric'], mapping_test)\n",
    "assert len(new_exp3) == 0"
   ]
  },
  {
   "attachments": {},
   "cell_type": "markdown",
   "metadata": {},
   "source": [
    "<a id=\"get_final_mapping\"></a>\n",
    "## get_final_mapping\n",
    "\n",
    "- Combines the results, the mappings, into one mapping\n",
    "- has error checking. Will return None if results have variable mapping to two different values\n",
    "\n",
    "* **result1** dict: mapping from first unificiation pass\n",
    "* **result2** dict: mapping from second unificiation pass\n",
    "\n",
    "\n",
    "**returns** dict: dictionary combined of the two results"
   ]
  },
  {
   "cell_type": "code",
   "execution_count": 38,
   "metadata": {},
   "outputs": [],
   "source": [
    "def get_final_mapping(result1:dict, result2:dict)->dict:\n",
    "    for k in result1:\n",
    "        if k in result2:\n",
    "            if result1[k] != result2[k]:\n",
    "                print(\"Something went wrong. Multiple assignments\")\n",
    "                return None\n",
    "    final_result = {}\n",
    "    final_result.update(result1)\n",
    "    final_result.update(result2)\n",
    "    return final_result"
   ]
  },
  {
   "cell_type": "code",
   "execution_count": 39,
   "metadata": {},
   "outputs": [
    {
     "name": "stdout",
     "output_type": "stream",
     "text": [
      "Something went wrong. Multiple assignments\n"
     ]
    }
   ],
   "source": [
    "result1_test = {\"?x\":\"Brandi\", \"?y\":\"Eric\"}\n",
    "result2_test = {\"?v\":\"loves ?x, ?y\"}\n",
    "result3_test = {\"?x\":\"Tom\"}\n",
    "\n",
    "# assert a new dictionary of size 3 is returned\n",
    "rall = get_final_mapping(result1_test, result2_test)\n",
    "assert len(rall) == 3\n",
    "\n",
    "# verify an empty result set doesn't cause failure\n",
    "rall2 = get_final_mapping(result1_test, {})\n",
    "assert len(rall2) == len(result1_test)\n",
    "rall3 = get_final_mapping({}, {})\n",
    "assert rall3 == {}\n",
    "\n",
    "# verify if contradicting mapping cause a failure\n",
    "rall4 = get_final_mapping(result1_test, result3_test)\n",
    "assert rall4 == None\n"
   ]
  },
  {
   "attachments": {},
   "cell_type": "markdown",
   "metadata": {},
   "source": [
    "<a id=\"unification\"></a>\n",
    "## unification\n",
    "\n",
    "- Performs unification, an algorithm that uses recursion to decide whether two expressions unify or not\n",
    "- Returns a dictionary if unification is successful else None if a failure\n",
    "\n",
    "* **list_expression1** list or str: expression 1 which can be a list of expressions or a constant or a variable\n",
    "* **list_expression1** list or str: expression 2 which can be a list of expressions or a constant or a variable\n",
    "\n",
    "\n",
    "**returns** dict: mapping to make unification true"
   ]
  },
  {
   "cell_type": "code",
   "execution_count": 40,
   "metadata": {},
   "outputs": [],
   "source": [
    "def unification( list_expression1:list|str, list_expression2:list|str)->dict:# from parse\n",
    "    # base cases\n",
    "    if constant_or_empty(list_expression1, list_expression2):\n",
    "        if list_expression1 == list_expression2:\n",
    "            return {}\n",
    "        else:\n",
    "            return None\n",
    "    if is_variable(list_expression1):\n",
    "        if occurs_in(list_expression1, list_expression2):\n",
    "            return None\n",
    "        else:\n",
    "            return {list_expression1:list_expression2}\n",
    "    if is_variable(list_expression2):\n",
    "        if occurs_in(list_expression2, list_expression1):\n",
    "            return None\n",
    "        else:\n",
    "            return {list_expression2:list_expression1}\n",
    "    # inductive step\n",
    "    first1 = get_first(list_expression1)\n",
    "    first2 = get_first(list_expression2)\n",
    "    \n",
    "    result1 = unification(first1, first2)\n",
    "    if result1 == None:\n",
    "        return None\n",
    "    # apply and get rest\n",
    "    result2 = unification(get_rest(list_expression1, result1), get_rest(list_expression2, result1))\n",
    "    if result2 == None:\n",
    "        return None\n",
    "    return get_final_mapping(result1, result2)"
   ]
  },
  {
   "cell_type": "code",
   "execution_count": 41,
   "metadata": {},
   "outputs": [],
   "source": [
    "def list_check(parsed_expression):\n",
    "    if isinstance(parsed_expression, list):\n",
    "        return parsed_expression\n",
    "    return [parsed_expression]"
   ]
  },
  {
   "cell_type": "markdown",
   "metadata": {},
   "source": [
    "The `unification` pseudocode only takes lists so we have to make sure that we only pass a list.\n",
    "However, this has the side effect of making \"foo\" unify with [\"foo\"], at the start.\n",
    "That's ok."
   ]
  },
  {
   "attachments": {},
   "cell_type": "markdown",
   "metadata": {},
   "source": [
    "<a id=\"unify\"></a>\n",
    "## unify\n",
    "\n",
    "- First parses both strings, then calls unification function\n",
    "- Returns mapping if unification is successful or None if a failure\n",
    "\n",
    "* **s_expression1** str: expression 1 \n",
    "* **s_expression2** str: expression 2 \n",
    "\n",
    "\n",
    "**returns** dict: mapping to make unification successful"
   ]
  },
  {
   "cell_type": "code",
   "execution_count": 42,
   "metadata": {},
   "outputs": [],
   "source": [
    "def unify( s_expression1:str, s_expression2:str)->dict:\n",
    "    list_expression1 = parse(s_expression1)\n",
    "    list_expression2 = parse(s_expression2)\n",
    "    return unification( list_expression1, list_expression2)"
   ]
  },
  {
   "cell_type": "markdown",
   "metadata": {},
   "source": [
    "**Note** If you see the error,\n",
    "\n",
    "```\n",
    "tokenize.TokenError: ('EOF in multi-line statement', (2, 0))\n",
    "```\n",
    "You most likely have unbalanced parentheses in your s-expression.\n",
    "\n",
    "## Test Cases\n",
    "\n",
    "Use the expressions from the Self Check as your test cases..."
   ]
  },
  {
   "cell_type": "code",
   "execution_count": 43,
   "metadata": {},
   "outputs": [
    {
     "name": "stdout",
     "output_type": "stream",
     "text": [
      "actual = None\n",
      "expected = None\n",
      "\n",
      "\n",
      "actual = None\n",
      "expected = None\n",
      "\n",
      "\n",
      "actual = {}\n",
      "expected = {}\n",
      "\n",
      "\n",
      "actual = {'?x': 'Fred'}\n",
      "expected = {'?x': 'Fred'}\n",
      "\n",
      "\n",
      "actual = {'?y': 'Barney', '?x': 'Bam_Bam'}\n",
      "expected = {'?x': 'Bam_Bam', '?y': 'Barney'}\n",
      "\n",
      "\n",
      "actual = {'?x': 'Barney', '?y': 'Wilma'}\n",
      "expected = {'?x': 'Barney', '?y': 'Wilma'}\n",
      "\n",
      "\n",
      "actual = {'?y': 'Barney', '?x': ['son', 'Barney']}\n",
      "expected = {'?x': ['son', 'Barney'], '?y': 'Barney'}\n",
      "\n",
      "\n",
      "actual = {'?y': 'Barney', '?x': ['son', 'Barney']}\n",
      "expected = {'?y': 'Barney', '?x': ['son', 'Barney']}\n",
      "\n",
      "\n",
      "actual = None\n",
      "expected = None\n",
      "\n",
      "\n",
      "actual = {'?x': 'Fred'}\n",
      "expected = {'?x': 'Fred'}\n",
      "\n",
      "\n",
      "actual = None\n",
      "expected = None\n",
      "\n",
      "\n"
     ]
    }
   ],
   "source": [
    "self_check_test_cases = [\n",
    "    ['(son Barney Barney)', '(daughter Wilma Pebbles)', None]\n",
    "    ,['Fred', 'Barney', None]\n",
    "    ,['Pebbles', 'Pebbles', {}]\n",
    "    ,['(quarry_worker Fred)', '(quarry_worker ?x)', {'?x':'Fred'}]\n",
    "    ,['(son Barney ?x)','(son ?y Bam_Bam)',{'?x':\"Bam_Bam\", '?y':\"Barney\"}]\n",
    "    ,['(married ?x ?y)','(married Barney Wilma)',{\"?x\":\"Barney\", \"?y\":\"Wilma\"}]\n",
    "    ,['(son Barney ?x)','(son ?y (son Barney))',{\"?x\":[\"son\",\"Barney\"],\"?y\":\"Barney\"}] \n",
    "    # unsure if expression should be returned like parse or not\n",
    "    ,['(son Barney ?x)','(son ?y (son ?y))', {\"?y\":\"Barney\", \"?x\":[\"son\",\"Barney\"]}]\n",
    "    ,['(son Barney Bam_Bam)','(son ?y (son Barney))', None]\n",
    "    ,['(loves Fred Fred)','(loves ?x ?x)',{\"?x\":\"Fred\"}]\n",
    "    ,['(future George Fred)','(future ?y ?y)', None]\n",
    "    ]\n",
    "\n",
    "\n",
    "for case in self_check_test_cases:\n",
    "    exp1, exp2, expected = case\n",
    "    actual = unify(exp1, exp2)\n",
    "    print(f\"actual = {actual}\")\n",
    "    print(f\"expected = {expected}\")\n",
    "    print(\"\\n\")\n",
    "    assert expected == actual"
   ]
  },
  {
   "cell_type": "markdown",
   "metadata": {},
   "source": [
    "Now add at least **five (5)** additional test cases of your own making, explaining exactly what you are testing. They should not be testing the same things as the self check test cases above."
   ]
  },
  {
   "cell_type": "code",
   "execution_count": 47,
   "metadata": {},
   "outputs": [
    {
     "name": "stdout",
     "output_type": "stream",
     "text": [
      "Testing non-equal constants...\n",
      "actual = None\n",
      "expected = None\n",
      "\n",
      "\n",
      "Testing non-equal predicates...\n",
      "actual = None\n",
      "expected = None\n",
      "\n",
      "\n",
      "Testing non-equal lengthed expresions...\n",
      "actual = None\n",
      "expected = None\n",
      "\n",
      "\n",
      "Testing a variable in the predicate spot...\n",
      "actual = {'?x': 'love'}\n",
      "expected = {'?x': 'love'}\n",
      "\n",
      "\n",
      "Testing a variable maps to nested expression...\n",
      "actual = {'?y': ['son', ['engineer', 'Tom']], '?x': 'Brandi'}\n",
      "expected = {'?x': 'Brandi', '?y': ['son', ['engineer', 'Tom']]}\n",
      "\n",
      "\n",
      "Testing a variable inside a double nested expression is updated...\n",
      "actual = {'?y': 'Brandi', '?x': ['son', ['engineer', 'Brandi']]}\n",
      "expected = {'?y': 'Brandi', '?x': ['son', ['engineer', 'Brandi']]}\n",
      "\n",
      "\n",
      "Testing an expression of three expressions...\n",
      "actual = {'?y': ['love', 'Eric', 'Brandi'], '?x': ['works', 'Tom', 'Zak'], '?w': ['child', 'Perrie', 'Ivy']}\n",
      "expected = {'?y': ['love', 'Eric', 'Brandi'], '?x': ['works', 'Tom', 'Zak'], '?w': ['child', 'Perrie', 'Ivy']}\n",
      "\n",
      "\n",
      "Testing All variables equal to each other...\n",
      "actual = {'?y': '?y', '?x': '?x'}\n",
      "expected = {'?y': '?y', '?x': '?x'}\n",
      "\n",
      "\n"
     ]
    }
   ],
   "source": [
    "new_test_cases = [\n",
    "    ['(son Barney Barney)', '(daughter Wilma Pebbles)', None, \"non-equal constants\"]\n",
    "    ,['(son ?x Joe)', '(cousin ?x Joe)', None, \"non-equal predicates\"]\n",
    "    ,['(love ?x ?y)', '(love Eric Brandi ?w)', None, \"non-equal lengthed expresions\"]\n",
    "   ,['(?x Eric Brandi)', '(love Eric Brandi)', {\"?x\":\"love\"}, \"a variable in the predicate spot\"] \n",
    "   ,['(love (son (engineer Tom)) ?x)', '(love ?y Brandi)', {\"?x\":\"Brandi\", \"?y\":[\"son\", [\"engineer\", \"Tom\"]]}, \"a variable maps to nested expression\"] \n",
    "   ,['(love ?y (son (engineer ?y)))', '(love Brandi ?x)', {\"?y\":\"Brandi\", \"?x\":[\"son\", [\"engineer\", \"Brandi\"]]}, \"a variable inside a double nested expression is updated\"] \n",
    "   ,['((love Eric Brandi) ?x (child Perrie Ivy))', '(?y (works Tom Zak) ?w)'\n",
    "    , {\"?y\":[\"love\", \"Eric\", \"Brandi\"],\"?x\":[\"works\", \"Tom\", \"Zak\"],\"?w\":[\"child\",\"Perrie\", \"Ivy\"]}, \"an expression of three expressions\"] \n",
    "    ,['(?y ?x)', '(?y ?x)', {\"?y\":\"?y\", \"?x\":\"?x\"}, \"All variables equal to each other\"]\n",
    "]\n",
    "for case in new_test_cases:\n",
    "    exp1, exp2, expected, message = case\n",
    "    actual = unify(exp1, exp2)\n",
    "    print(f\"Testing {message}...\")\n",
    "    print(f\"actual = {actual}\")\n",
    "    print(f\"expected = {expected}\")\n",
    "    print(\"\\n\")\n",
    "    assert expected == actual"
   ]
  },
  {
   "cell_type": "markdown",
   "metadata": {},
   "source": [
    "## Before You Submit...\n",
    "\n",
    "1. Did you provide output exactly as requested?\n",
    "2. Did you re-execute the entire notebook? (\"Restart Kernel and Rull All Cells...\")\n",
    "3. If you did not complete the assignment or had difficulty please explain what gave you the most difficulty in the Markdown cell below.\n",
    "4. Did you change the name of the file to `jhed_id.ipynb`?\n",
    "\n",
    "Do not submit any other files."
   ]
  },
  {
   "cell_type": "markdown",
   "metadata": {},
   "source": []
  }
 ],
 "metadata": {
  "kernelspec": {
   "display_name": "en605645",
   "language": "python",
   "name": "en605645"
  },
  "language_info": {
   "codemirror_mode": {
    "name": "ipython",
    "version": 3
   },
   "file_extension": ".py",
   "mimetype": "text/x-python",
   "name": "python",
   "nbconvert_exporter": "python",
   "pygments_lexer": "ipython3",
   "version": "3.10.5"
  },
  "toc": {
   "colors": {
    "hover_highlight": "#DAA520",
    "navigate_num": "#000000",
    "navigate_text": "#333333",
    "running_highlight": "#FF0000",
    "selected_highlight": "#FFD700",
    "sidebar_border": "#EEEEEE",
    "wrapper_background": "#FFFFFF"
   },
   "moveMenuLeft": true,
   "nav_menu": {
    "height": "120px",
    "width": "252px"
   },
   "navigate_menu": true,
   "number_sections": true,
   "sideBar": true,
   "threshold": 4,
   "toc_cell": false,
   "toc_section_display": "block",
   "toc_window_display": false,
   "widenNotebook": false
  }
 },
 "nbformat": 4,
 "nbformat_minor": 4
}
