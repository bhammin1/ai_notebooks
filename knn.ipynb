{
 "cells": [
  {
   "cell_type": "markdown",
   "metadata": {},
   "source": [
    "# Module 3 - Programming Assignment\n",
    "\n",
    "## Directions\n",
    "\n",
    "1. Change the name of this file to be your JHED id as in `jsmith299.ipynb`. Because sure you use your JHED ID (it's made out of your name and not your student id which is just letters and numbers).\n",
    "2. Make sure the notebook you submit is cleanly and fully executed. I do not grade unexecuted notebooks.\n",
    "3. Submit your notebook back in Blackboard where you downloaded this file.\n",
    "\n",
    "*Provide the output **exactly** as requested*"
   ]
  },
  {
   "cell_type": "markdown",
   "metadata": {},
   "source": [
    "## k Nearest Neighbors and Model Evaluation\n",
    "\n",
    "In this programming assignment you will use k Nearest Neighbors (kNN) to build a \"model\" that will estimate the compressive strength of various types of concrete. This assignment has several objectives:\n",
    "\n",
    "1. Implement the kNN algorithm with k=9. Remember...the data + distance function is the model in kNN. In addition to asserts that unit test your code, you should \"test drive\" the model, showing output that a non-technical person could interpret.\n",
    "\n",
    "2. You are going to compare the kNN model above against the baseline model described in the course notes (the mean of the training set's target variable). You should use 10 fold cross validation and Mean Squared Error (MSE):\n",
    "\n",
    "$$MSE = \\frac{1}{n}\\sum^n_i (y_i - \\hat{y}_i)^2$$\n",
    "\n",
    "as the evaluation metric (\"error\"). Refer to the course notes for the format your output should take. Don't forget a discussion of the results.\n",
    "\n",
    "3. use validation curves to tune a *hyperparameter* of the model. \n",
    "In this case, the hyperparameter is *k*, the number of neighbors. Don't forget a discussion of the results.\n",
    "\n",
    "4. evaluate the *generalization error* of the new model.\n",
    "Because you may have just created a new, better model, you need a sense of its generalization error, calculate that. Again, what would you like to see as output here? Refer to the course notes. Don't forget a discussion of the results. Did the new model do better than either model in Q2?\n",
    "\n",
    "5. pick one of the \"Choose Your Own Adventure\" options.\n",
    "\n",
    "Refer to the \"course notes\" for this module for most of this assignment.\n",
    "Anytime you just need test/train split, use fold index 0 for the test set and the remainder as the training set.\n",
    "Discuss any results."
   ]
  },
  {
   "cell_type": "markdown",
   "metadata": {},
   "source": [
    "## Load the Data\n",
    "\n",
    "The function `parse_data` loads the data from the specified file and returns a List of Lists. The outer List is the data set and each element (List) is a specific observation. Each value of an observation is for a particular measurement. This is what we mean by \"tidy\" data.\n",
    "\n",
    "The function also returns the *shuffled* data because the data might have been collected in a particular order that *might* bias training."
   ]
  },
  {
   "cell_type": "code",
   "execution_count": 1,
   "metadata": {},
   "outputs": [],
   "source": [
    "import random\n",
    "from typing import List, Dict, Tuple, Callable\n",
    "import math\n",
    "from copy import deepcopy\n",
    "from pprint import pprint\n",
    "import matplotlib.pyplot as plt"
   ]
  },
  {
   "cell_type": "code",
   "execution_count": 3,
   "metadata": {},
   "outputs": [],
   "source": [
    "def parse_data(file_name: str) -> List[List]:\n",
    "    data = []\n",
    "    file = open(file_name, \"r\")\n",
    "    for line in file:\n",
    "        datum = [float(value) for value in line.rstrip().split(\",\")]\n",
    "        data.append(datum)\n",
    "    random.shuffle(data)\n",
    "    return data"
   ]
  },
  {
   "cell_type": "code",
   "execution_count": 4,
   "metadata": {},
   "outputs": [],
   "source": [
    "data = parse_data(\"concrete_compressive_strength.csv\")"
   ]
  },
  {
   "cell_type": "code",
   "execution_count": 5,
   "metadata": {},
   "outputs": [
    {
     "data": {
      "text/plain": [
       "[425.0, 106.3, 0.0, 151.4, 18.6, 936.0, 803.7, 3.0, 36.3]"
      ]
     },
     "execution_count": 5,
     "metadata": {},
     "output_type": "execute_result"
    }
   ],
   "source": [
    "data[0]"
   ]
  },
  {
   "cell_type": "code",
   "execution_count": 6,
   "metadata": {},
   "outputs": [
    {
     "data": {
      "text/plain": [
       "1030"
      ]
     },
     "execution_count": 6,
     "metadata": {},
     "output_type": "execute_result"
    }
   ],
   "source": [
    "len(data)"
   ]
  },
  {
   "cell_type": "markdown",
   "metadata": {},
   "source": [
    "There are 1,030 observations and each observation has 8 measurements. The data dictionary for this data set tells us the definitions of the individual variables (columns/indices):\n",
    "\n",
    "| Index | Variable | Definition |\n",
    "|-------|----------|------------|\n",
    "| 0     | cement   | kg in a cubic meter mixture |\n",
    "| 1     | slag     | kg in a cubic meter mixture |\n",
    "| 2     | ash      | kg in a cubic meter mixture |\n",
    "| 3     | water    | kg in a cubic meter mixture |\n",
    "| 4     | superplasticizer | kg in a cubic meter mixture |\n",
    "| 5     | coarse aggregate | kg in a cubic meter mixture |\n",
    "| 6     | fine aggregate | kg in a cubic meter mixture |\n",
    "| 7     | age | days |\n",
    "| 8     | concrete compressive strength | MPa |\n",
    "\n",
    "The target (\"y\") variable is a Index 8, concrete compressive strength in (Mega?) [Pascals](https://en.wikipedia.org/wiki/Pascal_(unit))."
   ]
  },
  {
   "cell_type": "code",
   "execution_count": 7,
   "metadata": {},
   "outputs": [],
   "source": [
    "cols=[\"0\",\"1\",\"2\",\"3\",\"4\",\"5\",\"6\",\"7\", \"y\", \"est_y\"]"
   ]
  },
  {
   "cell_type": "markdown",
   "metadata": {},
   "source": [
    "## Train/Test Splits - n folds\n",
    "\n",
    "With n fold cross validation, we divide our data set into n subgroups called \"folds\" and then use those folds for training and testing. You pick n based on the size of your data set. If you have a small data set--100 observations--and you used n=10, each fold would only have 10 observations. That's probably too small. You want at least 30. At the other extreme, we generally don't use n > 10.\n",
    "\n",
    "With 1,030 observations, n = 10 is fine so we will have 10 folds.\n",
    "`create_folds` will take a list (xs) and split it into `n` equal folds with each fold containing one-tenth of the observations."
   ]
  },
  {
   "cell_type": "code",
   "execution_count": 8,
   "metadata": {},
   "outputs": [],
   "source": [
    "def create_folds(xs: List, n: int) -> List[List[List]]:\n",
    "    k, m = divmod(len(xs), n)\n",
    "    # be careful of generators...\n",
    "    return list(xs[i * k + min(i, m):(i + 1) * k + min(i + 1, m)] for i in range(n))"
   ]
  },
  {
   "cell_type": "code",
   "execution_count": 9,
   "metadata": {},
   "outputs": [],
   "source": [
    "folds = create_folds(data, 10)"
   ]
  },
  {
   "cell_type": "code",
   "execution_count": 10,
   "metadata": {},
   "outputs": [
    {
     "data": {
      "text/plain": [
       "10"
      ]
     },
     "execution_count": 10,
     "metadata": {},
     "output_type": "execute_result"
    }
   ],
   "source": [
    "len(folds)"
   ]
  },
  {
   "cell_type": "markdown",
   "metadata": {},
   "source": [
    "We always use one of the n folds as a test set (and, sometimes, one of the folds as a *pruning* set but not for kNN), and the remaining folds as a training set.\n",
    "We need a function that'll take our n folds and return the train and test sets:"
   ]
  },
  {
   "cell_type": "code",
   "execution_count": 11,
   "metadata": {},
   "outputs": [],
   "source": [
    "def create_train_test(folds: List[List[List]], index: int) -> Tuple[List[List], List[List]]:\n",
    "    training = []\n",
    "    test = []\n",
    "    for i, fold in enumerate(folds):\n",
    "        if i == index:\n",
    "            test = fold\n",
    "        else:\n",
    "            training = training + fold\n",
    "    return training, test"
   ]
  },
  {
   "cell_type": "markdown",
   "metadata": {},
   "source": [
    "We can test the function to give us a train and test datasets where the test set is the fold at index 0:"
   ]
  },
  {
   "cell_type": "code",
   "execution_count": 12,
   "metadata": {},
   "outputs": [],
   "source": [
    "train, test = create_train_test(folds, 0)"
   ]
  },
  {
   "cell_type": "code",
   "execution_count": 13,
   "metadata": {},
   "outputs": [
    {
     "data": {
      "text/plain": [
       "927"
      ]
     },
     "execution_count": 13,
     "metadata": {},
     "output_type": "execute_result"
    }
   ],
   "source": [
    "len(train)"
   ]
  },
  {
   "cell_type": "code",
   "execution_count": 14,
   "metadata": {},
   "outputs": [
    {
     "data": {
      "text/plain": [
       "9"
      ]
     },
     "execution_count": 14,
     "metadata": {},
     "output_type": "execute_result"
    }
   ],
   "source": [
    "len(train[0])"
   ]
  },
  {
   "attachments": {},
   "cell_type": "markdown",
   "metadata": {},
   "source": [
    "<a id=\"euclidean_dist\"></a>\n",
    "## euclidean_dist\n",
    "\n",
    "This function calculates the euclidean distance between a group of training data\n",
    "compared to a single point. \n",
    "\n",
    "\n",
    "* **data** List[List[float]]: list of data points with multiple numeric features\n",
    "* **query** List[float]: a single data point with multiple features\n",
    "\n",
    "\n",
    "**returns** List[float]: distances between each point in data to the query point"
   ]
  },
  {
   "cell_type": "code",
   "execution_count": 15,
   "metadata": {},
   "outputs": [],
   "source": [
    "def euclidean_dist(data:List[List[float]],query:List[float])->List[float]:\n",
    "    dist = []\n",
    "    for rw in data:\n",
    "        if len(rw) != len(query):\n",
    "            print(\"The number of features between data and query doesn't match\")\n",
    "            return []\n",
    "        sum = 0\n",
    "        for col_index in range(len(rw) -1): #excluding making distance on label field\n",
    "            diff = rw[col_index] - query[col_index]\n",
    "            diff_squared = diff * diff\n",
    "            sum += diff_squared\n",
    "        diff_root = math.sqrt(sum)\n",
    "        dist.append(diff_root)\n",
    "    return dist\n",
    "\n"
   ]
  },
  {
   "cell_type": "code",
   "execution_count": 16,
   "metadata": {},
   "outputs": [
    {
     "name": "stdout",
     "output_type": "stream",
     "text": [
      "The number of features between data and query doesn't match\n"
     ]
    }
   ],
   "source": [
    "# data from the self check\n",
    "d_test = [[.23,.81, .5],[.42,.78,.7],[.64,.23,.8],[.87,.19,.12],[.76,.43,.34]]\n",
    "y_test = [.39, .63,.45]\n",
    "dists_test = euclidean_dist(d_test,y_test )\n",
    "dists_test\n",
    "\n",
    "# check function returns a list\n",
    "assert isinstance(dists_test, list)\n",
    "\n",
    "#check the number of distances returned is length of data\n",
    "assert len(dists_test)== len(d_test)\n",
    "\n",
    "#check all values are positive (from the power and the square in algo)\n",
    "for dist in dists_test:\n",
    "    assert dist > 0\n",
    "\n",
    "d_test2 = [[item[0]] for item in d_test]\n",
    "dists_test2 = euclidean_dist(d_test2,y_test )\n",
    "# check empty distance is returned if a mismatch in features\n",
    "assert dists_test2 == []"
   ]
  },
  {
   "attachments": {},
   "cell_type": "markdown",
   "metadata": {},
   "source": [
    "<a id=\"find_top_k\"></a>\n",
    "## find_top_k\n",
    "\n",
    "Finds the indexes of the closests neighbors. The closest k indexes are retuned\n",
    "\n",
    "\n",
    "* **dists** List[float]: list of distances\n",
    "* **k** int: number of neighbors to find\n",
    "\n",
    "\n",
    "**returns** List[int]: indexes of closest neighbors"
   ]
  },
  {
   "cell_type": "code",
   "execution_count": 17,
   "metadata": {},
   "outputs": [],
   "source": [
    "def find_top_k(dists: List[float], k:int)->List[int]:\n",
    "    dists_copy = deepcopy(dists)\n",
    "    closest_neighbors = []\n",
    "    while len(closest_neighbors) < k:\n",
    "        current_min = min(dists_copy)\n",
    "        neighbor = dists.index(current_min)\n",
    "        closest_neighbors.append(neighbor)\n",
    "        \n",
    "        dists_copy.remove(current_min) # remove from list to find next closest neighbor\n",
    "\n",
    "    return closest_neighbors\n",
    "    "
   ]
  },
  {
   "cell_type": "code",
   "execution_count": 18,
   "metadata": {},
   "outputs": [],
   "source": [
    "dists_test = [9.1,2.2, 5.3, 6.5, 7.6, 1.3, 0.4, 8.6]\n",
    "k_test = 3\n",
    "len_dists = len(dists_test)\n",
    "n = find_top_k(dists_test, k_test)\n",
    "\n",
    "# check the number of items returned matches k\n",
    "assert len(n) == k_test\n",
    "\n",
    "#check only indexes are returned. No distances/floats returned\n",
    "for item in n:\n",
    "    assert isinstance(item, int)\n",
    "\n",
    "# Check that the correct indexes are returned\n",
    "assert n == [6, 5, 1]\n",
    "\n",
    "# check length of distances stays the same\n",
    "assert len(dists_test) == len_dists"
   ]
  },
  {
   "attachments": {},
   "cell_type": "markdown",
   "metadata": {},
   "source": [
    "<a id=\"knn\"></a>\n",
    "## knn\n",
    "\n",
    "- Returns a list of predictions for each query.\n",
    "- The prediction is from taking the average value of the\n",
    "k nearest neighbors. \n",
    "- The neareness measure comes from the euclidean distance\n",
    "\n",
    "\n",
    "* **data** List[List[float]]: list of data points to measure against the query points\n",
    "* **queries** List[List[float]]:list of data points to make predictions of\n",
    "* **k** int:number of neighbors in aggregate to make prediction\n",
    "\n",
    "\n",
    "**returns** List[float]: returns a list of predictions"
   ]
  },
  {
   "cell_type": "code",
   "execution_count": 19,
   "metadata": {},
   "outputs": [],
   "source": [
    "def knn(data:List[List[float]], queries:List[List[float]], k:int)-> List[float]:\n",
    "    preds = []\n",
    "\n",
    "    for query in queries:\n",
    "        dists = euclidean_dist(data,query) # get distances\n",
    "        \n",
    "        neighbors = find_top_k(dists, k) # find closest neighbors\n",
    "        \n",
    "        label_index = len(query) - 1\n",
    "        labels = [data[n_index][label_index] for n_index in neighbors] # getting values of neighbors\n",
    "        \n",
    "        est_y = round((sum(labels)/ k), 2) # make prediction for query point\n",
    "        preds.append(est_y) # add column\n",
    "    \n",
    "    return preds\n",
    "\n",
    "        "
   ]
  },
  {
   "cell_type": "code",
   "execution_count": 20,
   "metadata": {},
   "outputs": [],
   "source": [
    "data_test =[[1,2,3],[3,3,3],[4,4,4],[4,5,6],[5,6,7],[4,4,4]]\n",
    "queries_test= [[4,5,5],[2,2,2]]\n",
    "data_len = len(data_test)\n",
    "queries_len = len(queries_test)\n",
    "labels_test = knn(data_test, queries_test, 2)\n",
    "labels_test\n",
    "\n",
    "#check number of prediction is same number of queries\n",
    "assert len(labels_test) == len(queries_test)\n",
    "\n",
    "#check predictions are floats. They are averages of labels\n",
    "for label in labels_test:\n",
    "    assert isinstance(label, float)\n",
    "\n",
    "#check no changes in size happens to the data or query lists\n",
    "assert len(data_test) == data_len and len(queries_test) == queries_len\n",
    "\n"
   ]
  },
  {
   "attachments": {},
   "cell_type": "markdown",
   "metadata": {},
   "source": [
    "<a id=\"null_model\"></a>\n",
    "## null_model\n",
    "\n",
    "- Returns a list of predictions\n",
    "- All prediction values will be the average label in the data set\n",
    "\n",
    "\n",
    "* **data** List[List[float]]: list of data points to measure against the query points\n",
    "* **queries** List[List[float]]:list of data points to make predictions of\n",
    "\n",
    "**returns** List[float]: returns a list of predictions"
   ]
  },
  {
   "cell_type": "code",
   "execution_count": 21,
   "metadata": {},
   "outputs": [],
   "source": [
    "def null_model(data: List[List[float]], queries:List[List[float]])-> List[float]:\n",
    "    data_labels = [rw[-1] for rw in data]\n",
    "    avg = round((sum(data_labels)/ len(data)), 2) \n",
    "\n",
    "    preds = [avg for query in queries]\n",
    "\n",
    "    return preds"
   ]
  },
  {
   "cell_type": "code",
   "execution_count": 22,
   "metadata": {},
   "outputs": [],
   "source": [
    "data_test =[[1,2,3],[3,3,3],[4,4,4],[4,5,6],[5,6,7],[4,4,4]]\n",
    "queries_test= [[4,5,5],[2,2,2]]\n",
    "\n",
    "preds_test = null_model(data_test, queries_test)\n",
    "\n",
    "#check number of predictions matches number of queries\n",
    "assert len(preds_test) == len(queries_test)\n",
    "\n",
    "# check pred is the same value\n",
    "assert preds_test[0] == preds_test[1]\n",
    "\n",
    "#check pred is a float. Should be a label value not an index\n",
    "assert isinstance(preds_test[0], float)"
   ]
  },
  {
   "attachments": {},
   "cell_type": "markdown",
   "metadata": {},
   "source": [
    "<a id=\"mse\"></a>\n",
    "## mse\n",
    "\n",
    "- Returns the mean squared error of the predictions\n",
    "- This function first finds the error between the prediction and actual value\n",
    "- Then squares that value. \n",
    "- Then the average is take of the errors. \n",
    "- A low error rate is best. The closer to zero the better. \n",
    "\n",
    "* **labels** List[float]: list of true labels/the actual value\n",
    "* **preds** List[float]:list predicted values\n",
    "\n",
    "**returns** float: returns the mean squared error"
   ]
  },
  {
   "cell_type": "code",
   "execution_count": 23,
   "metadata": {},
   "outputs": [],
   "source": [
    "def mse(labels:List[float], preds:List[float])-> float:\n",
    "    sum = 0\n",
    "    for index in range(len(labels)):\n",
    "        diff = labels[index] - preds[index]\n",
    "        diff_squared = diff * diff\n",
    "        sum += diff_squared\n",
    "    mse_val = round((sum / len(labels)),4)\n",
    "    return mse_val\n"
   ]
  },
  {
   "cell_type": "code",
   "execution_count": 24,
   "metadata": {},
   "outputs": [],
   "source": [
    "# data from self check MSE questions\n",
    "y = [3.78,4.82,2.83,2.76,3.48]\n",
    "y_hat =[3.32,5.21,2.97,2.37,3.29]\n",
    "test_mse= mse(y, y_hat)\n",
    "\n",
    "# check only one value returned. Not a list of errors\n",
    "assert isinstance(test_mse, float)\n",
    "\n",
    "# check the value is greater than zero. Zero means the is no errors aka perfect model\n",
    "assert test_mse > 0\n",
    "\n",
    "#check the mean squared error is the expected value\n",
    "assert test_mse == .1143"
   ]
  },
  {
   "attachments": {},
   "cell_type": "markdown",
   "metadata": {},
   "source": [
    "<a id=\"print_errors\"></a>\n",
    "## print_errors\n",
    "\n",
    "- print error function returns no value, but instead prints the errors like in the documentation\n",
    "- An error rate per fold is printed\n",
    "- At the end the average error rate is printed\n",
    "\n",
    "* **error** List[float]: list of errors per fold\n",
    "* **preds** str: name of the model\n"
   ]
  },
  {
   "cell_type": "code",
   "execution_count": 25,
   "metadata": {},
   "outputs": [],
   "source": [
    "def print_errors(errors:List[float], model:str):\n",
    "    print(\"Error Rate for model\", model)\n",
    "    for i in range(10):\n",
    "        fold_num = i +1\n",
    "        print(\"Fold\",fold_num, \"error rate:\", errors[i] )\n",
    "    # find average\n",
    "    avg = sum(errors)/ len(errors)\n",
    "    print(\"Mean=\", avg)\n"
   ]
  },
  {
   "cell_type": "code",
   "execution_count": 26,
   "metadata": {},
   "outputs": [],
   "source": [
    "# no unit test because this function is only for displaying output\n",
    "# nothing is returned to a value"
   ]
  },
  {
   "attachments": {},
   "cell_type": "markdown",
   "metadata": {},
   "source": [
    "<a id=\"plot_val_curves\"></a>\n",
    "## plot_val_curves\n",
    "\n",
    "- This function returns no value, but instead prints a validation curve\n",
    "- The validation curves plots the error rate for both the training and test data\n",
    "- The test curve with the lowest error rate is the optimal hyperparameter\n",
    "\n",
    "* **x** List[int]: list of k values, the hyperparameters that were tuned\n",
    "* **test** List[float]: list of test errors\n",
    "* **train** List[float]: list of training errors"
   ]
  },
  {
   "cell_type": "code",
   "execution_count": 27,
   "metadata": {},
   "outputs": [],
   "source": [
    "def plot_val_curves(x:List[int], test:List[float], train:List[float]):\n",
    "    plt.plot(x, test, label =\"test\")\n",
    "    plt.plot(x, train, label=\"train\")\n",
    "    plt.xlabel(\"K Values\")\n",
    "    plt.ylabel(\"Error Rate\")\n",
    "    plt.legend()\n",
    "    plt.title(\"Validation Curves\")\n",
    "    plt.show()\n"
   ]
  },
  {
   "attachments": {},
   "cell_type": "markdown",
   "metadata": {},
   "source": [
    "<a id=\"z_score\"></a>\n",
    "## z_score\n",
    "\n",
    "- Normalizes the data but transforming each column to be the z score\n",
    "- All columns in the query data set are transformed except for the label column\n",
    "- The label column is always the last column\n",
    "- Z = X- Mean / Standard Deviation\n",
    "\n",
    "* **data** List[List[float]]: list of training data. Data used to calc mean and standard deviation\n",
    "* **query** List[List[float]]: data set to normalize\n",
    "\n",
    "**returns** List[List[float]]: normalized data set"
   ]
  },
  {
   "cell_type": "code",
   "execution_count": 28,
   "metadata": {},
   "outputs": [],
   "source": [
    "def z_score(data:List[List[float]], query:List[List[float]])-> List[List[float]]:\n",
    "    means = []\n",
    "    st_devs = []\n",
    "    norm = deepcopy(query)\n",
    "\n",
    "    for feature in range(len(data[0]) -1): # get data mean and stdev\n",
    "        col = [row[feature] for row in data]\n",
    "        mean = sum(col)/ len(col)\n",
    "        diff = [ pow(( x- mean), 2) for x in col ]\n",
    "        diff_sum = sum(diff)\n",
    "        st_dev = pow(diff_sum/ len(col),.5)\n",
    "        \n",
    "        means.append(mean)\n",
    "        st_devs.append(st_dev)\n",
    "  \n",
    "    for rw in range(len(query)):\n",
    "        for col in range(len(query[rw])-1):\n",
    "            z = (query[rw][col] - means[col])/ (st_devs[col])\n",
    "            norm[rw][col] = round(z, 4) # normalize data\n",
    "    return norm"
   ]
  },
  {
   "cell_type": "code",
   "execution_count": 29,
   "metadata": {},
   "outputs": [],
   "source": [
    "x = [[1,2,3], [2,2,2], [1,6,4]]\n",
    "y = [[4,5,6],[4,3,6]]\n",
    "norm_y = z_score(x, y)\n",
    "\n",
    "#check the original data set didnt get updated\n",
    "assert y != norm_y\n",
    "\n",
    "#check that the last row, label column, matches\n",
    "# checking we did not normalize the label column\n",
    "assert [ rw[-1] for rw in y] == [ rw[-1] for rw in norm_y]\n",
    "\n",
    "#check that all data is present\n",
    "assert len(y) == len(norm_y)\n",
    "assert len(y[0]) == len(norm_y[0])"
   ]
  },
  {
   "cell_type": "markdown",
   "metadata": {},
   "source": [
    "## Answers\n",
    "\n",
    "Answer the questions above in the space provided below, adding cells as you need to.\n",
    "Put everything in the helper functions and document them.\n",
    "Document everything (what you're doing and why).\n",
    "If you're not sure what format the output should take, refer to the course notes and what they do for that particular topic/algorithm."
   ]
  },
  {
   "cell_type": "markdown",
   "metadata": {},
   "source": [
    "## Problem 1: kNN\n",
    "\n",
    "Implement k Nearest Neighbors with k = 9."
   ]
  },
  {
   "cell_type": "code",
   "execution_count": 30,
   "metadata": {},
   "outputs": [
    {
     "name": "stdout",
     "output_type": "stream",
     "text": [
      "     0     1     2     3     4     5     6     7     y est_y\n",
      " 425.0 106.3   0.0 151.4  18.6 936.0 803.7   3.0  36.3 57.28\n",
      " 379.5 151.2   0.0 153.9  15.91134.3 605.0  56.0  54.9 54.36\n",
      " 213.7  98.1  24.5 181.7   6.91065.8 785.4 100.0  53.9  46.2\n",
      " 194.7   0.0 100.5 170.2   7.5 998.0 901.8 100.0 44.28 42.67\n",
      " 425.0 106.3   0.0 151.4  18.6 936.0 803.7  28.0  61.8 62.87\n",
      " 213.5   0.0 174.2 154.6  11.71052.3 775.5  56.0 51.43  42.0\n",
      " 213.5   0.0 174.2 159.2  11.71043.6 771.9   3.0 15.61 29.15\n",
      " 303.6 139.9   0.0 213.5   6.2 895.5 722.5  28.0 33.42 43.51\n",
      " 213.5   0.0 174.2 154.6  11.71052.3 775.5  28.0 45.94 33.33\n",
      " 181.4   0.0 167.0 169.6   7.61055.6 777.8 100.0 45.37 42.81\n",
      " 198.6 132.4   0.0 192.0   0.0 978.4 825.5   7.0 14.64 16.59\n",
      " 153.0 102.0   0.0 192.0   0.0 888.0 943.1  28.0 17.96 14.57\n",
      " 297.8 137.2 106.9 201.3   6.0 878.4 655.3  28.0 53.52 42.59\n",
      " 230.0   0.0 118.3 195.5   4.61029.4 758.6   3.0 10.03 21.05\n",
      " 388.6  97.1   0.0 157.9  12.1 852.1 925.7  28.0  50.7 49.63\n",
      " 116.0 173.0   0.0 192.0   0.0 909.8 891.9   7.0 10.09 15.92\n",
      " 436.0   0.0   0.0 218.0   0.0 838.4 719.7  28.0 23.85 41.21\n",
      " 356.0   0.0 142.0 193.0  11.0 801.0 778.0  28.0 40.87 35.55\n",
      " 102.0 153.0   0.0 192.0   0.0 887.0 942.0   7.0  7.68  16.5\n",
      " 491.0  26.0 123.0 210.0   3.9 882.0 699.0  28.0 55.55 42.73\n",
      " 286.3 200.9   0.0 144.7  11.21004.6 803.7   3.0  24.4 49.73\n",
      " 203.5 305.3   0.0 203.5   0.0 963.4 630.0   3.0  9.56 32.98\n",
      " 154.0 174.0 185.0 228.0   7.0 845.0 612.0  28.0 24.34 30.97\n",
      " 425.0 106.3   0.0 153.5  16.5 852.1 887.1  91.0  65.2 62.42\n",
      " 238.0   0.0   0.0 186.0   0.01119.0 789.0   7.0 12.05 15.45\n",
      " 333.0   0.0   0.0 192.0   0.0 931.2 842.6  90.0 41.68 32.74\n",
      " 374.3   0.0   0.0 190.2   6.71013.2 730.4  28.0 39.06 37.14\n",
      " 309.9 142.8 111.2 167.8  22.1 913.9 651.2  28.0 38.22  43.3\n",
      " 304.0 140.0   0.0 214.0   6.0 895.0 722.0  28.0 33.42 43.51\n",
      " 254.0   0.0   0.0 198.0   0.0 968.0 863.0 365.0 29.79 36.21\n",
      " 313.0   0.0   0.0 178.0   8.01000.0 822.0  28.0  25.1 29.16\n",
      " 362.6 189.0   0.0 164.9  11.6 944.7 755.8   3.0  35.3 49.57\n",
      " 310.0   0.0   0.0 192.0   0.0 970.0 850.0   7.0 14.99 19.48\n",
      " 322.0   0.0   0.0 203.0   0.0 974.0 800.0  28.0 25.18 29.83\n",
      " 173.8  93.4 159.9 172.3   9.71007.2 746.6  28.0 37.81 36.16\n",
      " 491.0  26.0 123.0 201.0   3.9 822.0 699.0  56.0 61.86 42.74\n",
      " 424.0  22.0 132.0 168.0   8.9 822.0 750.0  56.0 74.36 44.27\n",
      " 475.0 118.8   0.0 181.1   8.9 852.1 781.5  28.0  68.3 60.21\n",
      " 212.0   0.0 124.8 159.0   7.81085.4 799.5  14.0 31.35 22.48\n",
      " 157.0 236.0   0.0 192.0   0.0 935.4 781.2  90.0 43.38 31.03\n",
      " 250.0   0.0  95.7 187.4   5.5 956.9 861.2  14.0 24.92 20.51\n",
      " 321.0 164.0   0.0 190.0   5.0 870.0 774.0  28.0 57.21 51.17\n",
      " 212.0 141.3   0.0 203.5   0.0 973.4 750.0   7.0 15.03 20.32\n",
      " 540.0   0.0   0.0 173.0   0.01125.0 613.0 180.0 71.62 59.07\n",
      " 158.0   0.0 195.0 220.0  11.0 898.0 713.0  28.0  8.54 15.16\n",
      " 362.6 189.0   0.0 164.9  11.6 944.7 755.8   3.0  35.3 49.57\n",
      " 146.0 230.0   0.0 202.0   3.0 827.0 872.0  28.0 33.06 28.47\n",
      " 375.0   0.0   0.0 186.0   0.01038.0 758.0  28.0 38.21 32.04\n",
      " 424.0  22.0 132.0 178.0   8.5 822.0 750.0   7.0  39.0 44.27\n",
      " 168.9  42.2 124.3 158.3  10.81080.8 796.2  56.0 39.15 33.85\n",
      " 295.7   0.0  95.6 171.5   8.9 955.1 859.2  14.0 35.23  35.2\n",
      " 480.0   0.0   0.0 192.0   0.0 936.0 721.0   3.0 24.39 41.21\n",
      " 102.0 153.0   0.0 192.0   0.0 887.0 942.0   3.0  4.57  15.9\n",
      " 160.0 188.0 146.0 203.0  11.0 829.0 710.0  28.0 32.84 32.08\n",
      " 148.5 139.4 108.6 192.7   6.1 892.4 780.0  28.0  23.7 30.87\n",
      " 250.0   0.0  95.7 191.8   5.3 948.9 857.2  28.0 27.22  25.8\n",
      " 289.0   0.0   0.0 192.0   0.0 913.2 895.3   3.0 11.65  15.5\n",
      " 183.9 122.6   0.0 203.5   0.0 959.2 800.0   3.0   4.9 16.59\n",
      " 286.3 200.9   0.0 144.7  11.21004.6 803.7   7.0  38.0 49.73\n",
      " 233.8   0.0  94.6 197.9   4.6 947.0 852.2  28.0 22.84 23.87\n",
      " 425.0 106.3   0.0 153.5  16.5 852.1 887.1   3.0  33.4 51.06\n",
      " 133.0 210.0   0.0 196.0   3.0 949.0 795.0  28.0 31.03 20.54\n",
      " 165.0 128.5 132.1 175.1   8.11005.8 746.6   3.0 19.42 30.82\n",
      " 186.2 124.1   0.0 185.7   0.01083.4 764.3   7.0   8.0 23.67\n",
      " 289.0 133.7   0.0 194.9   5.5 924.1 760.1  28.0 46.25  47.6\n",
      " 213.5   0.0 174.2 154.6  11.71052.3 775.5   3.0 17.37 29.15\n",
      " 182.0  45.2 122.0 170.2   8.21059.4 780.7 100.0 48.67  45.3\n",
      " 139.6 209.4   0.0 192.0   0.01047.0 806.9   3.0  8.06 23.52\n",
      " 186.2 124.1   0.0 185.7   0.01083.4 764.3  28.0  17.6 25.07\n",
      " 133.0 200.0   0.0 192.0   0.0 927.4 839.2   3.0  6.88 15.45\n",
      " 387.0  20.0  94.0 157.0  13.9 938.0 845.0   7.0  45.9 39.23\n",
      " 446.0  24.0  79.0 162.0  11.6 967.0 712.0  28.0 57.03 36.26\n",
      " 255.0   0.0   0.0 192.0   0.0 889.8 945.0  28.0 18.75 17.09\n",
      " 203.5 305.3   0.0 203.5   0.0 963.4 630.0   7.0 19.54 32.98\n",
      " 500.0   0.0   0.0 200.0   0.01125.0 613.0  14.0 36.94 37.85\n",
      " 260.0 101.0  78.0 171.0  10.0 936.0 763.0  28.0 49.77 37.81\n",
      " 167.0  75.4 167.0 164.0   7.91007.3 770.1  14.0  32.9 33.23\n",
      " 212.0   0.0 124.8 159.0   7.81085.4 799.5  56.0 45.08 32.37\n",
      " 331.0   0.0   0.0 192.0   0.0 978.0 825.0   7.0 16.26 24.84\n",
      " 142.0 167.0 130.0 174.0  11.0 883.0 785.0  28.0 44.61 30.97\n",
      " 385.0   0.0 136.0 158.0  20.0 903.0 768.0  28.0 55.55 45.78\n",
      " 212.1   0.0 121.6 180.3   5.71057.6 779.3 100.0 39.61 40.77\n",
      " 146.0 173.0   0.0 182.0   3.0 986.0 817.0  28.0 23.74 23.97\n",
      " 277.0   0.0   0.0 191.0   0.0 968.0 856.0 360.0  33.7 36.21\n",
      " 178.0 129.8 118.6 179.9   3.61007.3 746.8  56.0 48.59 42.37\n",
      " 252.3   0.0  98.8 146.3  14.2 987.8 889.0  14.0 42.29 30.83\n",
      " 424.0  22.0 132.0 168.0   8.9 822.0 750.0  28.0  72.1 44.27\n",
      " 475.0   0.0   0.0 228.0   0.0 932.0 594.0  90.0 42.23 42.63\n",
      " 491.0  26.0 123.0 210.0   3.9 882.0 699.0  56.0 59.59 44.34\n",
      " 500.0   0.0   0.0 140.0   4.0 966.0 853.0  28.0 67.57 58.74\n",
      " 145.0 116.0 119.0 184.0   5.7 833.0 880.0  28.0 29.16 28.88\n",
      " 284.0  15.0 141.0 179.0   5.5 842.0 801.0  56.0 44.52 33.71\n",
      " 275.1   0.0 121.4 159.5   9.91053.6 777.5   3.0  23.8 25.82\n",
      " 141.3 212.0   0.0 203.5   0.0 971.8 748.5   3.0  4.83 19.54\n",
      " 355.0  19.0  97.0 145.0  13.1 967.0 871.0  28.0 44.03 40.07\n",
      " 331.0   0.0   0.0 192.0   0.01025.0 821.0   3.0 14.31  18.9\n",
      " 116.0 173.0   0.0 192.0   0.0 909.8 891.9  28.0 22.35 17.85\n",
      " 236.0 157.0   0.0 192.0   0.0 972.6 749.1  28.0 32.88 25.21\n",
      " 531.3   0.0   0.0 141.8  28.2 852.1 893.7  56.0  58.8 53.55\n",
      " 276.0 116.0  90.0 180.0   9.0 870.0 768.0  28.0 44.28  37.6\n",
      " 165.0   0.0 143.6 163.8   0.01005.6 900.9 100.0 37.96 37.96\n",
      " 213.7   0.0 174.7 154.8  10.21053.5 776.4  56.0 46.64  42.0\n",
      " 297.2   0.0 117.5 174.8   9.51022.8 753.5   3.0 21.91  30.2\n"
     ]
    }
   ],
   "source": [
    "train, test = create_train_test(folds, 0)\n",
    "preds_knn9 = knn(train, test, 9)\n",
    "\n",
    "frmt = \"{:>6}\"*10 # to print output nicely \n",
    "print(frmt.format(*cols)) #print out col names\n",
    "for rw in range(len(test)):\n",
    "    rw_est = deepcopy(test[rw])\n",
    "    rw_est.append(preds_knn9[rw])\n",
    "    print(frmt.format(*rw_est))\n"
   ]
  },
  {
   "attachments": {},
   "cell_type": "markdown",
   "metadata": {},
   "source": [
    "### Problem 1 Discussion\n",
    "- Problem 1 only provides predictions of the y column using the 9 nearests neighbors\n",
    "- Since no metrics were requested for this problem, we can't make too many assumptions about the data\n",
    "- Just by skimming the data, it looks like some predictions are very close to the actual value and others are very off"
   ]
  },
  {
   "cell_type": "markdown",
   "metadata": {},
   "source": [
    "## Problem 2: Evaluation vs. The Mean\n",
    "\n",
    "Using Mean Squared Error (MSE) as your evaluation metric, evaluate your implement above and the Null model, the mean."
   ]
  },
  {
   "cell_type": "code",
   "execution_count": 31,
   "metadata": {},
   "outputs": [
    {
     "name": "stdout",
     "output_type": "stream",
     "text": [
      "Error Rate for model 9 Nearest Neighbors\n",
      "Fold 1 error rate: 107.9585\n",
      "Fold 2 error rate: 118.0468\n",
      "Fold 3 error rate: 61.9127\n",
      "Fold 4 error rate: 69.5383\n",
      "Fold 5 error rate: 85.123\n",
      "Fold 6 error rate: 84.0148\n",
      "Fold 7 error rate: 82.8341\n",
      "Fold 8 error rate: 83.9085\n",
      "Fold 9 error rate: 82.3116\n",
      "Fold 10 error rate: 125.0381\n",
      "Mean= 90.06864\n",
      "\n",
      "\n",
      "Error Rate for model Null\n",
      "Fold 1 error rate: 299.9075\n",
      "Fold 2 error rate: 282.2684\n",
      "Fold 3 error rate: 281.579\n",
      "Fold 4 error rate: 254.0969\n",
      "Fold 5 error rate: 232.5995\n",
      "Fold 6 error rate: 259.3946\n",
      "Fold 7 error rate: 292.8486\n",
      "Fold 8 error rate: 345.4663\n",
      "Fold 9 error rate: 229.8771\n",
      "Fold 10 error rate: 313.2853\n",
      "Mean= 279.13232000000005\n"
     ]
    }
   ],
   "source": [
    "# get test labels\n",
    "null_errors = []\n",
    "knn9_errors =[]\n",
    "\n",
    "for i in range(10):\n",
    "    train, test = create_train_test(folds, i)\n",
    "    test_labels = [row[8] for row in test]\n",
    "    # get the null model\n",
    "    preds_null = null_model(train, test)\n",
    "    #get 9NN\n",
    "    preds_9nn = knn(train, test, 9)\n",
    "\n",
    "    # compare the results\n",
    "    null_mse = mse(test_labels, preds_null)\n",
    "    knn9_mse = mse(test_labels, preds_9nn)\n",
    "    null_errors.append(null_mse)\n",
    "    knn9_errors.append(knn9_mse)\n",
    "print_errors(knn9_errors, \"9 Nearest Neighbors\")\n",
    "print(\"\\n\")\n",
    "print_errors(null_errors, \"Null\")"
   ]
  },
  {
   "attachments": {},
   "cell_type": "markdown",
   "metadata": {},
   "source": [
    "### Problem 2 Discussion\n",
    "- This problem compares the 9NN model to the Null Model\n",
    "- Overall, the 9NN model had better performance than the Null model. \n",
    "- The 9NN model had the lowest mean squared error. Although, the error rate is still pretty high\n",
    "- The Null model had very high error rate on all folds. This is because all predictions are the same value\n",
    "- Both models had variation of error rate between folds. No fold had the same error rate for either model"
   ]
  },
  {
   "cell_type": "markdown",
   "metadata": {},
   "source": [
    "## Problem 3: Hyperparameter Tuning\n",
    "\n",
    "Tune the value of k."
   ]
  },
  {
   "cell_type": "code",
   "execution_count": 32,
   "metadata": {},
   "outputs": [
    {
     "data": {
      "image/png": "[encoded data removed]",
      "text/plain": [
       "<Figure size 640x480 with 1 Axes>"
      ]
     },
     "metadata": {},
     "output_type": "display_data"
    }
   ],
   "source": [
    "params = [1,2,3,4,5,6,7,8,9]\n",
    "train_errors = []\n",
    "test_errors = []\n",
    "train, test = create_train_test(folds, 0)\n",
    "test_labels = [row[8] for row in test]\n",
    "train_labels = [row[8] for row in train]\n",
    "\n",
    "for i in range(len(params)):\n",
    "    # call KNN\n",
    "    train_pred = knn(train, train, params[i])\n",
    "    test_pred =knn(train, test, params[i])\n",
    "    # evaluate\n",
    "    train_mse = mse(train_labels, train_pred)\n",
    "    test_mse = mse(test_labels, test_pred)\n",
    "    train_errors.append(train_mse)\n",
    "    test_errors.append(test_mse)\n",
    "\n",
    "plot_val_curves(params, test_errors, train_errors)"
   ]
  },
  {
   "attachments": {},
   "cell_type": "markdown",
   "metadata": {},
   "source": [
    "### Problem 3 Discussion\n",
    "- Tuning was done by creating a validation curve. \n",
    "- The curve plotted the error rate of the training and the testing data sets separately\n",
    "- The Value of K with the lowest error for the test set was 3.\n",
    "- When the value of k was 1 for the training set, the error rate was zero, as expected. This is because it is predicting off of the actual value. The K=1 for the training set is not really a neighbor\n",
    "- The test error rate is significantly higher than the training error rate. Adding more data could help improve this model\n"
   ]
  },
  {
   "cell_type": "markdown",
   "metadata": {},
   "source": [
    "## Problem 4: Generalization Error\n",
    "\n",
    "Analyze and discuss the generalization error of your model with the value of k from Problem 3."
   ]
  },
  {
   "cell_type": "code",
   "execution_count": 33,
   "metadata": {},
   "outputs": [
    {
     "name": "stdout",
     "output_type": "stream",
     "text": [
      "Error Rate for model 3 Nearest Neighbors\n",
      "Fold 1 error rate: 98.0986\n",
      "Fold 2 error rate: 76.3839\n",
      "Fold 3 error rate: 59.7684\n",
      "Fold 4 error rate: 49.9689\n",
      "Fold 5 error rate: 76.0549\n",
      "Fold 6 error rate: 79.9068\n",
      "Fold 7 error rate: 71.5664\n",
      "Fold 8 error rate: 79.7444\n",
      "Fold 9 error rate: 65.082\n",
      "Fold 10 error rate: 83.5817\n",
      "Mean= 74.01559999999999\n"
     ]
    }
   ],
   "source": [
    "errors = []\n",
    "for i in range(10):\n",
    "    train, test = create_train_test(folds, i)\n",
    "    test_labels = [row[8] for row in test]\n",
    "\n",
    "    knn_preds = knn(train, test, 3) # using the optimal param from prev problem\n",
    "    error_rate = mse(test_labels, knn_preds)\n",
    "    errors.append(error_rate)\n",
    "print_errors(errors, \"3 Nearest Neighbors\")"
   ]
  },
  {
   "attachments": {},
   "cell_type": "markdown",
   "metadata": {},
   "source": [
    "### Problem 4 Discussion\n",
    "- The generalization error gives us insight on how well our model can make predictions with unknown data\n",
    "- The error rate collected is only based on making predictions of the test set\n",
    "- Compared the 9NN and the Null mode, the 3NN performed much better. 3NN had the lowest error rate"
   ]
  },
  {
   "cell_type": "markdown",
   "metadata": {},
   "source": [
    "## Q5: Choose your own adventure\n",
    "\n",
    "You have three options for the next part:\n",
    "\n",
    "1. You can implement mean normalization (also called \"z-score standardization\") of the *features*; do not normalize the target, y. See if this improves the generalization error of your model (middle).\n",
    "\n",
    "2. You can implement *learning curves* to see if more data would likely improve your model (easiest).\n",
    "\n",
    "3. You can implement *weighted* kNN and use the real valued GA to choose the weights. weighted kNN assigns a weight to each item in the Euclidean distance calculation. For two points, j and k:\n",
    "$$\\sqrt{\\sum w_i (x^k_i - x^j_i)^2}$$\n",
    "\n",
    "You can think of normal Euclidean distance as the case where $w_i = 1$ for all features  (ambitious, but fun...you need to start EARLY because it takes a really long time to run).\n",
    "\n",
    "The easier the adventure the more correct it must be..."
   ]
  },
  {
   "cell_type": "code",
   "execution_count": 34,
   "metadata": {},
   "outputs": [
    {
     "name": "stdout",
     "output_type": "stream",
     "text": [
      "Error Rate for model 3 Nearest Neighbors\n",
      "Fold 1 error rate: 104.8352\n",
      "Fold 2 error rate: 63.8911\n",
      "Fold 3 error rate: 59.804\n",
      "Fold 4 error rate: 55.7595\n",
      "Fold 5 error rate: 65.5548\n",
      "Fold 6 error rate: 76.7593\n",
      "Fold 7 error rate: 61.9933\n",
      "Fold 8 error rate: 75.4078\n",
      "Fold 9 error rate: 72.4915\n",
      "Fold 10 error rate: 89.8082\n",
      "Mean= 72.63046999999999\n"
     ]
    }
   ],
   "source": [
    "# Z Score Normalization\n",
    "errors = []\n",
    "for i in range(10):\n",
    "    train, test = create_train_test(folds, i)\n",
    "    test_new = z_score(train, test)\n",
    "    train_new =  z_score(train, train)\n",
    "    test_labels = [row[8] for row in test]\n",
    "\n",
    "    knn_preds = knn(train_new, test_new, 3) # using the optimal param from prev problem\n",
    "    error_rate = mse(test_labels, knn_preds)\n",
    "    errors.append(error_rate)\n",
    "print_errors(errors, \"3 Nearest Neighbors\")"
   ]
  },
  {
   "attachments": {},
   "cell_type": "markdown",
   "metadata": {},
   "source": [
    "### Problem 5 Discussion\n",
    "- Normalizing the data did improve my model a little bit. \n",
    "- The previous 3NN without normalization had an average error of 74.0 and my 3NN normalized had an error rate of 72.6\n",
    "- My understanding of normalizing the data is that you use the training datas mean and standard deviation in the z score formula when transforming both the test and training set, but maybe that is not correct. "
   ]
  },
  {
   "attachments": {},
   "cell_type": "markdown",
   "metadata": {},
   "source": [
    "### Comments\n",
    "- I didn't have difficulties implementing any of the logic for KNN or the metrics\n",
    "- But I wasn't 100% sure about the formatting of the output. I tried following the course notes provided, but it still wasn't clear to me the format for some of the problems like problem 1 and 2. "
   ]
  },
  {
   "cell_type": "markdown",
   "metadata": {},
   "source": [
    "## Before You Submit...\n",
    "\n",
    "1. Did you provide output exactly as requested?\n",
    "2. Did you re-execute the entire notebook? (\"Restart Kernel and Rull All Cells...\")\n",
    "3. If you did not complete the assignment or had difficulty please explain what gave you the most difficulty in the Markdown cell below.\n",
    "4. Did you change the name of the file to `jhed_id.ipynb`?\n",
    "\n",
    "Do not submit any other files."
   ]
  }
 ],
 "metadata": {
  "kernelspec": {
   "display_name": "en605645",
   "language": "python",
   "name": "python3"
  },
  "language_info": {
   "codemirror_mode": {
    "name": "ipython",
    "version": 3
   },
   "file_extension": ".py",
   "mimetype": "text/x-python",
   "name": "python",
   "nbconvert_exporter": "python",
   "pygments_lexer": "ipython3",
   "version": "3.10.5"
  },
  "toc": {
   "colors": {
    "hover_highlight": "#DAA520",
    "navigate_num": "#000000",
    "navigate_text": "#333333",
    "running_highlight": "#FF0000",
    "selected_highlight": "#FFD700",
    "sidebar_border": "#EEEEEE",
    "wrapper_background": "#FFFFFF"
   },
   "moveMenuLeft": true,
   "nav_menu": {
    "height": "117px",
    "width": "252px"
   },
   "navigate_menu": true,
   "number_sections": true,
   "sideBar": true,
   "threshold": 4,
   "toc_cell": false,
   "toc_section_display": "block",
   "toc_window_display": false,
   "widenNotebook": false
  },
  "vscode": {
   "interpreter": {
    "hash": "e906c7fbe804ec0c103892f23dd17a311766537948dcf2ae45407952f88d8394"
   }
  }
 },
 "nbformat": 4,
 "nbformat_minor": 4
}
