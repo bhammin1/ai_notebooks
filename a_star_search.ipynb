{
 "cells": [
  {
   "cell_type": "markdown",
   "metadata": {},
   "source": [
    "# Module 1 - Programming Assignment\n",
    "\n",
    "## General Directions\n",
    "\n",
    "1. You must follow the Programming Requirements outlined on Canvas.\n",
    "2. The Notebook should be cleanly and fully executed before submission.\n",
    "3. You should change the name of this file to be your JHED id. For example, `jsmith299.ipynb` although Canvas will change it to something else... :/\n",
    "\n",
    "<div style=\"background: lemonchiffon; margin:20px; padding: 20px;\">\n",
    "    <strong>Important</strong>\n",
    "    <p>\n",
    "        You should always read the entire assignment before beginning your work, so that you know in advance what the requested output will be and can plan your implementation accordingly.\n",
    "    </p>\n",
    "</div>"
   ]
  },
  {
   "cell_type": "markdown",
   "metadata": {},
   "source": [
    "# State Space Search with A* Search\n",
    "\n",
    "You are going to implement the A\\* Search algorithm for navigation problems.\n",
    "\n",
    "\n",
    "## Motivation\n",
    "\n",
    "Search is often used for path-finding in video games. Although the characters in a video game often move in continuous spaces,\n",
    "it is trivial to layout a \"waypoint\" system as a kind of navigation grid over the continuous space. Then if the character needs\n",
    "to get from Point A to Point B, it does a line of sight (LOS) scan to find the nearest waypoint (let's call it Waypoint A) and\n",
    "finds the nearest, LOS waypoint to Point B (let's call it Waypoint B). The agent then does a A* search for Waypoint B from Waypoint A to find the shortest path. The entire path is thus Point A to Waypoint A to Waypoint B to Point B.\n",
    "\n",
    "We're going to simplify the problem by working in a grid world. The symbols that form the grid have a special meaning as they\n",
    "specify the type of the terrain and the cost to enter a grid cell with that type of terrain:\n",
    "\n",
    "```\n",
    "token   terrain    cost \n",
    "🌾       plains     1\n",
    "🌲       forest     3\n",
    "🪨       hills      5\n",
    "🐊       swamp      7\n",
    "🗻       mountains  impassible\n",
    "```\n",
    "\n",
    "We can think of the raw format of the map as being something like:\n",
    "\n",
    "```\n",
    "🌾🌾🌾🌾🌲🌾🌾\n",
    "🌾🌾🌾🌲🌲🌲🌾\n",
    "🌾🗻🗻🗻🌾🌾🌾\n",
    "🌾🌾🗻🗻🌾🌾🌾\n",
    "🌾🌾🗻🌾🌾🌲🌲\n",
    "🌾🌾🌾🌾🌲🌲🌲\n",
    "🌾🌾🌾🌾🌾🌾🌾\n",
    "```"
   ]
  },
  {
   "cell_type": "markdown",
   "metadata": {},
   "source": [
    "## The World\n",
    "\n",
    "Given a map like the one above, we can easily represent each row as a `List` and the entire map as `List of Lists`:"
   ]
  },
  {
   "cell_type": "code",
   "execution_count": 1,
   "metadata": {},
   "outputs": [],
   "source": [
    "full_world = [\n",
    "['🌾', '🌾', '🌾', '🌾', '🌾', '🌲', '🌲', '🌲', '🌲', '🌲', '🌲', '🌲', '🌲', '🌲', '🌲', '🌾', '🌾', '🌾', '🌾', '🌾', '🌾', '🌾', '🌾', '🌾', '🌾', '🌾', '🌾'],\n",
    "['🌾', '🌾', '🌾', '🌾', '🌾', '🌾', '🌾', '🌲', '🌲', '🌲', '🌲', '🌲', '🌲', '🌲', '🌲', '🌲', '🌾', '🌾', '🗻', '🗻', '🗻', '🗻', '🗻', '🗻', '🗻', '🌾', '🌾'],\n",
    "['🌾', '🌾', '🌾', '🌾', '🗻', '🗻', '🌲', '🌲', '🌲', '🌲', '🌲', '🌲', '🌲', '🌲', '🌲', '🌲', '🌲', '🗻', '🗻', '🗻', '🪨', '🪨', '🪨', '🗻', '🗻', '🪨', '🪨'],\n",
    "['🌾', '🌾', '🌾', '🌾', '🪨', '🗻', '🗻', '🗻', '🌲', '🌲', '🌲', '🌲', '🐊', '🐊', '🌲', '🌲', '🌲', '🌲', '🌲', '🌾', '🌾', '🪨', '🪨', '🗻', '🗻', '🪨', '🌾'],\n",
    "['🌾', '🌾', '🌾', '🪨', '🪨', '🗻', '🗻', '🌲', '🌲', '🌾', '🌾', '🐊', '🐊', '🐊', '🐊', '🌲', '🌲', '🌲', '🌾', '🌾', '🌾', '🪨', '🗻', '🗻', '🗻', '🪨', '🌾'],\n",
    "['🌾', '🪨', '🪨', '🪨', '🗻', '🗻', '🪨', '🪨', '🌾', '🌾', '🌾', '🌾', '🐊', '🐊', '🐊', '🐊', '🐊', '🌾', '🌾', '🌾', '🌾', '🌾', '🪨', '🗻', '🪨', '🌾', '🌾'],\n",
    "['🌾', '🪨', '🪨', '🗻', '🗻', '🪨', '🪨', '🌾', '🌾', '🌾', '🌾', '🪨', '🗻', '🗻', '🗻', '🐊', '🐊', '🐊', '🌾', '🌾', '🌾', '🌾', '🌾', '🪨', '🌾', '🌾', '🌾'],\n",
    "['🌾', '🌾', '🪨', '🪨', '🪨', '🪨', '🪨', '🌾', '🌾', '🌾', '🌾', '🌾', '🌾', '🪨', '🗻', '🗻', '🗻', '🐊', '🐊', '🐊', '🌾', '🌾', '🪨', '🪨', '🪨', '🌾', '🌾'],\n",
    "['🌾', '🌾', '🌾', '🪨', '🪨', '🪨', '🌾', '🌾', '🌾', '🌾', '🌾', '🌾', '🪨', '🪨', '🗻', '🗻', '🌾', '🐊', '🐊', '🌾', '🌾', '🪨', '🪨', '🪨', '🌾', '🌾', '🌾'],\n",
    "['🌾', '🌾', '🌾', '🐊', '🐊', '🐊', '🌾', '🌾', '🪨', '🪨', '🪨', '🗻', '🗻', '🗻', '🗻', '🌾', '🌾', '🌾', '🐊', '🌾', '🪨', '🪨', '🪨', '🌾', '🌾', '🌾', '🌾'],\n",
    "['🌾', '🌾', '🐊', '🐊', '🐊', '🐊', '🐊', '🌾', '🪨', '🪨', '🗻', '🗻', '🗻', '🪨', '🌾', '🌾', '🌾', '🌾', '🌾', '🪨', '🗻', '🗻', '🗻', '🪨', '🌾', '🌾', '🌾'],\n",
    "['🌾', '🐊', '🐊', '🐊', '🐊', '🐊', '🌾', '🌾', '🪨', '🗻', '🗻', '🪨', '🌾', '🌾', '🌾', '🌾', '🐊', '🐊', '🌾', '🌾', '🪨', '🗻', '🗻', '🪨', '🌾', '🌾', '🌾'],\n",
    "['🐊', '🐊', '🐊', '🐊', '🐊', '🌾', '🌾', '🪨', '🪨', '🗻', '🗻', '🪨', '🌾', '🐊', '🐊', '🐊', '🐊', '🌾', '🌾', '🌾', '🪨', '🗻', '🪨', '🌾', '🌾', '🌾', '🌾'],\n",
    "['🌾', '🐊', '🐊', '🐊', '🐊', '🌾', '🌾', '🪨', '🌲', '🌲', '🪨', '🌾', '🌾', '🌾', '🌾', '🐊', '🐊', '🐊', '🐊', '🌾', '🌾', '🪨', '🌾', '🌾', '🌾', '🌾', '🌾'],\n",
    "['🌾', '🌾', '🌾', '🌾', '🗻', '🌾', '🌾', '🌲', '🌲', '🌲', '🌲', '🪨', '🪨', '🪨', '🪨', '🌾', '🐊', '🐊', '🐊', '🌾', '🌾', '🪨', '🗻', '🪨', '🌾', '🌾', '🌾'],\n",
    "['🌾', '🌾', '🌾', '🗻', '🗻', '🗻', '🌲', '🌲', '🌲', '🌲', '🌲', '🌲', '🗻', '🗻', '🗻', '🪨', '🪨', '🌾', '🐊', '🌾', '🪨', '🗻', '🗻', '🪨', '🌾', '🌾', '🌾'],\n",
    "['🌾', '🌾', '🗻', '🗻', '🌲', '🌲', '🌲', '🌲', '🌲', '🌲', '🌲', '🌲', '🌲', '🌲', '🗻', '🗻', '🗻', '🌾', '🌾', '🗻', '🗻', '🗻', '🌾', '🌾', '🌾', '🌾', '🌾'],\n",
    "['🌾', '🌾', '🌾', '🗻', '🗻', '🌲', '🌲', '🌲', '🌲', '🌲', '🌲', '🌲', '🌲', '🌲', '🌲', '🌲', '🗻', '🗻', '🗻', '🗻', '🌾', '🌾', '🌾', '🌾', '🌾', '🌾', '🌾'],\n",
    "['🌾', '🌾', '🌾', '🗻', '🗻', '🗻', '🌲', '🌲', '🌲', '🌲', '🌲', '🌲', '🌲', '🌲', '🌾', '🌾', '🌾', '🪨', '🪨', '🌾', '🌾', '🌾', '🌾', '🌾', '🌾', '🌾', '🌾'],\n",
    "['🌾', '🌾', '🌾', '🌾', '🗻', '🗻', '🗻', '🌲', '🌲', '🌲', '🌲', '🌲', '🌲', '🌾', '🌾', '🌾', '🌾', '🌾', '🌾', '🌾', '🌾', '🌾', '🌾', '🐊', '🐊', '🐊', '🐊'],\n",
    "['🌾', '🌾', '🪨', '🪨', '🪨', '🪨', '🗻', '🗻', '🌲', '🌲', '🌲', '🌲', '🌲', '🌾', '🗻', '🌾', '🌾', '🌾', '🌾', '🌾', '🐊', '🐊', '🐊', '🐊', '🐊', '🐊', '🐊'],\n",
    "['🌾', '🌾', '🌾', '🌾', '🪨', '🪨', '🪨', '🗻', '🗻', '🗻', '🌲', '🌲', '🗻', '🗻', '🌾', '🌾', '🌾', '🌾', '🌾', '🌾', '🐊', '🐊', '🐊', '🐊', '🐊', '🐊', '🐊'],\n",
    "['🌾', '🌾', '🌾', '🌾', '🌾', '🌾', '🪨', '🪨', '🪨', '🗻', '🗻', '🗻', '🗻', '🌾', '🌾', '🌾', '🌾', '🪨', '🪨', '🌾', '🌾', '🐊', '🐊', '🐊', '🐊', '🐊', '🐊'],\n",
    "['🌾', '🪨', '🪨', '🌾', '🌾', '🪨', '🪨', '🪨', '🪨', '🪨', '🌾', '🌾', '🌾', '🌾', '🌾', '🪨', '🪨', '🗻', '🗻', '🪨', '🪨', '🌾', '🐊', '🐊', '🐊', '🐊', '🐊'],\n",
    "['🪨', '🗻', '🪨', '🪨', '🪨', '🪨', '🌾', '🌾', '🌾', '🌾', '🌾', '🗻', '🗻', '🗻', '🪨', '🪨', '🗻', '🗻', '🌾', '🗻', '🗻', '🪨', '🪨', '🐊', '🐊', '🐊', '🐊'],\n",
    "['🪨', '🗻', '🗻', '🗻', '🪨', '🌾', '🌾', '🌾', '🌾', '🌾', '🪨', '🪨', '🗻', '🗻', '🗻', '🗻', '🪨', '🪨', '🪨', '🪨', '🗻', '🗻', '🗻', '🐊', '🐊', '🐊', '🐊'],\n",
    "['🪨', '🪨', '🌾', '🌾', '🌾', '🌾', '🌾', '🌾', '🌾', '🌾', '🌾', '🌾', '🪨', '🪨', '🪨', '🪨', '🪨', '🌾', '🌾', '🌾', '🌾', '🪨', '🪨', '🪨', '🌾', '🌾', '🌾']\n",
    "]"
   ]
  },
  {
   "cell_type": "markdown",
   "metadata": {},
   "source": [
    "## Warning\n",
    "\n",
    "One implication of this representation is that (x, y) is world[ y][ x] so that (3, 2) is world[ 2][ 3] and world[ 7][ 9] is (9, 7). Yes, there are many ways to do this. I picked this representation because when you look at it, it *looks* like a regular x, y cartesian grid and it's easy to print out.\n",
    "\n",
    "It is often easier to begin your programming by operating on test input that has an obvious solution. If we had a small 7x7 world with the following characteristics:"
   ]
  },
  {
   "cell_type": "code",
   "execution_count": 2,
   "metadata": {},
   "outputs": [],
   "source": [
    "small_world = [\n",
    "    ['🌾', '🌲', '🌲', '🌲', '🌲', '🌲', '🌲'],\n",
    "    ['🌾', '🌲', '🌲', '🌲', '🌲', '🌲', '🌲'],\n",
    "    ['🌾', '🌲', '🌲', '🌲', '🌲', '🌲', '🌲'],\n",
    "    ['🌾', '🌾', '🌾', '🌾', '🌾', '🌾', '🌾'],\n",
    "    ['🌲', '🌲', '🌲', '🌲', '🌲', '🌲', '🌾'],\n",
    "    ['🌲', '🌲', '🌲', '🌲', '🌲', '🌲', '🌾'],\n",
    "    ['🌲', '🌲', '🌲', '🌲', '🌲', '🌲', '🌾']\n",
    "]"
   ]
  },
  {
   "cell_type": "markdown",
   "metadata": {},
   "source": [
    "**what do you expect the policy would be?** Think about it for a bit. This will help you with your programming and debugging."
   ]
  },
  {
   "cell_type": "markdown",
   "metadata": {},
   "source": [
    "## States and State Representation\n",
    "\n",
    "The canonical pieces of a State Space Search problem are the States, Actions, Transitions and Costs. \n",
    "\n",
    "We'll start with the state representation. For the navigation problem, a state is the current position of the agent, `(x,y)`. The entire set of possible states is implicitly represented by the world map."
   ]
  },
  {
   "cell_type": "markdown",
   "metadata": {},
   "source": [
    "## Actions and Transitions\n",
    "\n",
    "Next we need to specify the actions. In general, there are a number of different possible action sets in such a world. The agent might be constrained to move north/south/east/west or diagonal moves might be permitted as well (or really anything). When combined with the set of States, the *permissible* actions forms the Transition set.\n",
    "\n",
    "Rather than enumerate the Transition set directly, for this problem it's easier to calculate the available actions and transitions on the fly. This can be done by specifying a *movement model* as offsets to the current state and then checking to see which of the potential successor states are actually permitted. This can be done in the successor function mentioned in the pseudocode.\n",
    "\n",
    "One such example of a movement model is shown below."
   ]
  },
  {
   "cell_type": "code",
   "execution_count": 3,
   "metadata": {},
   "outputs": [],
   "source": [
    "MOVES = [(0,-1), (1,0), (0,1), (-1,0)]"
   ]
  },
  {
   "cell_type": "markdown",
   "metadata": {},
   "source": [
    "## Costs\n",
    "\n",
    "We can encode the costs described above in a `Dict`:"
   ]
  },
  {
   "cell_type": "code",
   "execution_count": 4,
   "metadata": {},
   "outputs": [],
   "source": [
    "COSTS = { '🌾': 1, '🌲': 3, '🪨': 5, '🐊': 7}"
   ]
  },
  {
   "cell_type": "markdown",
   "metadata": {},
   "source": [
    "## Specification\n",
    "\n",
    "You will implement a function called `a_star_search` that takes the parameters and returns the value as specified below. The return value is going to look like this:\n",
    "\n",
    "`[(0,1), (0,1), (0,1), (1,0), (1,0), (1,0), (1,0), (1,0), (1,0), (0,1), (0,1), (0,1)]`\n",
    "\n",
    "You should also implement a function called `pretty_print_path`. \n",
    "The `pretty_print_path` function prints an ASCII representation of the path generated by the `a_star_search` on top of the terrain map. \n",
    "For example, for the test world, it would print this:\n",
    "\n",
    "```\n",
    "⏬🌲🌲🌲🌲🌲🌲\n",
    "⏬🌲🌲🌲🌲🌲🌲\n",
    "⏬🌲🌲🌲🌲🌲🌲\n",
    "⏩⏩⏩⏩⏩⏩⏬\n",
    "🌲🌲🌲🌲🌲🌲⏬\n",
    "🌲🌲🌲🌲🌲🌲⏬\n",
    "🌲🌲🌲🌲🌲🌲🎁\n",
    "```\n",
    "\n",
    "using ⏩,⏪,⏫ ⏬ to represent actions and `🎁` to represent the goal. (Note the format of the output...there are no spaces, commas, or extraneous characters). You are printing the path over the terrain.\n",
    "This is an impure function (because it has side effects, the printing, before returning anything).\n",
    "\n",
    "Note that in Python:\n",
    "```\n",
    "> a = [\"*\", \"-\", \"*\"]\n",
    "> \"\".join(a)\n",
    "*-*\n",
    "```\n",
    "Do not print raw data structures; do not insert unneeded/requested spaces!\n",
    "\n",
    "### Additional comments\n",
    "\n",
    "As Python is an interpreted language, you're going to need to insert all of your functions *before* the actual `a_star_search` function implementation. \n",
    "Do not make unwarranted assumptions (for example, do not assume that the start is always (0, 0).\n",
    "Do not refer to global variables, pass them as parameters (functional programming).\n",
    "\n",
    "Simple and correct is better than inefficient and incorrect, or worse, incomplete.\n",
    "For example, you can use a simple List, with some helper functions, as a Stack or a Queue or a Priority Queue.\n",
    "Avoid the Python implementations of HeapQ, PriorityQueue implementation unless you are very sure about what you're doing as they require *immutable* keys."
   ]
  },
  {
   "cell_type": "code",
   "execution_count": 5,
   "metadata": {},
   "outputs": [],
   "source": [
    "from typing import List, Tuple, Dict, Callable\n",
    "from copy import deepcopy"
   ]
  },
  {
   "cell_type": "markdown",
   "metadata": {},
   "source": [
    "*add as many markdown and code cells here as you need for helper functions. We have added `heuristic` for you*"
   ]
  },
  {
   "attachments": {},
   "cell_type": "markdown",
   "metadata": {},
   "source": [
    "<a id=\"heuristic\"></a>\n",
    "## heuristic\n",
    "\n",
    "`heuristic` estimates the cost from the current node to goal node called h(x). \n",
    "This function use the Manhattan Distance to estimate the cost. This assumes the cheapest\n",
    "cost to the goal (cost of one per move). \n",
    "\n",
    "* **current_pos** Tuple[int, int]: current position (col, row).\n",
    "* **goal_pos**: Tuple[int, int], goal position (col, row).\n",
    "\n",
    "\n",
    "**returns** int: hx."
   ]
  },
  {
   "cell_type": "code",
   "execution_count": 6,
   "metadata": {},
   "outputs": [],
   "source": [
    "def heuristic(current_pos: Tuple[int, int], goal_pos: Tuple[int, int]) -> int:\n",
    "    hx = abs(current_pos[1] - goal_pos[1]) + abs(current_pos[0] - goal_pos[0])\n",
    "    return hx"
   ]
  },
  {
   "cell_type": "code",
   "execution_count": 7,
   "metadata": {},
   "outputs": [],
   "source": [
    "# assertions/unit tests\n",
    "hx1 = heuristic((0,0),(5,5))\n",
    "assert hx1 == 10\n",
    "\n",
    "hx2 = heuristic((10,10),(5,5))\n",
    "assert hx2 == 10\n",
    "\n",
    "hx2 = heuristic((3,1),(0,0))\n",
    "assert hx2 == 4"
   ]
  },
  {
   "attachments": {},
   "cell_type": "markdown",
   "metadata": {},
   "source": [
    "<a id=\"getChildren\"></a>\n",
    "## getChildren\n",
    "\n",
    "`getChildren` returns a list of successor nodes and the current cost for that move. \n",
    "- This is a list of legal one moves from the current position. \n",
    "\n",
    "* **wolrd** List[List[str]]: the map of where to travel within\n",
    "* **parent** dict: the parent/current state\n",
    "* **moves** List[Tuple[int, int]]: contains the legal moves allowed\n",
    "* **costs** Dict[str, int]: mapping of the cost per type of spaces landed on\n",
    "* **fx** callable: callable heuristic function for calculating the cost\n",
    "* **goal** tuple: the goal position\n",
    "\n",
    "**returns** list[dict]: list of children states"
   ]
  },
  {
   "cell_type": "code",
   "execution_count": 8,
   "metadata": {},
   "outputs": [],
   "source": [
    "def getChildren( world: List[List[str]], parent:dict,moves: List[Tuple[int, int]], costs: Dict[str, int], fx:Callable, goal:tuple)-> list[dict]:\n",
    "    kids = []\n",
    "\n",
    "    for mv in moves:\n",
    "        c_x, c_y = parent[\"loc\"][0] +mv[0], parent[\"loc\"][1]+ mv[1] # child pos\n",
    "        new_loc = c_x, c_y\n",
    "        if 0 <= c_x < len(world[0]) and 0 <= c_y < len(world)\\\n",
    "            and world[c_y][c_x] != '🗻': # if a valid move\n",
    "            gn = parent[\"gn\"] + costs[world[c_y][c_x]]\n",
    "            cost = gn + fx(new_loc, goal)\n",
    "            \n",
    "            # create child\n",
    "            child = {\"loc\": new_loc, \"move\": mv,\"cost\":cost, \"gn\":gn}\n",
    "            child_copy = deepcopy(child)\n",
    "            path = deepcopy(parent[\"path\"])\n",
    "            path.append(child_copy) # add child to parent path\n",
    "            child[\"path\"] = path\n",
    "            kids.append(child)\n",
    "    return kids "
   ]
  },
  {
   "cell_type": "code",
   "execution_count": 9,
   "metadata": {},
   "outputs": [],
   "source": [
    "# check at starting point with empty explored list\n",
    "parent_test = {'loc': (0, 0), 'move': None, 'cost': 12, 'gn': 0, 'path': [{'loc': (0, 0), 'move': None, 'cost': 12}]}\n",
    "g = (len(small_world[0])-1, len(small_world)-1)\n",
    "first_moves =getChildren( small_world, parent_test,MOVES, COSTS, heuristic, g)\n",
    "assert len(first_moves) == 2\n",
    "assert first_moves[0][\"loc\"] == (1,0)\n",
    "assert first_moves[1][\"loc\"] == (0,1)\n",
    "assert len(first_moves[0][\"path\"])  == 2\n",
    "\n",
    "# check bottom right\n",
    "parent_test = {'loc': (6, 6), 'move': None, 'cost': 12, 'gn': 0, 'path': [{'loc': (0, 0), 'move': None, 'cost': 12}]}\n",
    "g = (len(small_world[0])-1, len(small_world)-1)\n",
    "bottom_moves = getChildren( small_world, parent_test,MOVES, COSTS, heuristic, g)\n",
    "assert len(bottom_moves) == 2\n",
    "assert bottom_moves[0][\"loc\"] == (6,5)\n",
    "assert bottom_moves[1][\"loc\"] == (5,6)\n",
    "assert len(bottom_moves[0][\"path\"])  == 2\n",
    "\n",
    "#middle of map \n",
    "parent_test = {'loc': (4, 3), 'move': None, 'cost': 12, 'gn': 0, 'path': [{'loc': (0, 0), 'move': None, 'cost': 12}]}\n",
    "g = (len(small_world[0])-1, len(small_world)-1)\n",
    "middle_moves = getChildren( small_world, parent_test,MOVES, COSTS, heuristic, g)\n",
    "assert len(middle_moves) == 4\n",
    "assert middle_moves[0][\"loc\"] == (4,2)\n",
    "assert middle_moves[1][\"loc\"] == (5,3)\n",
    "assert middle_moves[2][\"loc\"] == (4,4)\n",
    "assert middle_moves[3][\"loc\"] == (3,3)\n",
    "assert len(middle_moves[0][\"path\"])  == 2"
   ]
  },
  {
   "attachments": {},
   "cell_type": "markdown",
   "metadata": {},
   "source": [
    "<a id=\"clean_frontier\"></a>\n",
    "## clean_frontier\n",
    "\n",
    "- removes the first element on the frontier\n",
    "- LIFO order\n",
    "- Then returns that removed state and the updated/cleaned frontier\n",
    "\n",
    "* **current_frontier** list[dict]: dictionary of locations to be explored with its f(n) value\n",
    "\n",
    "\n",
    "**returns** Tuple(dict, list[dict]): returns new state to explore and the updated frontier"
   ]
  },
  {
   "cell_type": "code",
   "execution_count": 10,
   "metadata": {},
   "outputs": [],
   "source": [
    "def clean_frontier(current_frontier:list[dict])->Tuple[dict, list[dict]]:\n",
    "    if len(current_frontier) ==  0:\n",
    "        print(\"Frontier is empty. Error\")\n",
    "        return None, []\n",
    "    result = current_frontier.pop(0) # take off first element on frontier\n",
    "    return result, current_frontier"
   ]
  },
  {
   "cell_type": "code",
   "execution_count": 11,
   "metadata": {},
   "outputs": [
    {
     "name": "stdout",
     "output_type": "stream",
     "text": [
      "Frontier is empty. Error\n"
     ]
    }
   ],
   "source": [
    "\n",
    "test_frontier = [{'loc': (0, 0), 'move': None, 'cost': 12, 'gn': 0}, {'loc': (1, 0), 'move': None, 'cost': 12, 'gn': 0}\n",
    "                 , {'loc': (2, 0), 'move': None, 'cost': 12, 'gn': 0}]\n",
    "\n",
    "test_state, nfront = clean_frontier(test_frontier)\n",
    "# verify first element is returned\n",
    "assert test_state == {'loc': (0, 0), 'move': None, 'cost': 12, 'gn': 0}\n",
    "\n",
    "# verify frontier is less than one now\n",
    "assert len(nfront) == 2\n",
    "\n",
    "# verify empty frontier retuns None and empty frontier\n",
    "empty_state, empty_front = clean_frontier([])\n",
    "assert empty_state == None\n",
    "assert empty_front == []\n"
   ]
  },
  {
   "attachments": {},
   "cell_type": "markdown",
   "metadata": {},
   "source": [
    "<a id=\"add_to_frontier\"></a>\n",
    "## add_to_frontier\n",
    "\n",
    "- Adds a state to the frontier and ensure the frontier is in order based on cost\n",
    "- Cheaper costs on at the beginning of the list (index 0)\n",
    "\n",
    "* **frontier** list[dict]: dictionary of locations to be explored with its f(n) value\n",
    "* **state** dict: state to add to the frontier\n",
    "\n",
    "\n",
    "**returns** list[dict]: frontier with added state if applicable"
   ]
  },
  {
   "cell_type": "code",
   "execution_count": 12,
   "metadata": {},
   "outputs": [],
   "source": [
    "def add_to_frontier(frontier:list[dict], state:dict)->list[dict]:\n",
    "    # check if already on frontier\n",
    "    # Max size should be 1\n",
    "    deja_vu = [i for i in range(len(frontier)) if frontier[i][\"loc\"] == state[\"loc\"]]\n",
    "\n",
    "    # if not in frontier or its a cheaper cost\n",
    "    if len(deja_vu) == 0 or (len(deja_vu) > 0  \n",
    "                           and state[\"cost\"] < frontier[deja_vu[0]][\"cost\"]):\n",
    "        if len(deja_vu) > 0 : # if second condition\n",
    "            del frontier[deja_vu[0]]\n",
    "        frontier.append(state)\n",
    "        # keep frontier sorted. Lower cost at beginning of frontier\n",
    "        frontier.sort(key=lambda s:s[\"cost\"]) \n",
    "    return frontier"
   ]
  },
  {
   "cell_type": "code",
   "execution_count": 13,
   "metadata": {},
   "outputs": [],
   "source": [
    "# verify an element gets added to the empty frontier\n",
    "test_state = {'loc': (2, 0), 'move': None, 'cost': 12, 'gn': 0}\n",
    "frontier_1 = add_to_frontier([], test_state)\n",
    "assert frontier_1 == [test_state]\n",
    "\n",
    "# verify value is not added is already on the frontier and cost is more expensive\n",
    "test_frontier = [{'loc': (0, 0), 'move': None, 'cost': 12, 'gn': 0}, {'loc': (1, 0), 'move': None, 'cost': 12, 'gn': 0}\n",
    "                 , {'loc': (2, 0), 'move': None, 'cost': 12, 'gn': 0}]\n",
    "test_frontier_copy = deepcopy(test_frontier)\n",
    "test_state2 = {'loc': (2, 0), 'move': None, 'cost': 15, 'gn': 0}\n",
    "frontier_2 = add_to_frontier(test_frontier, test_state2)\n",
    "assert frontier_2 == test_frontier_copy\n",
    "\n",
    "#verify the value is added is on frontier and cheaper\n",
    "test_state3 = {'loc': (2, 0), 'move': None, 'cost': 8, 'gn': 0}\n",
    "frontier_3 = add_to_frontier(test_frontier, test_state3)\n",
    "assert frontier_3 ==  [{'loc': (2, 0), 'move': None, 'cost': 8, 'gn': 0},\n",
    "{'loc': (0, 0), 'move': None, 'cost': 12, 'gn': 0}, {'loc': (1, 0), 'move': None, 'cost': 12, 'gn': 0}]\n"
   ]
  },
  {
   "attachments": {},
   "cell_type": "markdown",
   "metadata": {},
   "source": [
    "<a id=\"get_all_moves\"></a>\n",
    "## get_all_moves\n",
    "\n",
    "- Given a path, returns only the moves. \n",
    "\n",
    "* **path** list[dict]: path of start to goal\n",
    "\n",
    "\n",
    "**returns** list[tuple]: returns all the moves (x,y) moves"
   ]
  },
  {
   "cell_type": "code",
   "execution_count": 14,
   "metadata": {},
   "outputs": [],
   "source": [
    "def get_all_moves(path:list[dict])->list[tuple]:\n",
    "    moves = []\n",
    "    for mv in path[1:]: # first move is None\n",
    "        moves.append(mv[\"move\"])\n",
    "    return moves\n"
   ]
  },
  {
   "cell_type": "code",
   "execution_count": 15,
   "metadata": {},
   "outputs": [],
   "source": [
    "test_path =[{'loc': (0, 0), 'move': None, 'cost': 12},\n",
    " {'loc': (0, 1), 'move': (0, 1), 'cost': 12, 'gn': 1},\n",
    " {'loc': (0, 2), 'move': (0, 1), 'cost': 12, 'gn': 2},\n",
    " {'loc': (0, 3), 'move': (0, 1), 'cost': 12, 'gn': 3},\n",
    " {'loc': (1, 3), 'move': (1, 0), 'cost': 12, 'gn': 4},\n",
    " {'loc': (2, 3), 'move': (1, 0), 'cost': 12, 'gn': 5},\n",
    " {'loc': (3, 3), 'move': (1, 0), 'cost': 12, 'gn': 6},\n",
    " {'loc': (4, 3), 'move': (1, 0), 'cost': 12, 'gn': 7},\n",
    " {'loc': (5, 3), 'move': (1, 0), 'cost': 12, 'gn': 8},\n",
    " {'loc': (6, 3), 'move': (1, 0), 'cost': 12, 'gn': 9},\n",
    " {'loc': (6, 4), 'move': (0, 1), 'cost': 12, 'gn': 10},\n",
    " {'loc': (6, 5), 'move': (0, 1), 'cost': 12, 'gn': 11},\n",
    " {'loc': (6, 6), 'move': (0, 1), 'cost': 12, 'gn': 12}]\n",
    "\n",
    "test_mvs = get_all_moves(test_path)\n",
    "# verify the length is the same -1\n",
    "assert len(test_mvs) == len(test_path) -1\n",
    "assert test_mvs ==[(0, 1),(0, 1),(0, 1),(1, 0),(1, 0),(1, 0),(1, 0),(1, 0),(1, 0),(0, 1),(0, 1),(0, 1)]\n",
    "\n",
    "# verify can handle a path where start is the goal\n",
    "start_goal = [{'loc': (0, 0), 'move': None, 'cost': 12}]\n",
    "start_goal_moves =  get_all_moves(start_goal)\n",
    "assert start_goal_moves == []"
   ]
  },
  {
   "attachments": {},
   "cell_type": "markdown",
   "metadata": {},
   "source": [
    "<a id=\"a_star_search\"></a>\n",
    "## a_star_search\n",
    "\n",
    "This function returns the path from the start psotion to the goal within the world.\n",
    "This is done by building a list of explored paths then finding the true path from\n",
    "the explored path.\n",
    "\n",
    "The explored path is built from finding paths with the lowest F(N)\n",
    "this H(N) + g(N) \n",
    "H(N) = greedy search, estimated cost from current position to goal\n",
    "G(N) = the cost so far from the explored path\n",
    "\n",
    "* **world** List[List[str]]: the actual context for the navigation problem.\n",
    "* **start** Tuple[int, int]: the starting location of the bot, `(x, y)`.\n",
    "* **goal** Tuple[int, int]: the desired goal position for the bot, `(x, y)`.\n",
    "* **costs** Dict[str, int]: is a `Dict` of costs for each type of terrain in **world**.\n",
    "* **moves** List[Tuple[int, int]]: the legal movement model expressed in offsets in **world**.\n",
    "* **heuristic** Callable: is a heuristic function, $h(n)$.\n",
    "\n",
    "\n",
    "**returns** List[Tuple[int, int]]: the offsets needed to get from start state to the goal as a `List`.\n"
   ]
  },
  {
   "cell_type": "code",
   "execution_count": 16,
   "metadata": {},
   "outputs": [],
   "source": [
    "def a_star_search( world: List[List[str]], start: Tuple[int, int], goal: Tuple[int, int], costs: Dict[str, int], moves: List[Tuple[int, int]], heuristic: Callable) -> List[Tuple[int, int]]:\n",
    "    cost = heuristic(start, goal)\n",
    "    start_path = [{\"loc\":start, \"move\":None, \"cost\":cost}]\n",
    "    start_pos = {\"loc\":start, \"move\":None, \"cost\":cost, \"gn\":0,\"path\": start_path}\n",
    "    frontier = add_to_frontier([], start_pos)\n",
    "    explored = []\n",
    "    while len(frontier) > 0:\n",
    "        current_state, frontier = clean_frontier( frontier)\n",
    "   \n",
    "        if current_state[\"loc\"] == goal:\n",
    "            return get_all_moves(current_state[\"path\"]) \n",
    "        children = getChildren(world, current_state, moves, costs, heuristic, goal)\n",
    "\n",
    "        for child in children:\n",
    "            if not len([ state for state in explored if state[\"loc\"] == child[\"loc\"]]) > 0:\n",
    "                frontier = add_to_frontier(frontier, child)\n",
    "        explored.append(current_state)\n",
    "    return None"
   ]
  },
  {
   "cell_type": "code",
   "execution_count": 17,
   "metadata": {},
   "outputs": [],
   "source": [
    "small_start = (0, 0)\n",
    "small_goal = (len(small_world[0]) - 1, len(small_world) - 1)\n",
    "small_path = a_star_search(small_world, small_start, small_goal, COSTS, MOVES, heuristic)\n",
    "s2 = [(0,1), (0,1), (0,1), (1,0), (1,0), (1,0), (1,0), (1,0), (1,0), (0,1), (0,1), (0,1)]\n",
    "assert small_path == s2\n",
    "#check path is list of actions rather than locations\n",
    "for one_move in small_path:\n",
    "    assert one_move in  MOVES\n",
    "#check if start == goal\n",
    "small_path = a_star_search(small_world, (5,2), (5,2), COSTS, MOVES, heuristic)\n",
    "assert len(small_path) == 0\n",
    "# check if goal right next to start. Len should be one\n",
    "small_path = a_star_search(small_world, (5,2), (5,1), COSTS, MOVES, heuristic)\n",
    "assert len(small_path) == 1\n",
    "assert small_path == [(0,-1)] # should be move up only"
   ]
  },
  {
   "attachments": {},
   "cell_type": "markdown",
   "metadata": {},
   "source": [
    "## pretty_print_path\n",
    "\n",
    "`pretty_print_path` will create a new map with the actions taken to get to the\n",
    "goal. This map will be printer. While the map is being created, the cost for each \n",
    "move will be stored in a variable, which is returned\n",
    "\n",
    "* **world** List[List[str]]: the world (terrain map) for the path to be printed upon.\n",
    "* **path** List[Tuple[int, int]]: the path from start to goal, in offsets.\n",
    "* **start** Tuple[int, int]: the starting location for the path.\n",
    "* **goal** Tuple[int, int]: the goal location for the path.\n",
    "* **costs** Dict[str, int]: the costs for each action.\n",
    "\n",
    "**returns** int - The path cost."
   ]
  },
  {
   "cell_type": "markdown",
   "metadata": {},
   "source": [
    "\n",
    "<div style=\"background: lemonchiffon; margin:20px; padding: 20px;\">\n",
    "    <strong>Important</strong>\n",
    "    <p>\n",
    "        Does your output of pretty_print_path really look like the specification? Go check again.\n",
    "    </p>\n",
    "</div>"
   ]
  },
  {
   "cell_type": "code",
   "execution_count": 18,
   "metadata": {},
   "outputs": [],
   "source": [
    "def pretty_print_path( world: List[List[str]], path: List[Tuple[int, int]], start: Tuple[int, int], goal: Tuple[int, int], costs: Dict[str, int]) -> int:\n",
    "    actions = {(1,0) : '⏩', (-1,0) :'⏪',(0,1):'⏬', (0,-1):'⏫'}\n",
    "    total_costs = 0  # cost all actions\n",
    "    travel = start # pointer of position\n",
    "    new_world = deepcopy(world)\n",
    "    new_world[goal[1]][goal[0]] = '🎁'\n",
    "\n",
    "    for move in path: # update map\n",
    "        total_costs += costs[world[travel[1]][travel[0]]] # add cost\n",
    "        new_world[travel[1]][travel[0]] = actions[move] # update map\n",
    "        travel_col = travel[0] + move[0]\n",
    "        travel_row = travel[1] + move[1]\n",
    "        travel = (travel_col, travel_row)\n",
    "\n",
    "    for rw in new_world: # print map\n",
    "        for i in rw:\n",
    "            print(i, end=' ')\n",
    "        print()\n",
    "\n",
    "    return total_costs # return total costs"
   ]
  },
  {
   "cell_type": "code",
   "execution_count": 19,
   "metadata": {},
   "outputs": [
    {
     "name": "stdout",
     "output_type": "stream",
     "text": [
      "🌾 🌲 🌲 🌲 🌲 🌲 🌲 \n",
      "🌾 🌲 🌲 🌲 🌲 🌲 🌲 \n",
      "⏬ 🌲 🌲 🌲 🌲 🌲 🌲 \n",
      "⏩ ⏩ ⏩ ⏩ ⏩ ⏩ 🎁 \n",
      "🌲 🌲 🌲 🌲 🌲 🌲 🌾 \n",
      "🌲 🌲 🌲 🌲 🌲 🌲 🌾 \n",
      "🌲 🌲 🌲 🌲 🌲 🌲 🌾 \n",
      "Next map\n",
      "🌾 🌲 🌲 🌲 🌲 🌲 🌲 \n",
      "🌾 🌲 🌲 🌲 🌲 🌲 🌲 \n",
      "🌾 🌲 🌲 🌲 🌲 🌲 🌲 \n",
      "🌾 🌾 🌾 🌾 🌾 🌾 🌾 \n",
      "🌲 🌲 🌲 🌲 🌲 🌲 🌾 \n",
      "🌲 🌲 🌲 🌲 🌲 🌲 🎁 \n",
      "⏩ ⏩ ⏩ ⏩ ⏩ ⏩ ⏫ \n"
     ]
    }
   ],
   "source": [
    "dup_map = [['🌾', '🌲', '🌲', '🌲', '🌲', '🌲', '🌲'],\n",
    " ['🌾', '🌲', '🌲', '🌲', '🌲', '🌲', '🌲'],\n",
    " ['🌾', '🌲', '🌲', '🌲', '🌲', '🌲', '🌲'],\n",
    " ['🌾', '🌾', '🌾', '🌾', '🌾', '🌾', '🌾'],\n",
    " ['🌲', '🌲', '🌲', '🌲', '🌲', '🌲', '🌾'],\n",
    " ['🌲', '🌲', '🌲', '🌲', '🌲', '🌲', '🌾'],\n",
    " ['🌲', '🌲', '🌲', '🌲', '🌲', '🌲', '🌾']]\n",
    "small_start = (0, 2)\n",
    "small_path = [(0,1), (1,0), (1,0), (1,0), (1,0), (1,0), (1,0)]\n",
    "small_goal = (6,3)\n",
    "c = pretty_print_path(small_world, small_path, small_start, small_goal, COSTS)\n",
    "# assert returns correct cost\n",
    "assert c == 7\n",
    "# check small world doesn't change\n",
    "assert small_world == dup_map\n",
    "\n",
    "print(\"Next map\")\n",
    "small_start = (0, 6)\n",
    "small_path = [(1,0), (1,0), (1,0), (1,0), (1,0), (1,0), (0,-1)]\n",
    "small_goal = (6,5)\n",
    "c = pretty_print_path(small_world, small_path, small_start, small_goal, COSTS)\n",
    "assert c == 19"
   ]
  },
  {
   "cell_type": "markdown",
   "metadata": {},
   "source": [
    "## Problems"
   ]
  },
  {
   "cell_type": "markdown",
   "metadata": {},
   "source": [
    "## Problem 1. \n",
    "\n",
    "Execute `a_star_search` and `pretty_print_path` for the `small_world`.\n",
    "\n",
    "If you change any values while developing your code, make sure you change them back! (Better yet, don't do it. Copy them elsewhere and change the values, then delete those experiments)."
   ]
  },
  {
   "cell_type": "code",
   "execution_count": 20,
   "metadata": {},
   "outputs": [
    {
     "name": "stdout",
     "output_type": "stream",
     "text": [
      "⏬ 🌲 🌲 🌲 🌲 🌲 🌲 \n",
      "⏬ 🌲 🌲 🌲 🌲 🌲 🌲 \n",
      "⏬ 🌲 🌲 🌲 🌲 🌲 🌲 \n",
      "⏩ ⏩ ⏩ ⏩ ⏩ ⏩ ⏬ \n",
      "🌲 🌲 🌲 🌲 🌲 🌲 ⏬ \n",
      "🌲 🌲 🌲 🌲 🌲 🌲 ⏬ \n",
      "🌲 🌲 🌲 🌲 🌲 🌲 🎁 \n",
      "total path cost: 12\n",
      "[(0, 1), (0, 1), (0, 1), (1, 0), (1, 0), (1, 0), (1, 0), (1, 0), (1, 0), (0, 1), (0, 1), (0, 1)]\n"
     ]
    }
   ],
   "source": [
    "small_start = (0, 0)\n",
    "small_goal = (len(small_world[0]) - 1, len(small_world) - 1)\n",
    "small_path = a_star_search(small_world, small_start, small_goal, COSTS, MOVES, heuristic)\n",
    "small_path_cost = pretty_print_path(small_world, small_path, small_start, small_goal, COSTS)\n",
    "print(f\"total path cost: {small_path_cost}\")\n",
    "print(small_path)"
   ]
  },
  {
   "cell_type": "markdown",
   "metadata": {},
   "source": [
    "## Problem 2\n",
    "\n",
    "Execute `a_star_search` and `print_path` for the `full_world`"
   ]
  },
  {
   "cell_type": "code",
   "execution_count": 21,
   "metadata": {},
   "outputs": [
    {
     "name": "stdout",
     "output_type": "stream",
     "text": [
      "⏬ 🌾 🌾 🌾 🌾 🌲 🌲 🌲 🌲 🌲 🌲 🌲 🌲 🌲 🌲 🌾 🌾 🌾 🌾 🌾 🌾 🌾 🌾 🌾 🌾 🌾 🌾 \n",
      "⏬ 🌾 🌾 🌾 🌾 🌾 🌾 🌲 🌲 🌲 🌲 🌲 🌲 🌲 🌲 🌲 🌾 🌾 🗻 🗻 🗻 🗻 🗻 🗻 🗻 🌾 🌾 \n",
      "⏬ 🌾 🌾 🌾 🗻 🗻 🌲 🌲 🌲 🌲 🌲 🌲 🌲 🌲 🌲 🌲 🌲 🗻 🗻 🗻 🪨 🪨 🪨 🗻 🗻 🪨 🪨 \n",
      "⏬ 🌾 🌾 🌾 🪨 🗻 🗻 🗻 🌲 🌲 🌲 🌲 🐊 🐊 🌲 🌲 🌲 🌲 🌲 🌾 🌾 🪨 🪨 🗻 🗻 🪨 🌾 \n",
      "⏬ 🌾 🌾 🪨 🪨 🗻 🗻 🌲 🌲 🌾 🌾 🐊 🐊 🐊 🐊 🌲 🌲 🌲 🌾 🌾 🌾 🪨 🗻 🗻 🗻 🪨 🌾 \n",
      "⏬ 🪨 🪨 🪨 🗻 🗻 🪨 🪨 🌾 🌾 🌾 🌾 🐊 🐊 🐊 🐊 🐊 🌾 🌾 🌾 🌾 🌾 🪨 🗻 🪨 🌾 🌾 \n",
      "⏬ 🪨 🪨 🗻 🗻 🪨 🪨 🌾 🌾 🌾 🌾 🪨 🗻 🗻 🗻 🐊 🐊 🐊 🌾 🌾 🌾 🌾 🌾 🪨 🌾 🌾 🌾 \n",
      "⏬ 🌾 🪨 🪨 🪨 🪨 🪨 🌾 🌾 🌾 🌾 🌾 🌾 🪨 🗻 🗻 🗻 🐊 🐊 🐊 🌾 🌾 🪨 🪨 🪨 🌾 🌾 \n",
      "⏬ 🌾 🌾 🪨 🪨 🪨 🌾 🌾 🌾 🌾 🌾 🌾 🪨 🪨 🗻 🗻 🌾 🐊 🐊 🌾 🌾 🪨 🪨 🪨 🌾 🌾 🌾 \n",
      "⏬ 🌾 🌾 🐊 🐊 🐊 🌾 🌾 🪨 🪨 🪨 🗻 🗻 🗻 🗻 🌾 🌾 🌾 🐊 🌾 🪨 🪨 🪨 🌾 🌾 🌾 🌾 \n",
      "⏬ 🌾 🐊 🐊 🐊 🐊 🐊 🌾 🪨 🪨 🗻 🗻 🗻 🪨 🌾 🌾 🌾 🌾 🌾 🪨 🗻 🗻 🗻 🪨 🌾 🌾 🌾 \n",
      "⏬ 🐊 🐊 🐊 🐊 🐊 🌾 🌾 🪨 🗻 🗻 🪨 🌾 🌾 🌾 🌾 🐊 🐊 🌾 🌾 🪨 🗻 🗻 🪨 🌾 🌾 🌾 \n",
      "⏬ 🐊 🐊 🐊 🐊 🌾 🌾 🪨 🪨 🗻 🗻 🪨 🌾 🐊 🐊 🐊 🐊 🌾 🌾 🌾 🪨 🗻 🪨 🌾 🌾 🌾 🌾 \n",
      "⏬ 🐊 🐊 🐊 🐊 🌾 🌾 🪨 🌲 🌲 🪨 🌾 🌾 🌾 🌾 🐊 🐊 🐊 🐊 🌾 🌾 🪨 🌾 🌾 🌾 🌾 🌾 \n",
      "⏩ ⏬ 🌾 🌾 🗻 🌾 🌾 🌲 🌲 🌲 🌲 🪨 🪨 🪨 🪨 🌾 🐊 🐊 🐊 🌾 🌾 🪨 🗻 🪨 🌾 🌾 🌾 \n",
      "🌾 ⏬ 🌾 🗻 🗻 🗻 🌲 🌲 🌲 🌲 🌲 🌲 🗻 🗻 🗻 🪨 🪨 🌾 🐊 🌾 🪨 🗻 🗻 🪨 🌾 🌾 🌾 \n",
      "🌾 ⏬ 🗻 🗻 🌲 🌲 🌲 🌲 🌲 🌲 🌲 🌲 🌲 🌲 🗻 🗻 🗻 🌾 🌾 🗻 🗻 🗻 🌾 🌾 🌾 🌾 🌾 \n",
      "🌾 ⏬ 🌾 🗻 🗻 🌲 🌲 🌲 🌲 🌲 🌲 🌲 🌲 🌲 🌲 🌲 🗻 🗻 🗻 🗻 🌾 🌾 🌾 🌾 🌾 🌾 🌾 \n",
      "🌾 ⏬ 🌾 🗻 🗻 🗻 🌲 🌲 🌲 🌲 🌲 🌲 🌲 🌲 🌾 🌾 🌾 🪨 🪨 🌾 🌾 🌾 🌾 🌾 🌾 🌾 🌾 \n",
      "🌾 ⏬ 🌾 🌾 🗻 🗻 🗻 🌲 🌲 🌲 🌲 🌲 🌲 🌾 🌾 🌾 🌾 🌾 🌾 🌾 🌾 🌾 🌾 🐊 🐊 🐊 🐊 \n",
      "🌾 ⏬ 🪨 🪨 🪨 🪨 🗻 🗻 🌲 🌲 🌲 🌲 🌲 🌾 🗻 🌾 🌾 🌾 🌾 🌾 🐊 🐊 🐊 🐊 🐊 🐊 🐊 \n",
      "🌾 ⏩ ⏩ ⏬ 🪨 🪨 🪨 🗻 🗻 🗻 🌲 🌲 🗻 🗻 🌾 🌾 🌾 🌾 🌾 🌾 🐊 🐊 🐊 🐊 🐊 🐊 🐊 \n",
      "🌾 🌾 🌾 ⏩ ⏩ ⏩ ⏬ 🪨 🪨 🗻 🗻 🗻 🗻 🌾 🌾 🌾 🌾 🪨 🪨 🌾 🌾 🐊 🐊 🐊 🐊 🐊 🐊 \n",
      "🌾 🪨 🪨 🌾 🌾 🪨 ⏬ 🪨 🪨 🪨 🌾 🌾 🌾 🌾 🌾 🪨 🪨 🗻 🗻 🪨 🪨 🌾 🐊 🐊 🐊 🐊 🐊 \n",
      "🪨 🗻 🪨 🪨 🪨 🪨 ⏩ ⏩ ⏩ ⏬ 🌾 🗻 🗻 🗻 🪨 🪨 🗻 🗻 🌾 🗻 🗻 🪨 🪨 🐊 🐊 🐊 🐊 \n",
      "🪨 🗻 🗻 🗻 🪨 🌾 🌾 🌾 🌾 ⏬ 🪨 🪨 🗻 🗻 🗻 🗻 🪨 🪨 🪨 🪨 🗻 🗻 🗻 🐊 🐊 🐊 🐊 \n",
      "🪨 🪨 🌾 🌾 🌾 🌾 🌾 🌾 🌾 ⏩ ⏩ ⏩ ⏩ ⏩ ⏩ ⏩ ⏩ ⏩ ⏩ ⏩ ⏩ ⏩ ⏩ ⏩ ⏩ ⏩ 🎁 \n",
      "total path cost: 98\n",
      "[(0, 1), (0, 1), (0, 1), (0, 1), (0, 1), (0, 1), (0, 1), (0, 1), (0, 1), (0, 1), (0, 1), (0, 1), (0, 1), (0, 1), (1, 0), (0, 1), (0, 1), (0, 1), (0, 1), (0, 1), (0, 1), (0, 1), (1, 0), (1, 0), (0, 1), (1, 0), (1, 0), (1, 0), (0, 1), (0, 1), (1, 0), (1, 0), (1, 0), (0, 1), (0, 1), (1, 0), (1, 0), (1, 0), (1, 0), (1, 0), (1, 0), (1, 0), (1, 0), (1, 0), (1, 0), (1, 0), (1, 0), (1, 0), (1, 0), (1, 0), (1, 0), (1, 0)]\n"
     ]
    }
   ],
   "source": [
    "full_start = (0, 0)\n",
    "full_goal = (len(full_world[0]) - 1, len(full_world) - 1)\n",
    "full_path = a_star_search(full_world, full_start, full_goal, COSTS, MOVES, heuristic)\n",
    "full_path_cost = pretty_print_path(full_world, full_path, full_start, full_goal, COSTS)\n",
    "print(f\"total path cost: {full_path_cost}\")\n",
    "print(full_path)"
   ]
  },
  {
   "attachments": {},
   "cell_type": "markdown",
   "metadata": {},
   "source": [
    "## Comments\n",
    "- A little bit of a combo of using my original code submitted plus help from the mod 1 walk through \n",
    "- https://wse.zoom.us/rec/play/1PSeZm0YJcloBJISBBeraeWYsSuBuKOvceZhl-87osAAzGhpaRhec5ohBnzT7OvR-Nk6wl7saZxz1Jk_.bc4lAxBkDsVAr5u_?canPlayFromShare=true&from=share_recording_detail&continueMode=true&componentName=rec-play&originRequestUrl=https%3A%2F%2Fwse.zoom.us%2Frec%2Fshare%2FzQBgnS1_pMLwerninaxoo3x1CcRQo7HSnZDO_CDCD08-DWoBvBX5mLGFOeLmAcup.TLMB3hEbKsHZpKvd%3F_x_zm_rtaid=sWUOh7_xTSCQHcU845hLdA.1683232100781.2d589fddffcaf02d71517f5e6025816e&_x_zm_rhtaid=923\n",
    "- Thank you Jordan for always grading homework in a timely manner and providing useful feedback. \n",
    "    - Plus your office hours were always very organized and helpful"
   ]
  },
  {
   "cell_type": "markdown",
   "metadata": {},
   "source": [
    "## To think about for future assignments..."
   ]
  },
  {
   "cell_type": "markdown",
   "metadata": {},
   "source": [
    "This first assignment may not have been difficult for you if you've encountered A* search before in your Algorithms course. In preparation for future assignments that build on State Space Search, you can think about the following or even do an implementation if you like. You should **not** submit it as part of this assignment.\n",
    "\n",
    "In several future assignments, we will have a need for a \"plain ol'\" Depth First Search algorithm.\n",
    "\n",
    "1. Implement DFS Search to solve the problem presented in this programming assignment. Try to be as general as possible (don't hard code anything you can pass as a formal parameter).\n",
    "2. Can you implement DFS Search as a higher order function and supply your own `is_goal`, `successors`, and `path` functions? How do you handle *state*?\n",
    "3. Can you write a version of DFS that returns all the solutions?\n",
    "\n",
    "In one future assignment a Breadth First Search algorithm will be very handy. Can you implement a search algorithm that changes whether it uses DFS or BFS by parameterization?"
   ]
  },
  {
   "cell_type": "markdown",
   "metadata": {},
   "source": [
    "## Before You Submit...\n",
    "\n",
    "1. Did you provide output exactly as requested?\n",
    "2. Did you follow the Programming Requirements on Canvas?\n",
    "\n",
    "Do not submit any other files."
   ]
  }
 ],
 "metadata": {
  "kernelspec": {
   "display_name": "en605645",
   "language": "python",
   "name": "python3"
  },
  "language_info": {
   "codemirror_mode": {
    "name": "ipython",
    "version": 3
   },
   "file_extension": ".py",
   "mimetype": "text/x-python",
   "name": "python",
   "nbconvert_exporter": "python",
   "pygments_lexer": "ipython3",
   "version": "3.10.5"
  },
  "toc": {
   "colors": {
    "hover_highlight": "#DAA520",
    "navigate_num": "#000000",
    "navigate_text": "#333333",
    "running_highlight": "#FF0000",
    "selected_highlight": "#FFD700",
    "sidebar_border": "#EEEEEE",
    "wrapper_background": "#FFFFFF"
   },
   "moveMenuLeft": true,
   "nav_menu": {
    "height": "192px",
    "width": "252px"
   },
   "navigate_menu": true,
   "number_sections": true,
   "sideBar": true,
   "threshold": 4,
   "toc_cell": false,
   "toc_section_display": "block",
   "toc_window_display": false,
   "widenNotebook": false
  },
  "vscode": {
   "interpreter": {
    "hash": "e906c7fbe804ec0c103892f23dd17a311766537948dcf2ae45407952f88d8394"
   }
  }
 },
 "nbformat": 4,
 "nbformat_minor": 4
}
