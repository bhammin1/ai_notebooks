{
 "cells": [
  {
   "cell_type": "markdown",
   "metadata": {},
   "source": [
    "# Module 2 - Programming Assignment\n",
    "\n",
    "## Directions\n",
    "\n",
    "1. Change the name of this file to be your JHED id as in `jsmith299.ipynb`. Because sure you use your JHED ID (it's made out of your name and not your student id which is just letters and numbers).\n",
    "2. Make sure the notebook you submit is cleanly and fully executed. I do not grade unexecuted notebooks.\n",
    "3. Submit your notebook back in Blackboard where you downloaded this file.\n",
    "\n",
    "*Provide the output **exactly** as requested*"
   ]
  },
  {
   "cell_type": "code",
   "execution_count": 232,
   "metadata": {},
   "outputs": [],
   "source": [
    "from pprint import pprint\n",
    "import random # for creating population\n",
    "from copy import deepcopy\n",
    "from typing import List, Tuple, Dict, Callable"
   ]
  },
  {
   "cell_type": "markdown",
   "metadata": {},
   "source": [
    "## Local Search - Genetic Algorithm\n",
    "\n",
    "There are some key ideas in the Genetic Algorithm.\n",
    "\n",
    "First, there is a problem of some kind that either *is* an optimization problem or the solution can be expressed in terms of an optimization problem.\n",
    "For example, if we wanted to minimize the function\n",
    "\n",
    "$$f(x) = \\sum (x_i - 0.5)^2$$\n",
    "\n",
    "where $n = 10$.\n",
    "This *is* an optimization problem. Normally, optimization problems are much, much harder.\n",
    "\n",
    "![Eggholder](http://www.sfu.ca/~ssurjano/egg.png)!\n",
    "\n",
    "The function we wish to optimize is often called the **objective function**.\n",
    "The objective function is closely related to the **fitness** function in the GA.\n",
    "If we have a **maximization** problem, then we can use the objective function directly as a fitness function.\n",
    "If we have a **minimization** problem, then we need to convert the objective function into a suitable fitness function, since fitness functions must always mean \"more is better\".\n",
    "\n",
    "Second, we need to *encode* candidate solutions using an \"alphabet\" analogous to G, A, T, C in DNA.\n",
    "This encoding can be quite abstract.\n",
    "You saw this in the Self Check.\n",
    "There a floating point number was encoded as bits, just as in a computer and a sophisticated decoding scheme was then required.\n",
    "\n",
    "Sometimes, the encoding need not be very complicated at all.\n",
    "For example, in the real-valued GA, discussed in the Lectures, we could represent 2.73 as....2.73.\n",
    "This is similarly true for a string matching problem.\n",
    "We *could* encode \"a\" as \"a\", 97, or '01100001'.\n",
    "And then \"hello\" would be:\n",
    "\n",
    "```\n",
    "[\"h\", \"e\", \"l\", \"l\", \"o\"]\n",
    "```\n",
    "\n",
    "or\n",
    "\n",
    "```\n",
    "[104, 101, 108, 108, 111]\n",
    "```\n",
    "\n",
    "or\n",
    "\n",
    "```\n",
    "0, 1, 1, 0, 1, 0, 0, 0, 0, 1, 1, 0, 0, 1, 0, 1, 0, 1, 1, 0, 1, 1, 0, 0, 0, 1, 1, 0, 1, 1, 0, 0, 0, 1, 1, 0, 1, 1, 1, 1\n",
    "```\n",
    "\n",
    "In Genetics terminology, this is the **chromosome** of the individual. And if this individual had the **phenotype** \"h\" for the first character then they would have the **genotype** for \"h\" (either as \"h\", 104, or 01101000).\n",
    "\n",
    "To keep it straight, think **geno**type is **genes** and **pheno**type is **phenomenon**, the actual thing that the genes express.\n",
    "So while we might encode a number as 10110110 (genotype), the number itself, 182, is what goes into the fitness function.\n",
    "The environment operates on zebras, not the genes for stripes."
   ]
  },
  {
   "cell_type": "markdown",
   "metadata": {},
   "source": [
    "## String Matching\n",
    "\n",
    "You are going to write a Genetic Algorithm that will solve the problem of matching a target string (at least at the start).\n",
    "Now, this is kind of silly because in order for this to work, you need to know the target string and if you know the target string, why are you trying to do it?\n",
    "Well, the problem is *pedagogical*.\n",
    "It's a fun way of visualizing the GA at work, because as the GA finds better and better candidates, they make more and more sense.\n",
    "\n",
    "Now, string matching is not *directly* an optimization problem so this falls under the general category of \"if we convert the problem into an optimization problem we can solve it with an optimization algorithm\" approach to problem solving.\n",
    "This happens all the time.\n",
    "We have a problem.\n",
    "We can't solve it.\n",
    "We convert it to a problem we *can* solve.\n",
    "In this case, we're using the GA to solve the optimization part.\n",
    "\n",
    "And all we need is some sort of measure of the difference between two strings.\n",
    "We can use that measure as a **loss function**.\n",
    "A loss function gives us a score tells us how similar two strings are.\n",
    "The loss function becomes our objective function and we use the GA to minimize it by converting the objective function to a fitness function.\n",
    "So that's the first step, come up with the loss/objective function.\n",
    "The only stipulation is that it must calculate the score based on element to element (character to character) comparisons with no global transformations of the candidate or target strings.\n",
    "\n",
    "And since this is a GA, we need a **genotype**.\n",
    "The genotype for this problem is a list of \"characters\" (individual letters aren't special in Python like they are in some other languages):\n",
    "\n",
    "```\n",
    "[\"h\", \"e\", \"l\", \"l\", \"o\"]\n",
    "```\n",
    "\n",
    "and the **phenotype** is the resulting string:\n",
    "\n",
    "```\n",
    "\"hello\"\n",
    "```\n",
    "\n",
    "In addition to the generic code and problem specific loss function, you'll need to pick parameters for the run.\n",
    "These parameters include:\n",
    "\n",
    "1. population size\n",
    "2. number of generations\n",
    "3. probability of crossover\n",
    "4. probability of mutation\n",
    "\n",
    "You will also need to pick a selection algorithm, either roulette wheel or tournament selection.\n",
    "In the later case, you will need a tournament size.\n",
    "This is all part of the problem.\n",
    "\n",
    "Every **ten** (10) generations, you should print out the fitness, genotype, and phenotype of the best individual in the population for the specific generation.\n",
    "The function should return the best individual *of the entire run*, using the same format."
   ]
  },
  {
   "cell_type": "code",
   "execution_count": 233,
   "metadata": {},
   "outputs": [],
   "source": [
    "ALPHABET = \"abcdefghijklmnopqrstuvwxyz \""
   ]
  },
  {
   "attachments": {},
   "cell_type": "markdown",
   "metadata": {},
   "source": [
    "<a id=\"make_pop\"></a>\n",
    "## make_pop\n",
    "\n",
    "This function returns the a population of random genotypes\n",
    "\n",
    "* **gene_pool** str: string of characters available to be genes\n",
    "* **chrom_size** int: the length of how big the chromosone/genotype can be\n",
    "* **pop_siz** int: number of genotypes to be created in the population\n",
    "\n",
    "\n",
    "**returns** List[List[str]]: contains a list of genotypes- a genotype is a list of strings/chars"
   ]
  },
  {
   "cell_type": "code",
   "execution_count": 234,
   "metadata": {},
   "outputs": [],
   "source": [
    "def make_pop(gene_pool:str, chrom_size:int, pop_size:int) -> List[List[str]]:\n",
    "    \n",
    "    pop = []\n",
    "    for person in range(pop_size):\n",
    "        chrom = []\n",
    "        for gene_index in range(chrom_size):\n",
    "            gene = random.choice(gene_pool)\n",
    "            chrom.append(gene)\n",
    "        pop.append(chrom)\n",
    "    return pop"
   ]
  },
  {
   "cell_type": "code",
   "execution_count": 235,
   "metadata": {},
   "outputs": [],
   "source": [
    "# unit test\n",
    "pop1 = make_pop(ALPHABET, 5, 10)\n",
    "\n",
    "# returns a list of list\n",
    "assert isinstance(pop1[0], list)\n",
    "# returns right lengths\n",
    "assert len(pop1[0]) == 5 and len(pop1) == 10\n",
    "# check if all characters are valid\n",
    "for chrom in pop1:\n",
    "    for gene in chrom:\n",
    "        assert gene in ALPHABET\n"
   ]
  },
  {
   "attachments": {},
   "cell_type": "markdown",
   "metadata": {},
   "source": [
    "<a id=\"matching_fitness\"></a>\n",
    "## matching_fitness\n",
    "\n",
    "Score whether the target genotype matches the person genotype.\n",
    "High score is best. To have the highest score all genes\n",
    "in the person must match the genes in the target at the same location\n",
    "\n",
    "\n",
    "* **target** List[str]: genotype of the target\n",
    "* **person** List[str]: genotype of a single person in the population\n",
    "\n",
    "\n",
    "**returns** int: score of how the genes match"
   ]
  },
  {
   "cell_type": "code",
   "execution_count": 236,
   "metadata": {},
   "outputs": [],
   "source": [
    "def matching_fitness(target:List[str], person:List[str]) -> int:\n",
    "    score = 0\n",
    "    for index in range(len(target)):\n",
    "        if person[index] == target[index]:\n",
    "            score += 1\n",
    "    return score"
   ]
  },
  {
   "cell_type": "code",
   "execution_count": 237,
   "metadata": {},
   "outputs": [],
   "source": [
    "target = ['c','o','g']\n",
    "person1 = ['c','a','t']\n",
    "person2 = ['v','r','w']\n",
    "score1 = matching_fitness(target, target) # same string\n",
    "# assert the score isn't greater than length of target\n",
    "assert score1 <= len(target)\n",
    "\n",
    "# assert the score is correct\n",
    "score2 = matching_fitness(target, person1) # same string\n",
    "assert score2 == 1\n",
    "\n",
    "# assert zero returns if no mathcing chars\n",
    "score3 = matching_fitness(target, person2)\n",
    "assert score3 == 0"
   ]
  },
  {
   "attachments": {},
   "cell_type": "markdown",
   "metadata": {},
   "source": [
    "<a id=\"backwards_fitness\"></a>\n",
    "## backwards_fitness\n",
    "\n",
    "Score whether the target genotype matches the person genotype in reverse order.\n",
    "High score is best. To have the highest score all genes\n",
    "in the person must match the genes in the target in the reverse order\n",
    "\n",
    "\n",
    "* **target** List[str]: genotype of the target\n",
    "* **person** List[str]: genotype of a single person in the population\n",
    "\n",
    "\n",
    "**returns** int: score of how the genes match"
   ]
  },
  {
   "cell_type": "code",
   "execution_count": 238,
   "metadata": {},
   "outputs": [],
   "source": [
    "def backwards_fitness(target:List[str], person:List[str]) -> int:\n",
    "    max_length = len(target) - 1\n",
    "    score = 0\n",
    "\n",
    "    for current_index in range(len(person)):\n",
    "        matching_index = max_length - current_index\n",
    "        if person[current_index] == target[matching_index]:\n",
    "            score += 1\n",
    "    return score\n"
   ]
  },
  {
   "cell_type": "code",
   "execution_count": 239,
   "metadata": {},
   "outputs": [],
   "source": [
    "# unit tests\n",
    "target1 = [\"t\",\"a\", \"c\"]\n",
    "person1 = [\"c\", \"a\", \"t\"]\n",
    "test_score = backwards_fitness(target1, person1)\n",
    "# test the score is the highest for a completely backwards string\n",
    "assert test_score == len(target1)\n",
    "\n",
    "#test same string has a score of zero\n",
    "target2 = [\"z\", \"e\", \"r\", \"o\"]\n",
    "test_score2 = backwards_fitness(target2, target2)\n",
    "assert test_score2 == 0\n",
    "\n",
    "# test a similar string has a score less than max, but greater than 0\n",
    "target3 = [\"t\",\"a\", \"c\", \" \", \"n\",\"i\", \" \", \"t\", \"a\", \"h\"]\n",
    "person3 = [\"c\", \"a\", \"t\", \" \", \"n\",\"i\", \" \", \"t\", \"a\", \"t\"]\n",
    "test_score3 = backwards_fitness(target3, target3)\n",
    "assert test_score3 > 0 and test_score3 < len(target3)\n"
   ]
  },
  {
   "attachments": {},
   "cell_type": "markdown",
   "metadata": {},
   "source": [
    "<a id=\"rot13\"></a>\n",
    "## rot13\n",
    "\n",
    "Score whether the target genotype matches the person genotype from a caesar cipher.\n",
    "High score is best. To have the highest score all genes\n",
    "in the person must match the genes in the target from a shift 13 cipher\n",
    "\n",
    "\n",
    "* **target** List[str]: genotype of the target\n",
    "* **person** List[str]: genotype of a single person in the population\n",
    "* **gene_pool** str: characters available in the cipher. In the order of the alphabet\n",
    "\n",
    "\n",
    "**returns** int: score of how the genes match"
   ]
  },
  {
   "cell_type": "code",
   "execution_count": 240,
   "metadata": {},
   "outputs": [],
   "source": [
    "def rot13(target:List[str], person:List[str], gene_pool: str) -> int:\n",
    "    score = 0\n",
    "    for index in range(len(target)):\n",
    "        # find what letter the person belongs to in gene pool\n",
    "        person_index = gene_pool.index(person[index])\n",
    "        cipher = person_index + 13\n",
    "\n",
    "        # cipher loops around the alphabet\n",
    "        if cipher > 25:\n",
    "            cipher = cipher - 26\n",
    "        \n",
    "        # check if cipher matches\n",
    "        if gene_pool[cipher] == target[index]:\n",
    "            score += 1\n",
    "    return score"
   ]
  },
  {
   "cell_type": "code",
   "execution_count": 241,
   "metadata": {},
   "outputs": [],
   "source": [
    "letters = \"abcdefghijklmnopqrstuvwxyz\"\n",
    "t1 = [\"h\",\"e\",\"l\",\"l\",\"o\"]\n",
    "p1 = [\"u\",\"r\",\"y\",\"y\",\"b\"]\n",
    "\n",
    "# check same string has score of zero\n",
    "s1 = rot13(t1, t1, letters)\n",
    "assert s1 == 0\n",
    "\n",
    "# check score is same lengh as number of char in list\n",
    "s2 = rot13(t1, p1, letters)\n",
    "assert s2 == len(t1)\n",
    "\n",
    "# score is greater than 0 but less than max\n",
    "p1[0] = \"a\"\n",
    "s3 = rot13(t1, p1, letters)\n",
    "assert s3 < len(t1) and s3 > 0"
   ]
  },
  {
   "attachments": {},
   "cell_type": "markdown",
   "metadata": {},
   "source": [
    "<a id=\"fitness\"></a>\n",
    "## fitness\n",
    "\n",
    "Finds the fitness score for each member in the population.\n",
    "Score is based on the fitness method\n",
    "    \n",
    "    - 1 for matching strings exactly\n",
    "    - 2 for matching strings in reverse order\n",
    "    - 3 for a rotate 13 cipher\n",
    "\n",
    "\n",
    "* **pop** List[List[str]]: list of genotypes in the population\n",
    "* **target** List[str]: genotype of the target\n",
    "* **fitness_method** int: method to evaulate the genotypes in the pop\n",
    "* **gene_pool** str: characters available in the cipher. In the order of the alphabet\n",
    "\n",
    "\n",
    "**returns** List[int]: returns a list of scores in the order of the population"
   ]
  },
  {
   "cell_type": "code",
   "execution_count": 242,
   "metadata": {},
   "outputs": [],
   "source": [
    "def fitness(pop: List[List[str]], target:List[str], fitness_method:int, gene_pool:str)-> List[int]:\n",
    "    score_list = []\n",
    "    for person in pop:\n",
    "        \n",
    "        if fitness_method == 1: # problem 1\n",
    "            score = matching_fitness(target, person)\n",
    "\n",
    "        elif fitness_method == 2: # problem 2\n",
    "            score = backwards_fitness(target, person)\n",
    "        else: # problem 3\n",
    "            score = rot13(target, person, gene_pool)\n",
    "        \n",
    "        score_list.append(score) #add the indiv score to list\n",
    "    return score_list"
   ]
  },
  {
   "cell_type": "code",
   "execution_count": 244,
   "metadata": {},
   "outputs": [],
   "source": [
    "letters = \"abcdefghijklmnopqrstuvwxyz\"\n",
    "pop1 = [['a','b','c'] # no matching in order\n",
    ",['c','a','c'] # first two matching\n",
    ",['a','a','a'] # only one matching\n",
    ",['d','o','g']] # no matching\n",
    "target_test = ['c','a','t']\n",
    "score_test = fitness(pop1, target_test, 1, letters)\n",
    "score_test\n",
    "# check score list is size length as population\n",
    "assert len(pop1) == len(score_test)\n",
    "\n",
    "# check no score is greater than len of target\n",
    "for score in score_test:\n",
    "    assert score <= len(target_test)\n",
    "# check score values are correct\n",
    "assert score_test == [0, 2, 1, 0]\n",
    "# check the problem1, problem 2, problem 3 have diff scores\n",
    "score_test2 = fitness(pop1, target_test, 2, letters)\n",
    "score_test3 = fitness(pop1, target_test, 3, letters)\n",
    "assert score_test2 != score_test != score_test3"
   ]
  },
  {
   "attachments": {},
   "cell_type": "markdown",
   "metadata": {},
   "source": [
    "<a id=\"tournament_selection\"></a>\n",
    "## tournament_selection\n",
    "\n",
    "Picks the parents based on a tournament style selection.\n",
    "First pick 7 random genotypes in the population, then do it again.\n",
    "Then pick best of the 7 from both list. The best become the parents \n",
    "\n",
    "\n",
    "* **pop** List[List[str]]: list of genotypes in the population\n",
    "* **scores** List[int]: list of scores for each genotype in the pop\n",
    "\n",
    "\n",
    "\n",
    "**returns** Tuple[List[str],List[str]]: returns two parent genotypes"
   ]
  },
  {
   "cell_type": "code",
   "execution_count": 245,
   "metadata": {},
   "outputs": [],
   "source": [
    "def tournament_selection(pop:List[List[str]], scores:List[int])-> Tuple[List[str],List[str]]:\n",
    "    # get indexes for the random 7 \n",
    "    index_list = [i for i in range(len(pop))]\n",
    "    parent1_index = [random.choice(index_list) for i in range(7)]\n",
    "    parent2_index = [random.choice(index_list) for i in range(7)]\n",
    "\n",
    "    # reduce list to random 7\n",
    "    parent1 = [pop[index] for index in parent1_index]\n",
    "    parent1_scores = [scores[index] for index in parent1_index]\n",
    "    parent2 = [pop[index] for index in parent2_index]\n",
    "    parent2_scores = [scores[index] for index in parent2_index]\n",
    "\n",
    "    # find best parent of the random 7\n",
    "    parent1_best_index = parent1_scores.index(max(parent1_scores))\n",
    "    parent1 = parent1[parent1_best_index]\n",
    "    parent2_best_index = parent2_scores.index(max(parent2_scores))\n",
    "    parent2 = parent2[parent2_best_index]\n",
    "\n",
    "    return parent1, parent2"
   ]
  },
  {
   "cell_type": "code",
   "execution_count": 246,
   "metadata": {},
   "outputs": [],
   "source": [
    "pop1 = make_pop(ALPHABET, 3, 10)\n",
    "score_test = fitness(pop1, target_test, 1, ALPHABET)\n",
    "# test selection function\n",
    "p1, p2 = tournament_selection(pop1, score_test)\n",
    "\n",
    "#check p1 and p2 are same size \n",
    "assert len(p1) == len(p2)\n",
    "\n",
    "# check parents are same size as person in pop\n",
    "assert len(p1) == len(p2) == len(pop1[0])\n",
    "\n",
    "# check p1 and p2 are in population\n",
    "assert p1 in pop1 and p2 in pop1\n"
   ]
  },
  {
   "attachments": {},
   "cell_type": "markdown",
   "metadata": {},
   "source": [
    "<a id=\"mutate\"></a>\n",
    "## mutate\n",
    "\n",
    "Mutates one gene in a genotype. Note there's a possibility that the mutation\n",
    "will still result in the same genotype\n",
    "\n",
    "* **child** List[str]: a genotype in the population\n",
    "* **gene_pool** str: available genes to that a gene can mutate to\n",
    "\n",
    "**returns** List[str]: returns a genotype with the mutation"
   ]
  },
  {
   "cell_type": "code",
   "execution_count": 247,
   "metadata": {},
   "outputs": [],
   "source": [
    "def mutate( child:List[str], gene_pool: str)-> List[str]:\n",
    "    child_mutated = deepcopy(child)\n",
    "    # choose where to mutate and what to mutate to\n",
    "    mutate_index = random.choice([i for i in range(len(child))])\n",
    "    mutate_value = random.choice(gene_pool)\n",
    "    \n",
    "    # update child\n",
    "    child_mutated[mutate_index] = mutate_value\n",
    "\n",
    "    return child_mutated"
   ]
  },
  {
   "cell_type": "code",
   "execution_count": 248,
   "metadata": {},
   "outputs": [],
   "source": [
    "initial_child = ['c','a','t']\n",
    "new_child = mutate( initial_child, ALPHABET)\n",
    "\n",
    "#check length stayed the same\n",
    "assert len(new_child) == len(initial_child)\n",
    "\n",
    "# check new child has valid values\n",
    "for gene in new_child:\n",
    "    assert gene in ALPHABET\n",
    "\n",
    "# a mutatation for the majority of the time should\n",
    "# change the child\n",
    "change_count = 0\n",
    "for experiment in range(10):\n",
    "    new_child = mutate( initial_child, ALPHABET)\n",
    "    if new_child != initial_child:\n",
    "        change_count += 1\n",
    "assert change_count > 0\n"
   ]
  },
  {
   "attachments": {},
   "cell_type": "markdown",
   "metadata": {},
   "source": [
    "<a id=\"crossover\"></a>\n",
    "## crossover\n",
    "\n",
    "Performs crossover on the two genotypes based on the gene index to make two children\n",
    "\n",
    "Cross over\n",
    "\n",
    "first child gets parent one's genes all prior to index and all genes index or greater from parent 2\n",
    "\n",
    "second child gets parent two's genes all prior to index and all genes index or greater from parent 1\n",
    "\n",
    "* **parent1** List[str]: a genotype in the population representing parent 1\n",
    "* **parent2** List[str]: a genotype in the population representing parent 2\n",
    "* **crossover_index** int: index to perform crossover at. Split the genotype\n",
    "\n",
    "**returns** Tuple[List[str],List[str]]: returns two children from crossover"
   ]
  },
  {
   "cell_type": "code",
   "execution_count": 249,
   "metadata": {},
   "outputs": [],
   "source": [
    "def crossover(parent1:List[str], parent2:List[str], crossover_index:int) -> Tuple[List[str],List[str]]:\n",
    "    child1 = parent1[:crossover_index] + parent2[crossover_index:]\n",
    "    child2 = parent2[:crossover_index] + parent1[crossover_index:]\n",
    "\n",
    "    return child1, child2"
   ]
  },
  {
   "cell_type": "code",
   "execution_count": 250,
   "metadata": {},
   "outputs": [],
   "source": [
    "p1 = ['a','b','c','d','e']\n",
    "p2 = ['z','y','x','l','m']\n",
    "\n",
    "c1, c2 = crossover(p1, p2, 2)\n",
    "\n",
    "#check lengths are the same\n",
    "assert len(c1) == len(c2) == len(p1)\n",
    "\n",
    "#check if genes are from both parents\n",
    "parents = p1 + p2\n",
    "for gene in c1:\n",
    "    assert gene in parents\n",
    "for gene in c2:\n",
    "    assert gene in parents\n",
    "\n",
    "# check if a valid cross over\n",
    "assert c1 == ['a', 'b', 'x', 'l', 'm']\n",
    "assert c2 == ['z', 'y', 'c', 'd', 'e']"
   ]
  },
  {
   "attachments": {},
   "cell_type": "markdown",
   "metadata": {},
   "source": [
    "<a id=\"reproduce\"></a>\n",
    "## reproduce\n",
    "\n",
    "Creates the two child from crossover followed by mutation\n",
    "\n",
    "* **parent1** List[str]: a genotype in the population representing parent 1\n",
    "* **parent2** List[str]: a genotype in the population representing parent 2\n",
    "* **crossover_index** int: index to perform crossover at. Split the genotype\n",
    "* **crossover_rate** float: rate crossover is successful. \n",
    "* **mutation_rate** float: rate mutation is successful. \n",
    "* **gene_pool** str: genes available (chars)\n",
    "\n",
    "**returns** Tuple[List[str],List[str]]: returns two children"
   ]
  },
  {
   "cell_type": "code",
   "execution_count": 251,
   "metadata": {},
   "outputs": [],
   "source": [
    "def reproduce(parent1:List[str], parent2:List[str], crossover_index: int, crossover_rate:float, mutation_rate:float, gene_pool:str)-> Tuple[List[str],List[str]]:\n",
    "    crossover_prob = random.random() # between 0 and 1\n",
    "    mutation_prob = random.random() #between 0 and 1\n",
    "\n",
    "    if crossover_prob < crossover_rate: #sucess\n",
    "        child1, child2 = crossover(parent1, parent2, crossover_index)\n",
    "    else:\n",
    "        child1 = deepcopy(parent1)\n",
    "        child2 = deepcopy(parent2)\n",
    "    \n",
    "    if mutation_prob < mutation_rate:\n",
    "        child1 = mutate( child1, gene_pool)\n",
    "        child2 = mutate( child2, gene_pool)\n",
    "\n",
    "    return child1, child2"
   ]
  },
  {
   "cell_type": "code",
   "execution_count": 252,
   "metadata": {},
   "outputs": [],
   "source": [
    "p1 = ['a','b','c','d','e']\n",
    "p2 = ['z','y','x','l','m']\n",
    "c1, c2 = reproduce(p1, p2, 2, .90, .05, ALPHABET)\n",
    "\n",
    "#check sizes are the same\n",
    "assert len(c1) == len(c2) == len(p1)\n",
    "\n",
    "#check if genes are from both parents\n",
    "parents = p1 + p2\n",
    "for gene in c1:\n",
    "    assert gene in parents\n",
    "for gene in c2:\n",
    "    assert gene in parents\n",
    "\n",
    "# check that the majority of the time change happens. Children are not parents\n",
    "change = 0\n",
    "for experiment in range(10):\n",
    "    c1, c2 = reproduce(p1, p2, 2, .90, .05, ALPHABET)\n",
    "    if c1 != p1: change += 1\n",
    "assert change > 0"
   ]
  },
  {
   "attachments": {},
   "cell_type": "markdown",
   "metadata": {},
   "source": [
    "<a id=\"make_family\"></a>\n",
    "## make_family\n",
    "\n",
    "Creates parents, followed by making children.\n",
    "A list of the two children is returned\n",
    "\n",
    "\n",
    "* **pop** List[List[str]]: list of genotypes\n",
    "* **scores** List[int]: list of scores per genotype in population\n",
    "* **params** dictionary: dictionary containing crossover and mutation fields\n",
    "\n",
    "**returns** List[List[str]]: returns a list of two children"
   ]
  },
  {
   "cell_type": "code",
   "execution_count": 253,
   "metadata": {},
   "outputs": [],
   "source": [
    "def make_family(pop:List[List[str]],scores:List[int], params:Dict)-> List[List[str]]:\n",
    "\n",
    "    crossover_index = params[\"crossover_index\"]\n",
    "    crossover_rate = params[\"crossover_rate\"]\n",
    "    mutation_rate = params[\"mutation_rate\"]\n",
    "    gene_pool = params[\"gene_pool\"]\n",
    "\n",
    "    parent1, parent2 = tournament_selection(pop, scores)\n",
    "    child1, child2 = reproduce(parent1, parent2, crossover_index, crossover_rate, mutation_rate, gene_pool)\n",
    "\n",
    "    return [child1, child2]"
   ]
  },
  {
   "cell_type": "code",
   "execution_count": 254,
   "metadata": {},
   "outputs": [],
   "source": [
    "pop1 =  make_pop(ALPHABET, 3, 5)\n",
    "scores = [1,5, 10, 4, 6]\n",
    "test_params = {\"crossover_index\": 1, \"crossover_rate\": .08\n",
    ", \"mutation_rate\": .05, \"gene_pool\": ALPHABET}\n",
    "\n",
    "family = make_family(pop1,scores, test_params)\n",
    "\n",
    "#check a list of list is returned\n",
    "assert isinstance(family, list)\n",
    "assert isinstance(family[0], list)\n",
    "\n",
    "#check only 2 children are returned\n",
    "assert len(family) == 2\n",
    "\n",
    "# check children are valid characters\n",
    "for child in family:\n",
    "    for ch in child:\n",
    "        assert ch in ALPHABET"
   ]
  },
  {
   "attachments": {},
   "cell_type": "markdown",
   "metadata": {},
   "source": [
    "<a id=\"find_best\"></a>\n",
    "## find_best\n",
    "\n",
    "Finds the genotype with highest score in the population.\n",
    "Returns a dictionary of the fitness score, genotype and phenotype\n",
    "\n",
    "\n",
    "* **pop** List[List[str]]: list of genotypes\n",
    "* **scores** List[int]: list of scores per genotype in population\n",
    "\n",
    "**returns** dict: the best score, genotype and phenotype in the population"
   ]
  },
  {
   "cell_type": "code",
   "execution_count": 255,
   "metadata": {},
   "outputs": [],
   "source": [
    "def find_best(pop:List[List[str]], scores:List[int]) -> List[str]:\n",
    "    best = {}\n",
    "    # find best score\n",
    "    best_index =scores.index(max(scores))\n",
    "    best[\"fitness\"] = scores[best_index]\n",
    "    best[\"genotype\"] = pop[best_index]\n",
    "    best[\"phenotype\"] = ''.join(best[\"genotype\"])\n",
    "\n",
    "    return best"
   ]
  },
  {
   "cell_type": "code",
   "execution_count": 256,
   "metadata": {},
   "outputs": [
    {
     "name": "stdout",
     "output_type": "stream",
     "text": [
      "[['x', 'g', 'l'], ['q', 'k', 'p'], ['k', ' ', 'k'], ['e', 'y', 'g'],\n",
      " ['s', 'i', 's']]\n",
      "{'fitness': 10, 'genotype': ['k', ' ', 'k'], 'phenotype': 'k k'}\n"
     ]
    }
   ],
   "source": [
    "pop1 =  make_pop(ALPHABET, 3, 5)\n",
    "scores = [1,5, 10, 4, 6]\n",
    "pprint(pop1, compact=True)\n",
    "\n",
    "scores_family = find_best(pop1, scores)\n",
    "pprint(scores_family, compact=True)\n",
    "\n",
    "# check three keys present\n",
    "keys = [\"fitness\", \"genotype\", \"phenotype\"]\n",
    "assert list(scores_family.keys()) == keys\n",
    "\n",
    "# check size of genotype and phenotype match\n",
    "assert len(scores_family[\"genotype\"]) == len(scores_family[\"phenotype\"])\n",
    "\n",
    "# check the fitness score is correct. The true max\n",
    "assert scores_family[\"fitness\"] == 10\n"
   ]
  },
  {
   "attachments": {},
   "cell_type": "markdown",
   "metadata": {},
   "source": [
    "<a id=\"genetic_algorithm\"></a>\n",
    "### genetic_algorithm\n",
    "\n",
    "A search algorithm based on natural selection and genetics.\n",
    "This algorithm produces a random population of genoptypes,\n",
    "encodes the target. The search will stop once the target is reached\n",
    "or time runs out (limit). The search happens from genotypes changing based on crossover and mutation\n",
    "\n",
    "This algorithm requires many arguments and most are stored as values in the params dictionary\n",
    "\n",
    "* **target** string: phenotype of the target to search for\n",
    "* **parms** dict: additional values needed for separate functions within the algo. Keys include\n",
    "    - **gene_pool** str: list of genes available in encoding\n",
    "    - **limit** int: max number of iterations\n",
    "    - **pop_size** int: number of genotypes in the population\n",
    "    - **fitness_method** int: way to score the genotypes\n",
    "    - **crossover_index** int: index to perform crossover at. The split index\n",
    "    - **crossover_rate** float: rate to perform crossover\n",
    "    - **mutation_rate** float: rate to perform mutation\n",
    "    \n",
    "\n",
    "**returns** dict: the best score, genotype and phenotype in the population"
   ]
  },
  {
   "cell_type": "code",
   "execution_count": 257,
   "metadata": {},
   "outputs": [],
   "source": [
    "def genetic_algorithm(target:str, params:dict)->dict: # add your formal parameters\n",
    "    generation = 0\n",
    "    pop = make_pop(params[\"gene_pool\"], len(target), params[\"pop_size\"])\n",
    "    target_genotype = [chr for chr in target]# maybe move to pre-processing\n",
    "\n",
    "    while generation < params[\"limit\"]:\n",
    "        scores = fitness(pop, target_genotype, params[\"fitness_method\"],params[\"gene_pool\"])\n",
    "        if max(scores) == len(target): # all char match\n",
    "            return find_best(pop, scores)\n",
    "        if generation % 10 == 0: # print every 10 gens\n",
    "            print(\"Generation:\", generation)\n",
    "            pprint(find_best(pop, scores), compact=True)\n",
    "        \n",
    "        new_pop = []\n",
    "        for n in range(int(params[\"pop_size\"]/2)):\n",
    "            new_pop += make_family(pop,scores, params)\n",
    "            \n",
    "        pop = new_pop\n",
    "        generation += 1\n",
    "    return find_best(pop, scores)"
   ]
  },
  {
   "cell_type": "markdown",
   "metadata": {},
   "source": [
    "## Problem 1\n",
    "\n",
    "The target is the string \"this is so much fun\".\n",
    "The challenge, aside from implementing the basic algorithm, is deriving a fitness function based on \"b\" - \"p\" (for example).\n",
    "The fitness function should come up with a fitness score based on element to element comparisons between target v. phenotype."
   ]
  },
  {
   "cell_type": "code",
   "execution_count": 258,
   "metadata": {},
   "outputs": [],
   "source": [
    "target1 = \"this is so much fun\""
   ]
  },
  {
   "cell_type": "code",
   "execution_count": 259,
   "metadata": {},
   "outputs": [],
   "source": [
    "# set up parameters\n",
    "parameters = {\n",
    "    \"gene_pool\" : ALPHABET\n",
    "  , \"limit\": 1500\n",
    "  , \"pop_size\": 500\n",
    "  , \"fitness_method\": 1\n",
    "  , \"crossover_index\": 4\n",
    "  , \"crossover_rate\": .90\n",
    "  , \"mutation_rate\": .05\n",
    "}"
   ]
  },
  {
   "cell_type": "code",
   "execution_count": 260,
   "metadata": {},
   "outputs": [
    {
     "name": "stdout",
     "output_type": "stream",
     "text": [
      "Generation: 0\n",
      "{'fitness': 5,\n",
      " 'genotype': ['z', 'r', 'i', 'l', 'n', ' ', 'j', 'c', 's', 'o', 'p', 't', 'v',\n",
      "              'c', 'r', ' ', 'i', 'z', 'y'],\n",
      " 'phenotype': 'zriln jcsoptvcr izy'}\n",
      "Generation: 10\n",
      "{'fitness': 8,\n",
      " 'genotype': ['t', 'h', 'i', 's', 'n', ' ', 'j', 'c', 's', 'o', 'p', 't', 'v',\n",
      "              'c', 'r', ' ', 'i', 'z', 'y'],\n",
      " 'phenotype': 'thisn jcsoptvcr izy'}\n",
      "Generation: 20\n",
      "{'fitness': 10,\n",
      " 'genotype': ['t', 'h', 'i', 's', 'j', 'g', 's', ' ', 's', 'c', 'i', 'j', 'h',\n",
      "              'l', 'h', ' ', 'e', 'f', 'n'],\n",
      " 'phenotype': 'thisjgs scijhlh efn'}\n",
      "Generation: 30\n",
      "{'fitness': 12,\n",
      " 'genotype': ['t', 'h', 'i', 's', 'j', 'g', 's', ' ', 's', 'c', ' ', 'j', 'u',\n",
      "              'l', 'h', ' ', 'e', 'f', 'n'],\n",
      " 'phenotype': 'thisjgs sc julh efn'}\n",
      "Generation: 40\n",
      "{'fitness': 14,\n",
      " 'genotype': ['t', 'h', 'i', 's', 'j', 'i', 's', ' ', 's', 'c', ' ', 'j', 'u',\n",
      "              'l', 'h', ' ', 'f', 'f', 'n'],\n",
      " 'phenotype': 'thisjis sc julh ffn'}\n",
      "Generation: 50\n",
      "{'fitness': 15,\n",
      " 'genotype': ['t', 'h', 'i', 's', 'j', 'i', 's', ' ', 's', 'c', ' ', 'j', 'u',\n",
      "              'l', 'h', ' ', 'f', 'u', 'n'],\n",
      " 'phenotype': 'thisjis sc julh fun'}\n",
      "Generation: 60\n",
      "{'fitness': 16,\n",
      " 'genotype': ['t', 'h', 'i', 's', ' ', 'i', 's', ' ', 's', 'c', ' ', 'm', 'u',\n",
      "              'l', 'h', ' ', 'f', 'f', 'n'],\n",
      " 'phenotype': 'this is sc mulh ffn'}\n",
      "Generation: 70\n",
      "{'fitness': 17,\n",
      " 'genotype': ['t', 'h', 'i', 's', ' ', 'i', 's', ' ', 's', 'c', ' ', 'm', 'u',\n",
      "              'l', 'h', ' ', 'f', 'u', 'n'],\n",
      " 'phenotype': 'this is sc mulh fun'}\n",
      "Generation: 80\n",
      "{'fitness': 17,\n",
      " 'genotype': ['t', 'h', 'i', 's', ' ', 'i', 's', ' ', 's', 'c', ' ', 'm', 'u',\n",
      "              'l', 'h', ' ', 'f', 'u', 'n'],\n",
      " 'phenotype': 'this is sc mulh fun'}\n",
      "Generation: 90\n",
      "{'fitness': 18,\n",
      " 'genotype': ['t', 'h', 'i', 's', ' ', 'i', 's', ' ', 's', 'o', ' ', 'm', 'u',\n",
      "              'l', 'h', ' ', 'f', 'u', 'n'],\n",
      " 'phenotype': 'this is so mulh fun'}\n",
      "Generation: 100\n",
      "{'fitness': 18,\n",
      " 'genotype': ['t', 'h', 'i', 's', ' ', 'i', 's', ' ', 's', 'o', ' ', 'm', 'u',\n",
      "              'm', 'h', ' ', 'f', 'u', 'n'],\n",
      " 'phenotype': 'this is so mumh fun'}\n",
      "Generation: 110\n",
      "{'fitness': 18,\n",
      " 'genotype': ['t', 'h', 'i', 's', ' ', 'i', 's', ' ', 's', 'o', ' ', 'm', 'u',\n",
      "              'l', 'h', ' ', 'f', 'u', 'n'],\n",
      " 'phenotype': 'this is so mulh fun'}\n",
      "Generation: 120\n",
      "{'fitness': 18,\n",
      " 'genotype': ['t', 'h', 'i', 's', ' ', 'i', 's', ' ', 's', 'o', ' ', 'm', 'u',\n",
      "              'l', 'h', ' ', 'f', 'u', 'n'],\n",
      " 'phenotype': 'this is so mulh fun'}\n",
      "Generation: 130\n",
      "{'fitness': 18,\n",
      " 'genotype': ['t', 'h', 'i', 's', ' ', 'i', 's', ' ', 's', 'o', ' ', 'm', 'u',\n",
      "              'l', 'h', ' ', 'f', 'u', 'n'],\n",
      " 'phenotype': 'this is so mulh fun'}\n"
     ]
    }
   ],
   "source": [
    "result1 = genetic_algorithm(target1, parameters) # do what you need to do for your implementation but don't change the lines above or below."
   ]
  },
  {
   "cell_type": "code",
   "execution_count": 261,
   "metadata": {},
   "outputs": [
    {
     "name": "stdout",
     "output_type": "stream",
     "text": [
      "{'fitness': 19,\n",
      " 'genotype': ['t', 'h', 'i', 's', ' ', 'i', 's', ' ', 's', 'o', ' ', 'm', 'u',\n",
      "              'c', 'h', ' ', 'f', 'u', 'n'],\n",
      " 'phenotype': 'this is so much fun'}\n"
     ]
    }
   ],
   "source": [
    "pprint(result1, compact=True)"
   ]
  },
  {
   "cell_type": "markdown",
   "metadata": {},
   "source": [
    "## Problem 2\n",
    "\n",
    "You should have working code now.\n",
    "The goal here is to think a bit more about fitness functions.\n",
    "The target string is now, 'nuf hcum os si siht'.\n",
    "This is obviously target #1 but reversed.\n",
    "If we just wanted to match the string, this would be trivial.\n",
    "Instead, this problem, we want to \"decode\" the string so that the best individual displays the target forwards.\n",
    "In order to do this, you'll need to come up with a fitness function that measures how successful candidates are towards this goal.\n",
    "The constraint is that you may not perform any global operations on the target or individuals.\n",
    "Your fitness function must still compare a single gene against a single gene.\n",
    "Your solution will likely not be Pythonic but use indexing.\n",
    "That's ok.\n",
    "<div style=\"background: lemonchiffon; margin:20px; padding: 20px;\">\n",
    "    <strong>Important</strong>\n",
    "    <p>\n",
    "        You may not reverse an entire string (either target or candidate) at any time.\n",
    "        Everything must be a computation of one gene against one gene (one letter against one letter).\n",
    "        Failure to follow these directions will result in 0 points for the problem.\n",
    "    </p>\n",
    "</div>\n",
    "\n",
    "The best individual in the population is the one who expresses this string *forwards*."
   ]
  },
  {
   "cell_type": "code",
   "execution_count": 262,
   "metadata": {},
   "outputs": [],
   "source": [
    "target2 = \"nuf hcum os si siht\" # fitness function should check if this is backwards\n",
    "# index to index compare, \n",
    "# first should be last of target\n",
    "# so chromosone of this is so much fun should have highest score"
   ]
  },
  {
   "cell_type": "code",
   "execution_count": 263,
   "metadata": {},
   "outputs": [],
   "source": [
    "# set up parameters\n",
    "parameters2 = {\n",
    "    \"gene_pool\" : ALPHABET\n",
    "  , \"limit\": 1500\n",
    "  , \"pop_size\": 500\n",
    "  , \"fitness_method\": 2\n",
    "  , \"crossover_index\": 4\n",
    "  , \"crossover_rate\": .90\n",
    "  , \"mutation_rate\": .05\n",
    "}"
   ]
  },
  {
   "cell_type": "code",
   "execution_count": 264,
   "metadata": {},
   "outputs": [
    {
     "name": "stdout",
     "output_type": "stream",
     "text": [
      "Generation: 0\n",
      "{'fitness': 4,\n",
      " 'genotype': ['q', 'q', 'p', 'p', 'h', 'i', 'l', ' ', 'p', 'o', 'v', 'y', 'g',\n",
      "              'y', 'h', 'w', 'x', 's', 'r'],\n",
      " 'phenotype': 'qqpphil povygyhwxsr'}\n",
      "Generation: 10\n",
      "{'fitness': 9,\n",
      " 'genotype': ['y', 'h', 'i', 's', ' ', 'i', 's', 'b', 'l', 'w', 'k', 'm', 'z',\n",
      "              'c', 'f', 'w', 'j', 'c', 'n'],\n",
      " 'phenotype': 'yhis isblwkmzcfwjcn'}\n",
      "Generation: 20\n",
      "{'fitness': 12,\n",
      " 'genotype': ['t', 'h', 'i', 's', ' ', 'i', 'a', ' ', 'l', 'w', 'k', 'm', 'z',\n",
      "              'c', 'h', ' ', 'j', 'c', 'n'],\n",
      " 'phenotype': 'this ia lwkmzch jcn'}\n",
      "Generation: 30\n",
      "{'fitness': 14,\n",
      " 'genotype': ['t', 'h', 'i', 's', ' ', 'i', 'a', ' ', 's', 'w', 'k', 'm', 'z',\n",
      "              'c', 'h', ' ', 'j', 'u', 'n'],\n",
      " 'phenotype': 'this ia swkmzch jun'}\n",
      "Generation: 40\n",
      "{'fitness': 14,\n",
      " 'genotype': ['t', 'h', 'i', 's', ' ', 'i', 'a', ' ', 's', 'w', 'k', 'm', 'z',\n",
      "              'c', 'h', ' ', 'j', 'u', 'n'],\n",
      " 'phenotype': 'this ia swkmzch jun'}\n",
      "Generation: 50\n",
      "{'fitness': 16,\n",
      " 'genotype': ['t', 'h', 'i', 's', ' ', 'i', 's', ' ', 's', 'w', ' ', 'm', 'z',\n",
      "              'c', 'h', ' ', 'j', 'u', 'n'],\n",
      " 'phenotype': 'this is sw mzch jun'}\n",
      "Generation: 60\n",
      "{'fitness': 16,\n",
      " 'genotype': ['t', 'h', 'i', 's', ' ', 'i', 's', ' ', 's', 'w', ' ', 'm', 'z',\n",
      "              'c', 'h', ' ', 'j', 'u', 'n'],\n",
      " 'phenotype': 'this is sw mzch jun'}\n",
      "Generation: 70\n",
      "{'fitness': 18,\n",
      " 'genotype': ['t', 'h', 'i', 's', ' ', 'i', 's', ' ', 's', 'o', ' ', 'm', 'u',\n",
      "              'c', 'h', ' ', 'j', 'u', 'n'],\n",
      " 'phenotype': 'this is so much jun'}\n"
     ]
    }
   ],
   "source": [
    "result2 = genetic_algorithm(target2, parameters2) # do what you need to do for your implementation but don't change the lines above or below."
   ]
  },
  {
   "cell_type": "code",
   "execution_count": 265,
   "metadata": {},
   "outputs": [
    {
     "name": "stdout",
     "output_type": "stream",
     "text": [
      "{'fitness': 19,\n",
      " 'genotype': ['t', 'h', 'i', 's', ' ', 'i', 's', ' ', 's', 'o', ' ', 'm', 'u',\n",
      "              'c', 'h', ' ', 'f', 'u', 'n'],\n",
      " 'phenotype': 'this is so much fun'}\n"
     ]
    }
   ],
   "source": [
    "pprint(result2, compact=True)"
   ]
  },
  {
   "cell_type": "markdown",
   "metadata": {},
   "source": [
    "## Problem 3\n",
    "\n",
    "This is a variation on the theme of Problem 2.\n",
    "The Caeser Cypher replaces each letter of a string with the letter 13 characters down alphabet (rotating from \"z\" back to \"a\" as needed).\n",
    "This is also known as ROT13 (for \"rotate 13\").\n",
    "Latin did not have spaces (and the space is not continguous with the letters a-z) so we'll remove them from our alphabet.\n",
    "Again, the goal is to derive a fitness function that compares a single gene against a single gene, without global transformations.\n",
    "This fitness function assigns higher scores to individuals that correctly decode the target.\n",
    "\n",
    "<div style=\"background: lemonchiffon; margin:20px; padding: 20px;\">\n",
    "    <strong>Important</strong>\n",
    "    <p>\n",
    "        You may not apply ROT13 to an entire string (either target or candidate) at any time.\n",
    "        Everything must be a computation of one gene against one gene.\n",
    "        Failure to follow these directions will result in 0 points for the problem.\n",
    "    </p>\n",
    "</div>\n",
    "\n",
    "The best individual will express the target *decoded*."
   ]
  },
  {
   "cell_type": "code",
   "execution_count": 266,
   "metadata": {},
   "outputs": [],
   "source": [
    "ALPHABET3 = \"abcdefghijklmnopqrstuvwxyz\""
   ]
  },
  {
   "cell_type": "code",
   "execution_count": 267,
   "metadata": {},
   "outputs": [],
   "source": [
    "target3 = \"guvfvffbzhpusha\""
   ]
  },
  {
   "cell_type": "code",
   "execution_count": 268,
   "metadata": {},
   "outputs": [],
   "source": [
    "# set up parameters\n",
    "parameters3 = {\n",
    "    \"gene_pool\" : ALPHABET3\n",
    "  , \"limit\": 1500\n",
    "  , \"pop_size\": 500\n",
    "  , \"fitness_method\": 3\n",
    "  , \"crossover_index\": 4\n",
    "  , \"crossover_rate\": .90\n",
    "  , \"mutation_rate\": .05\n",
    "}"
   ]
  },
  {
   "cell_type": "code",
   "execution_count": 269,
   "metadata": {},
   "outputs": [
    {
     "name": "stdout",
     "output_type": "stream",
     "text": [
      "Generation: 0\n",
      "{'fitness': 4,\n",
      " 'genotype': ['t', 'y', 'e', 't', 'i', 'q', 'r', 'w', 'n', 'v', 'c', 'r', 'l',\n",
      "              'w', 'n'],\n",
      " 'phenotype': 'tyetiqrwnvcrlwn'}\n",
      "Generation: 10\n",
      "{'fitness': 7,\n",
      " 'genotype': ['t', 'h', 'q', 's', 'm', 'w', 's', 'o', 'v', 'u', 'n', 'u', 'i',\n",
      "              'c', 'n'],\n",
      " 'phenotype': 'thqsmwsovunuicn'}\n",
      "Generation: 20\n",
      "{'fitness': 11,\n",
      " 'genotype': ['t', 'h', 'i', 's', 'i', 's', 's', 'o', 'v', 'u', 'n', 'u', 'i',\n",
      "              'u', 'n'],\n",
      " 'phenotype': 'thisissovunuiun'}\n",
      "Generation: 30\n",
      "{'fitness': 12,\n",
      " 'genotype': ['t', 'h', 'i', 's', 'i', 's', 's', 'o', 'v', 'u', 'n', 'h', 'i',\n",
      "              'u', 'n'],\n",
      " 'phenotype': 'thisissovunhiun'}\n",
      "Generation: 40\n",
      "{'fitness': 14,\n",
      " 'genotype': ['t', 'h', 'i', 's', 'i', 's', 's', 'o', 'm', 'u', 'c', 'h', 'i',\n",
      "              'u', 'n'],\n",
      " 'phenotype': 'thisissomuchiun'}\n"
     ]
    }
   ],
   "source": [
    "result3 = genetic_algorithm(target3, parameters3)"
   ]
  },
  {
   "cell_type": "code",
   "execution_count": 270,
   "metadata": {},
   "outputs": [
    {
     "name": "stdout",
     "output_type": "stream",
     "text": [
      "{'fitness': 15,\n",
      " 'genotype': ['t', 'h', 'i', 's', 'i', 's', 's', 'o', 'm', 'u', 'c', 'h', 'f',\n",
      "              'u', 'n'],\n",
      " 'phenotype': 'thisissomuchfun'}\n"
     ]
    }
   ],
   "source": [
    "pprint(result3, compact=True)"
   ]
  },
  {
   "cell_type": "markdown",
   "metadata": {},
   "source": [
    "## Problem 4\n",
    "\n",
    "There is no code for this problem.\n",
    "\n",
    "In Problem 3, we assumed we knew what the shift was in ROT-13.\n",
    "What if we didn't?\n",
    "Describe how you might solve that problem including a description of the solution encoding (chromosome and interpretation) and fitness function. Assume we can add spaces into the message."
   ]
  },
  {
   "attachments": {},
   "cell_type": "markdown",
   "metadata": {},
   "source": [
    "If we assume spaces are in the message, then our gene pool would have a size of 27 (all letters 26 + one char)\n",
    "\n",
    "*fitness_any_caesar_cipher (target, person, gene_pool, shift_number)*\n",
    "    \n",
    "    score = 0 \n",
    "    loop through index i in size of target\n",
    "        gene_index = index of char at index i in person\n",
    "\n",
    "        cipher_index = gene_index + gshift_number\n",
    "        cipher_index = cipher_index % 27 # mod of lenght of gene_pool\n",
    "\n",
    "        if gene_pool at cipher index equals target at index i\n",
    "            score increments by one\n"
   ]
  },
  {
   "cell_type": "markdown",
   "metadata": {},
   "source": [
    "## Challenge\n",
    "\n",
    "**You do not need to do this problem and it won't be graded if you do. It's just here if you want to push your understanding.**\n",
    "\n",
    "The original GA used binary encodings for everything.\n",
    "We're basically using a Base 27 encoding.\n",
    "You could, however, write a version of the algorithm that uses an 8 bit encoding for each letter (ignore spaces as they're a bit of a bother).\n",
    "That is, a 4 letter candidate looks like this:\n",
    "\n",
    "```\n",
    "0, 1, 1, 0, 1, 0, 0, 0, 0, 1, 1, 0, 0, 1, 0, 1, 0, 1, 1, 0, 1, 1, 0, 0, 0, 1, 1, 0, 1, 1, 0, 0, 0, 1, 1, 0, 1, 1, 1, 1\n",
    "```\n",
    "\n",
    "If you wrote your `genetic_algorithm` code general enough, with higher order functions, you should be able to implement it using bit strings instead of latin strings."
   ]
  },
  {
   "cell_type": "markdown",
   "metadata": {},
   "source": [
    "## Before You Submit...\n",
    "\n",
    "1. Did you provide output exactly as requested?\n",
    "2. Did you re-execute the entire notebook? (\"Restart Kernel and Rull All Cells...\")\n",
    "3. If you did not complete the assignment or had difficulty please explain what gave you the most difficulty in the Markdown cell below.\n",
    "4. Did you change the name of the file to `jhed_id.ipynb`?\n",
    "\n",
    "Do not submit any other files."
   ]
  }
 ],
 "metadata": {
  "kernelspec": {
   "display_name": "en605645",
   "language": "python",
   "name": "python3"
  },
  "language_info": {
   "codemirror_mode": {
    "name": "ipython",
    "version": 3
   },
   "file_extension": ".py",
   "mimetype": "text/x-python",
   "name": "python",
   "nbconvert_exporter": "python",
   "pygments_lexer": "ipython3",
   "version": "3.10.5"
  },
  "toc": {
   "colors": {
    "hover_highlight": "#DAA520",
    "navigate_num": "#000000",
    "navigate_text": "#333333",
    "running_highlight": "#FF0000",
    "selected_highlight": "#FFD700",
    "sidebar_border": "#EEEEEE",
    "wrapper_background": "#FFFFFF"
   },
   "moveMenuLeft": true,
   "nav_menu": {
    "height": "120px",
    "width": "252px"
   },
   "navigate_menu": true,
   "number_sections": true,
   "sideBar": true,
   "threshold": 4,
   "toc_cell": false,
   "toc_section_display": "block",
   "toc_window_display": false,
   "widenNotebook": false
  },
  "vscode": {
   "interpreter": {
    "hash": "e906c7fbe804ec0c103892f23dd17a311766537948dcf2ae45407952f88d8394"
   }
  }
 },
 "nbformat": 4,
 "nbformat_minor": 4
}
